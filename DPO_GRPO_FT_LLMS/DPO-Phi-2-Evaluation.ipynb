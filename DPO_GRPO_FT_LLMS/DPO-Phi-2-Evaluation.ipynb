{
 "cells": [
  {
   "cell_type": "markdown",
   "metadata": {},
   "source": [
    "## DPO Fine Tuning Evaluation using LLM as a Judge (GPT-3.5 Turbo)\n",
    "### Phi-2"
   ]
  },
  {
   "cell_type": "code",
   "execution_count": 1,
   "metadata": {
    "_cell_guid": "b1076dfc-b9ad-4769-8c92-a6c4dae69d19",
    "_uuid": "8f2839f25d086af736a60e9eeb907d3b93b6e0e5",
    "execution": {
     "iopub.execute_input": "2025-04-06T03:37:55.992100Z",
     "iopub.status.busy": "2025-04-06T03:37:55.991792Z",
     "iopub.status.idle": "2025-04-06T03:38:35.891328Z",
     "shell.execute_reply": "2025-04-06T03:38:35.890476Z",
     "shell.execute_reply.started": "2025-04-06T03:37:55.992078Z"
    },
    "trusted": true
   },
   "outputs": [
    {
     "name": "stdout",
     "output_type": "stream",
     "text": [
      "  Preparing metadata (setup.py) ... \u001b[?25l\u001b[?25hdone\n",
      "\u001b[2K     \u001b[90m━━━━━━━━━━━━━━━━━━━━━━━━━━━━━━━━━━━━━━━━\u001b[0m \u001b[32m81.3/81.3 kB\u001b[0m \u001b[31m3.0 MB/s\u001b[0m eta \u001b[36m0:00:00\u001b[0m\n",
      "\u001b[2K   \u001b[90m━━━━━━━━━━━━━━━━━━━━━━━━━━━━━━━━━━━━━━━━\u001b[0m \u001b[32m581.8/581.8 kB\u001b[0m \u001b[31m13.7 MB/s\u001b[0m eta \u001b[36m0:00:00\u001b[0m00:01\u001b[0m\n",
      "\u001b[2K   \u001b[90m━━━━━━━━━━━━━━━━━━━━━━━━━━━━━━━━━━━━━━━━\u001b[0m \u001b[32m55.9/55.9 kB\u001b[0m \u001b[31m3.3 MB/s\u001b[0m eta \u001b[36m0:00:00\u001b[0m\n",
      "\u001b[2K   \u001b[90m━━━━━━━━━━━━━━━━━━━━━━━━━━━━━━━━━━━━━━━━\u001b[0m \u001b[32m118.9/118.9 kB\u001b[0m \u001b[31m5.5 MB/s\u001b[0m eta \u001b[36m0:00:00\u001b[0m\n",
      "\u001b[2K   \u001b[90m━━━━━━━━━━━━━━━━━━━━━━━━━━━━━━━━━━━━━━━━\u001b[0m \u001b[32m65.2/65.2 kB\u001b[0m \u001b[31m4.4 MB/s\u001b[0m eta \u001b[36m0:00:00\u001b[0m\n",
      "\u001b[2K   \u001b[90m━━━━━━━━━━━━━━━━━━━━━━━━━━━━━━━━━━━━━━━━\u001b[0m \u001b[32m183.4/183.4 kB\u001b[0m \u001b[31m14.0 MB/s\u001b[0m eta \u001b[36m0:00:00\u001b[0m\n",
      "\u001b[2K   \u001b[90m━━━━━━━━━━━━━━━━━━━━━━━━━━━━━━━━━━━━━━━━\u001b[0m \u001b[32m1.8/1.8 MB\u001b[0m \u001b[31m46.0 MB/s\u001b[0m eta \u001b[36m0:00:00\u001b[0m:00:01\u001b[0m\n",
      "\u001b[2K   \u001b[90m━━━━━━━━━━━━━━━━━━━━━━━━━━━━━━━━━━━━━━━━\u001b[0m \u001b[32m86.0/86.0 kB\u001b[0m \u001b[31m5.7 MB/s\u001b[0m eta \u001b[36m0:00:00\u001b[0m\n",
      "\u001b[2K   \u001b[90m━━━━━━━━━━━━━━━━━━━━━━━━━━━━━━━━━━━━━━━━\u001b[0m \u001b[32m2.5/2.5 MB\u001b[0m \u001b[31m81.2 MB/s\u001b[0m eta \u001b[36m0:00:00\u001b[0m\n",
      "\u001b[2K   \u001b[90m━━━━━━━━━━━━━━━━━━━━━━━━━━━━━━━━━━━━━━━━\u001b[0m \u001b[32m61.3/61.3 kB\u001b[0m \u001b[31m4.7 MB/s\u001b[0m eta \u001b[36m0:00:00\u001b[0m\n",
      "\u001b[2K   \u001b[90m━━━━━━━━━━━━━━━━━━━━━━━━━━━━━━━━━━━━━━━━\u001b[0m \u001b[32m599.1/599.1 kB\u001b[0m \u001b[31m29.9 MB/s\u001b[0m eta \u001b[36m0:00:00\u001b[0m\n",
      "\u001b[2K   \u001b[90m━━━━━━━━━━━━━━━━━━━━━━━━━━━━━━━━━━━━━━━━\u001b[0m \u001b[32m1.5/1.5 MB\u001b[0m \u001b[31m60.7 MB/s\u001b[0m eta \u001b[36m0:00:00\u001b[0m\n",
      "\u001b[2K   \u001b[90m━━━━━━━━━━━━━━━━━━━━━━━━━━━━━━━━━━━━━━━━\u001b[0m \u001b[32m46.1/46.1 kB\u001b[0m \u001b[31m3.4 MB/s\u001b[0m eta \u001b[36m0:00:00\u001b[0m\n",
      "\u001b[2K   \u001b[90m━━━━━━━━━━━━━━━━━━━━━━━━━━━━━━━━━━━━━━━━\u001b[0m \u001b[32m40.6/40.6 kB\u001b[0m \u001b[31m2.8 MB/s\u001b[0m eta \u001b[36m0:00:00\u001b[0m\n",
      "\u001b[2K   \u001b[90m━━━━━━━━━━━━━━━━━━━━━━━━━━━━━━━━━━━━━━━━\u001b[0m \u001b[32m1.0/1.0 MB\u001b[0m \u001b[31m46.5 MB/s\u001b[0m eta \u001b[36m0:00:00\u001b[0m\n",
      "\u001b[2K   \u001b[90m━━━━━━━━━━━━━━━━━━━━━━━━━━━━━━━━━━━━━━━━\u001b[0m \u001b[32m423.3/423.3 kB\u001b[0m \u001b[31m28.3 MB/s\u001b[0m eta \u001b[36m0:00:00\u001b[0m\n",
      "\u001b[2K   \u001b[90m━━━━━━━━━━━━━━━━━━━━━━━━━━━━━━━━━━━━━━━━\u001b[0m \u001b[32m1.6/1.6 MB\u001b[0m \u001b[31m63.1 MB/s\u001b[0m eta \u001b[36m0:00:00\u001b[0m\n",
      "\u001b[2K   \u001b[90m━━━━━━━━━━━━━━━━━━━━━━━━━━━━━━━━━━━━━━━━\u001b[0m \u001b[32m40.8/40.8 kB\u001b[0m \u001b[31m2.5 MB/s\u001b[0m eta \u001b[36m0:00:00\u001b[0m\n",
      "\u001b[2K   \u001b[90m━━━━━━━━━━━━━━━━━━━━━━━━━━━━━━━━━━━━━━━━\u001b[0m \u001b[32m253.9/253.9 kB\u001b[0m \u001b[31m19.3 MB/s\u001b[0m eta \u001b[36m0:00:00\u001b[0m\n",
      "\u001b[2K   \u001b[90m━━━━━━━━━━━━━━━━━━━━━━━━━━━━━━━━━━━━━━━━\u001b[0m \u001b[32m739.0/739.0 kB\u001b[0m \u001b[31m31.7 MB/s\u001b[0m eta \u001b[36m0:00:00\u001b[0m\n",
      "\u001b[2K   \u001b[90m━━━━━━━━━━━━━━━━━━━━━━━━━━━━━━━━━━━━━━━━\u001b[0m \u001b[32m319.7/319.7 kB\u001b[0m \u001b[31m20.1 MB/s\u001b[0m eta \u001b[36m0:00:00\u001b[0m\n",
      "\u001b[2K   \u001b[90m━━━━━━━━━━━━━━━━━━━━━━━━━━━━━━━━━━━━━━━━\u001b[0m \u001b[32m129.2/129.2 kB\u001b[0m \u001b[31m10.7 MB/s\u001b[0m eta \u001b[36m0:00:00\u001b[0m\n",
      "\u001b[?25h  Building wheel for rouge_score (setup.py) ... \u001b[?25l\u001b[?25hdone\n",
      "\u001b[31mERROR: pip's dependency resolver does not currently take into account all the packages that are installed. This behaviour is the source of the following dependency conflicts.\n",
      "gcsfs 2024.10.0 requires fsspec==2024.10.0, but you have fsspec 2024.12.0 which is incompatible.\n",
      "google-api-core 1.34.1 requires protobuf!=3.20.0,!=3.20.1,!=4.21.0,!=4.21.1,!=4.21.2,!=4.21.3,!=4.21.4,!=4.21.5,<4.0.0dev,>=3.19.5, but you have protobuf 5.29.4 which is incompatible.\n",
      "google-cloud-bigtable 2.27.0 requires google-api-core[grpc]<3.0.0dev,>=2.16.0, but you have google-api-core 1.34.1 which is incompatible.\n",
      "google-cloud-translate 3.12.1 requires protobuf!=3.20.0,!=3.20.1,!=4.21.0,!=4.21.1,!=4.21.2,!=4.21.3,!=4.21.4,!=4.21.5,<5.0.0dev,>=3.19.5, but you have protobuf 5.29.4 which is incompatible.\n",
      "pandas-gbq 0.25.0 requires google-api-core<3.0.0dev,>=2.10.2, but you have google-api-core 1.34.1 which is incompatible.\n",
      "preprocessing 0.1.13 requires nltk==3.2.4, but you have nltk 3.9.1 which is incompatible.\n",
      "tensorflow 2.17.1 requires protobuf!=4.21.0,!=4.21.1,!=4.21.2,!=4.21.3,!=4.21.4,!=4.21.5,<5.0.0dev,>=3.20.3, but you have protobuf 5.29.4 which is incompatible.\n",
      "tensorflow-decision-forests 1.10.0 requires tensorflow==2.17.0, but you have tensorflow 2.17.1 which is incompatible.\n",
      "tensorflow-metadata 1.13.1 requires protobuf<5,>=3.20.3, but you have protobuf 5.29.4 which is incompatible.\u001b[0m\u001b[31m\n",
      "\u001b[0m"
     ]
    }
   ],
   "source": [
    "!pip install -q transformers openai rouge_score nltk deepeval"
   ]
  },
  {
   "cell_type": "code",
   "execution_count": 2,
   "metadata": {
    "execution": {
     "iopub.execute_input": "2025-04-06T03:38:35.892960Z",
     "iopub.status.busy": "2025-04-06T03:38:35.892666Z",
     "iopub.status.idle": "2025-04-06T03:38:35.896659Z",
     "shell.execute_reply": "2025-04-06T03:38:35.895811Z",
     "shell.execute_reply.started": "2025-04-06T03:38:35.892931Z"
    },
    "trusted": true
   },
   "outputs": [],
   "source": [
    "# pip install git+https://github.com/huggingface/transformers@v4.49.0-Gemma-3"
   ]
  },
  {
   "cell_type": "code",
   "execution_count": null,
   "metadata": {},
   "outputs": [],
   "source": [
    "import nltk\n",
    "from nltk.translate.bleu_score import sentence_bleu, SmoothingFunction\n",
    "from rouge_score import rouge_scorer\n",
    "from transformers import AutoModelForCausalLM, AutoTokenizer\n",
    "import torch\n",
    "import numpy as np\n",
    "from openai import OpenAI\n",
    "import json\n",
    "import threading\n",
    "from queue import Queue\n",
    "import os\n",
    "from huggingface_hub import login\n",
    "from deepeval.metrics import GEval\n",
    "from deepeval.test_case import LLMTestCase, LLMTestCaseParams\n",
    "\n",
    "nltk.download('punkt')\n",
    "nltk.download('punkt_tab')\n",
    "api_key = input(\"Please enter your OpenAI API Key:\")\n",
    "\n",
    "hf_token = input(\"Please enter your Hugging Face API Key:\")\n",
    "login(token=hf_token)\n",
    "os.environ[\"OPENAI_API_KEY\"] = api_key"
   ]
  },
  {
   "cell_type": "code",
   "execution_count": 4,
   "metadata": {
    "execution": {
     "iopub.execute_input": "2025-04-06T03:38:57.858576Z",
     "iopub.status.busy": "2025-04-06T03:38:57.858191Z",
     "iopub.status.idle": "2025-04-06T03:38:57.875976Z",
     "shell.execute_reply": "2025-04-06T03:38:57.874856Z",
     "shell.execute_reply.started": "2025-04-06T03:38:57.858512Z"
    },
    "trusted": true
   },
   "outputs": [],
   "source": [
    "class LLMEvaluator:\n",
    "    def __init__(self, judge_model: str = \"gpt-3.5-turbo\", api_key: str = None):\n",
    "        if api_key is None:\n",
    "            raise ValueError(\"API key must be provided either via parameter or OPENAI_API_KEY environment variable\")\n",
    "        self.judge_model = judge_model\n",
    "        self.scorer = rouge_scorer.RougeScorer(['rouge1', 'rouge2', 'rougeL'], use_stemmer=True)\n",
    "        self.smoothing = SmoothingFunction()\n",
    "        self.client = OpenAI(api_key=api_key)\n",
    "\n",
    "    def calculate_bleu(self, reference: str, hypothesis: str) -> float:\n",
    "        ref_tokens = [nltk.word_tokenize(reference.lower())]\n",
    "        hyp_tokens = nltk.word_tokenize(hypothesis.lower())\n",
    "        return sentence_bleu(ref_tokens, hyp_tokens, smoothing_function=self.smoothing.method1)\n",
    "\n",
    "    def calculate_rouge(self, reference: str, hypothesis: str) -> dict:\n",
    "        scores = self.scorer.score(reference, hypothesis)\n",
    "        return {\n",
    "            'rouge1': scores['rouge1'].fmeasure,\n",
    "            'rouge2': scores['rouge2'].fmeasure,\n",
    "            'rougeL': scores['rougeL'].fmeasure\n",
    "        }\n",
    "\n",
    "    def calculate_correctness(self, reference: str, hypothesis: str) -> float:\n",
    "        prompt = f\"\"\"Evaluate if the following generated text is factually correct compared to the reference:\n",
    "        Reference: {reference}\n",
    "        Generated: {hypothesis}\n",
    "        Provide a score between 0 and 1 (where 1 is completely correct) as a single number at the end of your response.\"\"\"\n",
    "        response = self.client.chat.completions.create(\n",
    "            model=self.judge_model,\n",
    "            messages=[{\"role\": \"system\", \"content\": \"You are an expert evaluator of mathematical solutions.\"}, {\"role\": \"user\", \"content\": prompt}],\n",
    "            temperature=0.0, max_tokens=700\n",
    "        )\n",
    "        response_text = response.choices[0].message.content.strip()\n",
    "        try:\n",
    "            return max(0.0, min(1.0, float(response_text.split()[-1])))\n",
    "        except (ValueError, IndexError):\n",
    "            return 0.5\n",
    "\n",
    "    def calculate_logical_coherence(self, hypothesis: str) -> float:\n",
    "        prompt = f\"\"\"Evaluate the logical coherence of the following solution. Focus on whether the steps follow a clear, sensible sequence, regardless of factual accuracy. Provide a score between 0 and 1 (where 1 is perfectly coherent) as a single number at the end of your response:\n",
    "        Solution: {hypothesis}\"\"\"\n",
    "        response = self.client.chat.completions.create(\n",
    "            model=self.judge_model,\n",
    "            messages=[{\"role\": \"system\", \"content\": \"You are an expert in evaluating logical reasoning.\"}, {\"role\": \"user\", \"content\": prompt}],\n",
    "            temperature=0.0, max_tokens=700\n",
    "        )\n",
    "        response_text = response.choices[0].message.content.strip()\n",
    "        try:\n",
    "            return max(0.0, min(1.0, float(response_text.split()[-1])))\n",
    "        except (ValueError, IndexError):\n",
    "            return 0.5\n",
    "\n",
    "    def calculate_step_alignment(self, reference: str, hypothesis: str) -> float:\n",
    "        prompt = f\"\"\"Compare the reasoning steps in the reference and generated text. Count the number of matching steps and provide a score between 0 and 1 (where 1 means all steps align perfectly) as a single number at the end of your response:\n",
    "        Reference: {reference}\n",
    "        Generated: {hypothesis}\"\"\"\n",
    "        response = self.client.chat.completions.create(\n",
    "            model=self.judge_model,\n",
    "            messages=[{\"role\": \"system\", \"content\": \"You are an expert in comparing reasoning steps.\"}, {\"role\": \"user\", \"content\": prompt}],\n",
    "            temperature=0.0, max_tokens=700\n",
    "        )\n",
    "        response_text = response.choices[0].message.content.strip()\n",
    "        try:\n",
    "            return max(0.0, min(1.0, float(response_text.split()[-1])))\n",
    "        except (ValueError, IndexError):\n",
    "            return 0.5\n",
    "\n",
    "    def calculate_completeness(self, reference: str, hypothesis: str) -> float:\n",
    "        prompt = f\"\"\"Evaluate if the generated text includes all necessary reasoning steps compared to the reference. Provide a score between 0 and 1 (where 1 means all critical steps are present) as a single number at the end of your response:\n",
    "        Reference: {reference}\n",
    "        Generated: {hypothesis}\"\"\"\n",
    "        response = self.client.chat.completions.create(\n",
    "            model=self.judge_model,\n",
    "            messages=[{\"role\": \"system\", \"content\": \"You are an expert in evaluating solution completeness.\"}, {\"role\": \"user\", \"content\": prompt}],\n",
    "            temperature=0.0, max_tokens=700\n",
    "        )\n",
    "        response_text = response.choices[0].message.content.strip()\n",
    "        try:\n",
    "            return max(0.0, min(1.0, float(response_text.split()[-1])))\n",
    "        except (ValueError, IndexError):\n",
    "            return 0.5\n",
    "\n",
    "    def calculate_reasoning_length_ratio(self, reference: str, hypothesis: str) -> float:\n",
    "        ref_words = len(nltk.word_tokenize(reference))\n",
    "        hyp_words = len(nltk.word_tokenize(hypothesis))\n",
    "        ratio = min(hyp_words / ref_words, ref_words / hyp_words)\n",
    "        return min(1.0, max(0.0, ratio))\n",
    "\n",
    "    def calculate_error_identification(self, hypothesis: str) -> float:\n",
    "        prompt = f\"\"\"Evaluate the following solution for common reasoning or arithmetic errors. Provide a score between 0 and 1 (where 1 means no errors detected) as a single number at the end of your response:\n",
    "        Solution: {hypothesis}\"\"\"\n",
    "        response = self.client.chat.completions.create(\n",
    "            model=self.judge_model,\n",
    "            messages=[{\"role\": \"system\", \"content\": \"You are an expert in identifying reasoning errors.\"}, {\"role\": \"user\", \"content\": prompt}],\n",
    "            temperature=0.0, max_tokens=700\n",
    "        )\n",
    "        response_text = response.choices[0].message.content.strip()\n",
    "        try:\n",
    "            return max(0.0, min(1.0, float(response_text.split()[-1])))\n",
    "        except (ValueError, IndexError):\n",
    "            return 0.5\n",
    "\n",
    "    def calculate_geval_reasoning(self, question: str, reference: str, hypothesis: str) -> tuple[float, str]:\n",
    "        reasoning_criteria = (\n",
    "            \"Evaluate the chain-of-thought reasoning in the generated text compared to the reference. \"\n",
    "            \"Assess whether the reasoning steps are logical, complete, and lead to the correct conclusion.\"\n",
    "        )\n",
    "        \n",
    "        evaluation_steps = [\n",
    "            \"Check if each reasoning step in the hypothesis is explicitly stated and follows logically from the previous step.\",\n",
    "            \"Verify that all critical steps from the reference are present in the hypothesis.\",\n",
    "            \"Determine if the final conclusion matches the reference and is supported by the reasoning.\"\n",
    "        ]\n",
    "        \n",
    "        test_case = LLMTestCase(\n",
    "            input=\"Solve this problem step-by-step: \"+question,\n",
    "            actual_output=hypothesis,\n",
    "            expected_output=reference\n",
    "            # evaluation_params=[LLMTestCaseParams.ACTUAL_OUTPUT, LLMTestCaseParams.EXPECTED_OUTPUT]\n",
    "        )\n",
    "        \n",
    "        reasoning_metric = GEval(\n",
    "            name=\"ReasoningQuality\",\n",
    "            criteria=reasoning_criteria,\n",
    "            evaluation_steps=evaluation_steps,\n",
    "            evaluation_params=[LLMTestCaseParams.INPUT, LLMTestCaseParams.ACTUAL_OUTPUT, LLMTestCaseParams.EXPECTED_OUTPUT],\n",
    "            model=self.judge_model,\n",
    "            threshold=0.7\n",
    "            # api_key=self.api_key\n",
    "        )\n",
    "        \n",
    "        reasoning_metric.measure(test_case)\n",
    "        return reasoning_metric.score, reasoning_metric.reason"
   ]
  },
  {
   "cell_type": "code",
   "execution_count": 5,
   "metadata": {
    "execution": {
     "iopub.execute_input": "2025-04-06T03:38:57.877401Z",
     "iopub.status.busy": "2025-04-06T03:38:57.877081Z",
     "iopub.status.idle": "2025-04-06T03:38:57.939037Z",
     "shell.execute_reply": "2025-04-06T03:38:57.938235Z",
     "shell.execute_reply.started": "2025-04-06T03:38:57.877376Z"
    },
    "trusted": true
   },
   "outputs": [],
   "source": [
    "class ModelGenerator:\n",
    "    def __init__(self, baseline_path: str, finetuned_path: str):\n",
    "        if torch.cuda.device_count() < 2:\n",
    "            raise RuntimeError(\"Need at least 2 GPUs for this setup\")\n",
    "        \n",
    "        self.device_baseline = torch.device(\"cuda:0\")\n",
    "        self.baseline_model = AutoModelForCausalLM.from_pretrained(baseline_path).to(self.device_baseline)\n",
    "        self.baseline_tokenizer = AutoTokenizer.from_pretrained(baseline_path)\n",
    "        \n",
    "        self.device_finetuned = torch.device(\"cuda:1\")\n",
    "        self.finetuned_model = AutoModelForCausalLM.from_pretrained(finetuned_path).to(self.device_finetuned)\n",
    "        self.finetuned_tokenizer = AutoTokenizer.from_pretrained(finetuned_path)\n",
    "\n",
    "    def generate_response(self, question: str, model_type: str = \"baseline\") -> str:\n",
    "        model = self.baseline_model if model_type == \"baseline\" else self.finetuned_model\n",
    "        tokenizer = self.baseline_tokenizer if model_type == \"baseline\" else self.finetuned_tokenizer\n",
    "        device = self.device_baseline if model_type == \"baseline\" else self.device_finetuned\n",
    "        \n",
    "        prompt = f\"Question: {question}\\nPlease provide a step-by-step solution:\"\n",
    "        inputs = tokenizer(prompt, return_tensors=\"pt\").to(device)\n",
    "        with torch.no_grad():\n",
    "            outputs = model.generate(**inputs, max_new_tokens=200, temperature=0.7, do_sample=True)\n",
    "        return tokenizer.decode(outputs[0], skip_special_tokens=True)"
   ]
  },
  {
   "cell_type": "code",
   "execution_count": 6,
   "metadata": {
    "execution": {
     "iopub.execute_input": "2025-04-06T03:38:57.940343Z",
     "iopub.status.busy": "2025-04-06T03:38:57.940038Z",
     "iopub.status.idle": "2025-04-06T03:38:57.955253Z",
     "shell.execute_reply": "2025-04-06T03:38:57.954330Z",
     "shell.execute_reply.started": "2025-04-06T03:38:57.940320Z"
    },
    "trusted": true
   },
   "outputs": [],
   "source": [
    "def evaluate_responses(evaluator, question, ground_truth, baseline_response, finetuned_response):\n",
    "\n",
    "    baseline_geval_score, baseline_geval_reason = evaluator.calculate_geval_reasoning(question, ground_truth, baseline_response)\n",
    "    finetuned_geval_score, finetuned_geval_reason = evaluator.calculate_geval_reasoning(question, ground_truth, finetuned_response)\n",
    "    \n",
    "    baseline_metrics = {\n",
    "        'bleu': evaluator.calculate_bleu(ground_truth, baseline_response),\n",
    "        'rouge': evaluator.calculate_rouge(ground_truth, baseline_response),\n",
    "        'correctness': evaluator.calculate_correctness(ground_truth, baseline_response),\n",
    "        'logical_coherence': evaluator.calculate_logical_coherence(baseline_response),\n",
    "        'step_alignment': evaluator.calculate_step_alignment(ground_truth, baseline_response),\n",
    "        'completeness': evaluator.calculate_completeness(ground_truth, baseline_response),\n",
    "        'reasoning_length_ratio': evaluator.calculate_reasoning_length_ratio(ground_truth, baseline_response),\n",
    "        'error_identification': evaluator.calculate_error_identification(baseline_response),\n",
    "        'geval_reasoning_score': baseline_geval_score,\n",
    "        'geval_reasoning_reason': baseline_geval_reason\n",
    "    }\n",
    "    finetuned_metrics = {\n",
    "        'bleu': evaluator.calculate_bleu(ground_truth, finetuned_response),\n",
    "        'rouge': evaluator.calculate_rouge(ground_truth, finetuned_response),\n",
    "        'correctness': evaluator.calculate_correctness(ground_truth, finetuned_response),\n",
    "        'logical_coherence': evaluator.calculate_logical_coherence(finetuned_response),\n",
    "        'step_alignment': evaluator.calculate_step_alignment(ground_truth, finetuned_response),\n",
    "        'completeness': evaluator.calculate_completeness(ground_truth, finetuned_response),\n",
    "        'reasoning_length_ratio': evaluator.calculate_reasoning_length_ratio(ground_truth, finetuned_response),\n",
    "        'error_identification': evaluator.calculate_error_identification(finetuned_response),\n",
    "        'geval_reasoning_score': finetuned_geval_score,\n",
    "        'geval_reasoning_reason': finetuned_geval_reason\n",
    "    }\n",
    "    return {'baseline': baseline_metrics, 'finetuned': finetuned_metrics}"
   ]
  },
  {
   "cell_type": "code",
   "execution_count": 7,
   "metadata": {
    "execution": {
     "iopub.execute_input": "2025-04-06T03:38:57.956871Z",
     "iopub.status.busy": "2025-04-06T03:38:57.956509Z",
     "iopub.status.idle": "2025-04-06T03:38:57.975352Z",
     "shell.execute_reply": "2025-04-06T03:38:57.974501Z",
     "shell.execute_reply.started": "2025-04-06T03:38:57.956838Z"
    },
    "trusted": true
   },
   "outputs": [],
   "source": [
    "def generate_response_thread(generator, question, model_type, result_queue):\n",
    "    response = generator.generate_response(question, model_type)\n",
    "    result_queue.put((model_type, response))\n",
    "\n",
    "def evaluate_multiple_questions(questions_ground_truths, generator, evaluator):\n",
    "    results = {}\n",
    "    \n",
    "    for question, ground_truth in questions_ground_truths.items():\n",
    "        result_queue = Queue()\n",
    "        \n",
    "        baseline_thread = threading.Thread(target=generate_response_thread, \n",
    "                                         args=(generator, question, \"baseline\", result_queue))\n",
    "        finetuned_thread = threading.Thread(target=generate_response_thread, \n",
    "                                          args=(generator, question, \"finetuned\", result_queue))\n",
    "        \n",
    "        baseline_thread.start()\n",
    "        finetuned_thread.start()\n",
    "        \n",
    "        baseline_thread.join()\n",
    "        finetuned_thread.join()\n",
    "        \n",
    "        responses = {}\n",
    "        while not result_queue.empty():\n",
    "            model_type, response = result_queue.get()\n",
    "            responses[model_type] = response\n",
    "        \n",
    "        baseline_response = responses[\"baseline\"]\n",
    "        finetuned_response = responses[\"finetuned\"]\n",
    "        \n",
    "        metrics = evaluate_responses(evaluator, question, ground_truth, baseline_response, finetuned_response)\n",
    "        \n",
    "        results[question] = {\n",
    "            'ground_truth': ground_truth,\n",
    "            'baseline_response': baseline_response,\n",
    "            'finetuned_response': finetuned_response,\n",
    "            'metrics': metrics\n",
    "        }\n",
    "        \n",
    "        print(f\"\\nQuestion: {question}\")\n",
    "        print(\"Baseline Response:\\n\", baseline_response)\n",
    "        print(\"Finetuned Response:\\n\", finetuned_response)\n",
    "        print(\"Metrics:\", metrics)\n",
    "    \n",
    "    return results\n",
    "\n",
    "def results_to_dataframe(evaluation_results):\n",
    "    # Prepare data for DataFrame\n",
    "    data = []\n",
    "    for question, result in evaluation_results.items():\n",
    "        row = {'question': question, 'ground_truth': result['ground_truth'],\n",
    "               'baseline_response': result['baseline_response'], 'finetuned_response': result['finetuned_response']}\n",
    "        \n",
    "        # Add baseline metrics\n",
    "        for metric, value in result['metrics']['baseline'].items():\n",
    "            if metric == 'rouge':\n",
    "                row.update({f'baseline_rouge1': value['rouge1'], f'baseline_rouge2': value['rouge2'], f'baseline_rougeL': value['rougeL']})\n",
    "            else:\n",
    "                row[f'baseline_{metric}'] = value\n",
    "        \n",
    "        # Add finetuned metrics\n",
    "        for metric, value in result['metrics']['finetuned'].items():\n",
    "            if metric == 'rouge':\n",
    "                row.update({f'finetuned_rouge1': value['rouge1'], f'finetuned_rouge2': value['rouge2'], f'finetuned_rougeL': value['rougeL']})\n",
    "            else:\n",
    "                row[f'finetuned_{metric}'] = value\n",
    "        \n",
    "        data.append(row)\n",
    "    \n",
    "    # Create DataFrame\n",
    "    df = pd.DataFrame(data)\n",
    "    return df"
   ]
  },
  {
   "cell_type": "code",
   "execution_count": 8,
   "metadata": {
    "execution": {
     "iopub.execute_input": "2025-04-06T03:38:57.976652Z",
     "iopub.status.busy": "2025-04-06T03:38:57.976315Z",
     "iopub.status.idle": "2025-04-06T03:38:58.294722Z",
     "shell.execute_reply": "2025-04-06T03:38:58.294060Z",
     "shell.execute_reply.started": "2025-04-06T03:38:57.976622Z"
    },
    "trusted": true
   },
   "outputs": [],
   "source": [
    "import pandas as pd\n",
    "def create_questions_dict():\n",
    "    df = pd.read_csv(\"/kaggle/input/cot-llm-dpo/MATH_test_staging.csv\")\n",
    "    df_main = df.sample(20)\n",
    "    df_main['ground_truth'] = df_main['reasoning']+' '+df_main['answer']\n",
    "    df_main = df_main.drop(columns=['dataset_id', 'question_id','reasoning', 'answer'])\n",
    "    df_main_dict = dict(zip(df_main['question_text'], df_main['ground_truth']))\n",
    "    return df_main_dict"
   ]
  },
  {
   "cell_type": "code",
   "execution_count": 9,
   "metadata": {
    "execution": {
     "iopub.execute_input": "2025-04-06T03:38:58.298003Z",
     "iopub.status.busy": "2025-04-06T03:38:58.297477Z",
     "iopub.status.idle": "2025-04-06T03:51:28.020147Z",
     "shell.execute_reply": "2025-04-06T03:51:28.019327Z",
     "shell.execute_reply.started": "2025-04-06T03:38:58.297979Z"
    },
    "trusted": true
   },
   "outputs": [
    {
     "name": "stdout",
     "output_type": "stream",
     "text": [
      "Number of GPUs available: 2\n",
      "GPU 0: Tesla T4\n",
      "GPU 1: Tesla T4\n"
     ]
    },
    {
     "data": {
      "application/vnd.jupyter.widget-view+json": {
       "model_id": "b2accdf2e1454ecf8d29b9cb87b08219",
       "version_major": 2,
       "version_minor": 0
      },
      "text/plain": [
       "config.json:   0%|          | 0.00/735 [00:00<?, ?B/s]"
      ]
     },
     "metadata": {},
     "output_type": "display_data"
    },
    {
     "data": {
      "application/vnd.jupyter.widget-view+json": {
       "model_id": "9bd78407547840f193778e6a32c38a1b",
       "version_major": 2,
       "version_minor": 0
      },
      "text/plain": [
       "model.safetensors.index.json:   0%|          | 0.00/35.7k [00:00<?, ?B/s]"
      ]
     },
     "metadata": {},
     "output_type": "display_data"
    },
    {
     "data": {
      "application/vnd.jupyter.widget-view+json": {
       "model_id": "51329734204b40e59510f503bfccae86",
       "version_major": 2,
       "version_minor": 0
      },
      "text/plain": [
       "Downloading shards:   0%|          | 0/2 [00:00<?, ?it/s]"
      ]
     },
     "metadata": {},
     "output_type": "display_data"
    },
    {
     "data": {
      "application/vnd.jupyter.widget-view+json": {
       "model_id": "60d7c67db26b4feda87f36a094639ce7",
       "version_major": 2,
       "version_minor": 0
      },
      "text/plain": [
       "model-00001-of-00002.safetensors:   0%|          | 0.00/5.00G [00:00<?, ?B/s]"
      ]
     },
     "metadata": {},
     "output_type": "display_data"
    },
    {
     "data": {
      "application/vnd.jupyter.widget-view+json": {
       "model_id": "6906519da93d400dab38915ffa095c09",
       "version_major": 2,
       "version_minor": 0
      },
      "text/plain": [
       "model-00002-of-00002.safetensors:   0%|          | 0.00/564M [00:00<?, ?B/s]"
      ]
     },
     "metadata": {},
     "output_type": "display_data"
    },
    {
     "data": {
      "application/vnd.jupyter.widget-view+json": {
       "model_id": "41783811df0b4d77bc9fe17fc4f5dc56",
       "version_major": 2,
       "version_minor": 0
      },
      "text/plain": [
       "Loading checkpoint shards:   0%|          | 0/2 [00:00<?, ?it/s]"
      ]
     },
     "metadata": {},
     "output_type": "display_data"
    },
    {
     "data": {
      "application/vnd.jupyter.widget-view+json": {
       "model_id": "abd513f56d8c451bae3c028b64e05a57",
       "version_major": 2,
       "version_minor": 0
      },
      "text/plain": [
       "generation_config.json:   0%|          | 0.00/124 [00:00<?, ?B/s]"
      ]
     },
     "metadata": {},
     "output_type": "display_data"
    },
    {
     "data": {
      "application/vnd.jupyter.widget-view+json": {
       "model_id": "7c34f5b28abb4debaa5fedf67af1e0a5",
       "version_major": 2,
       "version_minor": 0
      },
      "text/plain": [
       "tokenizer_config.json:   0%|          | 0.00/7.34k [00:00<?, ?B/s]"
      ]
     },
     "metadata": {},
     "output_type": "display_data"
    },
    {
     "data": {
      "application/vnd.jupyter.widget-view+json": {
       "model_id": "38ef0fea51b343699f941cde2b50c4d0",
       "version_major": 2,
       "version_minor": 0
      },
      "text/plain": [
       "vocab.json:   0%|          | 0.00/798k [00:00<?, ?B/s]"
      ]
     },
     "metadata": {},
     "output_type": "display_data"
    },
    {
     "data": {
      "application/vnd.jupyter.widget-view+json": {
       "model_id": "d8b90e5838d54bd592aba8aec9c9a88b",
       "version_major": 2,
       "version_minor": 0
      },
      "text/plain": [
       "merges.txt:   0%|          | 0.00/456k [00:00<?, ?B/s]"
      ]
     },
     "metadata": {},
     "output_type": "display_data"
    },
    {
     "data": {
      "application/vnd.jupyter.widget-view+json": {
       "model_id": "a8b50134466e431e89a270b7e1b16d08",
       "version_major": 2,
       "version_minor": 0
      },
      "text/plain": [
       "tokenizer.json:   0%|          | 0.00/2.11M [00:00<?, ?B/s]"
      ]
     },
     "metadata": {},
     "output_type": "display_data"
    },
    {
     "data": {
      "application/vnd.jupyter.widget-view+json": {
       "model_id": "c591d15dd8c949b28d255e0cbabfbeb2",
       "version_major": 2,
       "version_minor": 0
      },
      "text/plain": [
       "added_tokens.json:   0%|          | 0.00/1.08k [00:00<?, ?B/s]"
      ]
     },
     "metadata": {},
     "output_type": "display_data"
    },
    {
     "data": {
      "application/vnd.jupyter.widget-view+json": {
       "model_id": "acd4383c315a4db288bdcab787df094c",
       "version_major": 2,
       "version_minor": 0
      },
      "text/plain": [
       "special_tokens_map.json:   0%|          | 0.00/99.0 [00:00<?, ?B/s]"
      ]
     },
     "metadata": {},
     "output_type": "display_data"
    },
    {
     "data": {
      "application/vnd.jupyter.widget-view+json": {
       "model_id": "2f7a46d2226d4ca1bfe2524eb8a4c7eb",
       "version_major": 2,
       "version_minor": 0
      },
      "text/plain": [
       "config.json:   0%|          | 0.00/698 [00:00<?, ?B/s]"
      ]
     },
     "metadata": {},
     "output_type": "display_data"
    },
    {
     "data": {
      "application/vnd.jupyter.widget-view+json": {
       "model_id": "19d48a3fe30846af9fdf164cc98a5c0c",
       "version_major": 2,
       "version_minor": 0
      },
      "text/plain": [
       "model.safetensors.index.json:   0%|          | 0.00/35.7k [00:00<?, ?B/s]"
      ]
     },
     "metadata": {},
     "output_type": "display_data"
    },
    {
     "data": {
      "application/vnd.jupyter.widget-view+json": {
       "model_id": "b784f99c14b34f88bfca57196c19ebd2",
       "version_major": 2,
       "version_minor": 0
      },
      "text/plain": [
       "Downloading shards:   0%|          | 0/2 [00:00<?, ?it/s]"
      ]
     },
     "metadata": {},
     "output_type": "display_data"
    },
    {
     "data": {
      "application/vnd.jupyter.widget-view+json": {
       "model_id": "4b19fed76e284804ae12d735ee887aa4",
       "version_major": 2,
       "version_minor": 0
      },
      "text/plain": [
       "model-00001-of-00002.safetensors:   0%|          | 0.00/5.00G [00:00<?, ?B/s]"
      ]
     },
     "metadata": {},
     "output_type": "display_data"
    },
    {
     "data": {
      "application/vnd.jupyter.widget-view+json": {
       "model_id": "67b5f2dbfc56454fb3abe2569927050a",
       "version_major": 2,
       "version_minor": 0
      },
      "text/plain": [
       "model-00002-of-00002.safetensors:   0%|          | 0.00/564M [00:00<?, ?B/s]"
      ]
     },
     "metadata": {},
     "output_type": "display_data"
    },
    {
     "data": {
      "application/vnd.jupyter.widget-view+json": {
       "model_id": "84decba7197e44bc9af1857a851906c9",
       "version_major": 2,
       "version_minor": 0
      },
      "text/plain": [
       "Loading checkpoint shards:   0%|          | 0/2 [00:00<?, ?it/s]"
      ]
     },
     "metadata": {},
     "output_type": "display_data"
    },
    {
     "data": {
      "application/vnd.jupyter.widget-view+json": {
       "model_id": "177a6e1d765045b9a55cf3823830acce",
       "version_major": 2,
       "version_minor": 0
      },
      "text/plain": [
       "generation_config.json:   0%|          | 0.00/119 [00:00<?, ?B/s]"
      ]
     },
     "metadata": {},
     "output_type": "display_data"
    },
    {
     "data": {
      "application/vnd.jupyter.widget-view+json": {
       "model_id": "4d8567b15f55478d872d238071852197",
       "version_major": 2,
       "version_minor": 0
      },
      "text/plain": [
       "tokenizer_config.json:   0%|          | 0.00/7.53k [00:00<?, ?B/s]"
      ]
     },
     "metadata": {},
     "output_type": "display_data"
    },
    {
     "data": {
      "application/vnd.jupyter.widget-view+json": {
       "model_id": "6f91c50e0d4a4037a548e12085f756e9",
       "version_major": 2,
       "version_minor": 0
      },
      "text/plain": [
       "vocab.json:   0%|          | 0.00/798k [00:00<?, ?B/s]"
      ]
     },
     "metadata": {},
     "output_type": "display_data"
    },
    {
     "data": {
      "application/vnd.jupyter.widget-view+json": {
       "model_id": "716f59b43fca40c59647874f92eee4bc",
       "version_major": 2,
       "version_minor": 0
      },
      "text/plain": [
       "merges.txt:   0%|          | 0.00/456k [00:00<?, ?B/s]"
      ]
     },
     "metadata": {},
     "output_type": "display_data"
    },
    {
     "data": {
      "application/vnd.jupyter.widget-view+json": {
       "model_id": "acc36298e17c4be98220b754e72aebbc",
       "version_major": 2,
       "version_minor": 0
      },
      "text/plain": [
       "tokenizer.json:   0%|          | 0.00/3.56M [00:00<?, ?B/s]"
      ]
     },
     "metadata": {},
     "output_type": "display_data"
    },
    {
     "data": {
      "application/vnd.jupyter.widget-view+json": {
       "model_id": "83eebd8fe35148ca9e0d48f5129ac748",
       "version_major": 2,
       "version_minor": 0
      },
      "text/plain": [
       "added_tokens.json:   0%|          | 0.00/1.08k [00:00<?, ?B/s]"
      ]
     },
     "metadata": {},
     "output_type": "display_data"
    },
    {
     "data": {
      "application/vnd.jupyter.widget-view+json": {
       "model_id": "6c86fd0d169c4bc3aeab363ae40b2bee",
       "version_major": 2,
       "version_minor": 0
      },
      "text/plain": [
       "special_tokens_map.json:   0%|          | 0.00/473 [00:00<?, ?B/s]"
      ]
     },
     "metadata": {},
     "output_type": "display_data"
    },
    {
     "name": "stderr",
     "output_type": "stream",
     "text": [
      "Setting `pad_token_id` to `eos_token_id`:50256 for open-end generation.\n",
      "Setting `pad_token_id` to `eos_token_id`:50256 for open-end generation.\n"
     ]
    },
    {
     "data": {
      "application/vnd.jupyter.widget-view+json": {
       "model_id": "",
       "version_major": 2,
       "version_minor": 0
      },
      "text/plain": [
       "Output()"
      ]
     },
     "metadata": {},
     "output_type": "display_data"
    },
    {
     "data": {
      "text/html": [
       "<pre style=\"white-space:pre;overflow-x:auto;line-height:normal;font-family:Menlo,'DejaVu Sans Mono',consolas,'Courier New',monospace\"></pre>\n"
      ],
      "text/plain": []
     },
     "metadata": {},
     "output_type": "display_data"
    },
    {
     "data": {
      "application/vnd.jupyter.widget-view+json": {
       "model_id": "",
       "version_major": 2,
       "version_minor": 0
      },
      "text/plain": [
       "Output()"
      ]
     },
     "metadata": {},
     "output_type": "display_data"
    },
    {
     "data": {
      "text/html": [
       "<pre style=\"white-space:pre;overflow-x:auto;line-height:normal;font-family:Menlo,'DejaVu Sans Mono',consolas,'Courier New',monospace\"></pre>\n"
      ],
      "text/plain": []
     },
     "metadata": {},
     "output_type": "display_data"
    },
    {
     "name": "stderr",
     "output_type": "stream",
     "text": [
      "Setting `pad_token_id` to `eos_token_id`:50256 for open-end generation.\n",
      "Setting `pad_token_id` to `eos_token_id`:50256 for open-end generation.\n"
     ]
    },
    {
     "name": "stdout",
     "output_type": "stream",
     "text": [
      "\n",
      "Question: A semicircle is constructed along each side of a right triangle with legs 6 inches and 8 inches. The semicircle placed along the hypotenuse is shaded, as shown. What is the total area of the two non-shaded crescent-shaped regions? Express your answer in simplest form.\n",
      "\n",
      "[asy]\n",
      "unitsize(0.4cm);\n",
      "size(101);\n",
      "pair A = (0,3), B = (0,0), C = (4,0);\n",
      "filldraw(A..B..C--cycle,gray(0.6),black);\n",
      "draw(A--B--C);\n",
      "draw(Arc(A/2,3/2,90,270)^^Arc(C/2,2,0,-180)); draw(rightanglemark(A,B,C));\n",
      "[/asy]\n",
      "Baseline Response:\n",
      " Question: A semicircle is constructed along each side of a right triangle with legs 6 inches and 8 inches. The semicircle placed along the hypotenuse is shaded, as shown. What is the total area of the two non-shaded crescent-shaped regions? Express your answer in simplest form.\n",
      "\n",
      "[asy]\n",
      "unitsize(0.4cm);\n",
      "size(101);\n",
      "pair A = (0,3), B = (0,0), C = (4,0);\n",
      "filldraw(A..B..C--cycle,gray(0.6),black);\n",
      "draw(A--B--C);\n",
      "draw(Arc(A/2,3/2,90,270)^^Arc(C/2,2,0,-180)); draw(rightanglemark(A,B,C));\n",
      "[/asy]\n",
      "Please provide a step-by-step solution:\n",
      "Answer: First, we need to find the area of the semicircle placed along the hypotenuse. To do this, we can use the formula for the area of a circle, A = πr^2, where r is the radius of the semicircle. Since the semicircle is placed along the hypotenuse, the radius is equal to half of the hypotenuse, or 4 inches. Therefore, the area of the semicircle is 1/2 * π * (4 inches)^2 = 8π square inches.\n",
      "Next, we need to find the area of the two non-shaded crescent-shaped regions. To do this, we can divide the triangle into two congruent right triangles, each with a hypotenuse of 6 inches and an area of 1/2 * 6 inches * 8 inches = 24 square inches. Since there are two congruent triangles, the total area of the non-shaded\n",
      "Finetuned Response:\n",
      " Question: A semicircle is constructed along each side of a right triangle with legs 6 inches and 8 inches. The semicircle placed along the hypotenuse is shaded, as shown. What is the total area of the two non-shaded crescent-shaped regions? Express your answer in simplest form.\n",
      "\n",
      "[asy]\n",
      "unitsize(0.4cm);\n",
      "size(101);\n",
      "pair A = (0,3), B = (0,0), C = (4,0);\n",
      "filldraw(A..B..C--cycle,gray(0.6),black);\n",
      "draw(A--B--C);\n",
      "draw(Arc(A/2,3/2,90,270)^^Arc(C/2,2,0,-180)); draw(rightanglemark(A,B,C));\n",
      "[/asy]\n",
      "Please provide a step-by-step solution:\n",
      "\n",
      "1. The area of a semicircle is given by the formula A = (1/2) x πr², where r is the radius.\n",
      "2. In this problem, the radius of the semicircle is the length of the hypotenuse, which is √(6² + 8²) = 10 inches.\n",
      "3. So, the area of the semicircle is (1/2) x π(10)² = 50π square inches.\n",
      "4. Since there are two semicircles, the total area of the two non-shaded crescent-shaped regions is 2 x 50π = 100π square inches.\n",
      "5. Simplifying the expression, we get 100π ≈ 314.16 square inches.\n",
      "\n",
      "Answer: The total area of the two non-shaded crescent-shaped regions is approximately 314.16 square inches.\n",
      "\n",
      "Metrics: {'baseline': {'bleu': 0.059394734732774235, 'rouge': {'rouge1': 0.4226190476190476, 'rouge2': 0.1676646706586826, 'rougeL': 0.20238095238095238}, 'correctness': 1.0, 'logical_coherence': 1.0, 'step_alignment': 0.2, 'completeness': 0.5, 'reasoning_length_ratio': 0.4533333333333333, 'error_identification': 0.5, 'geval_reasoning_score': 0.23984623967723712, 'geval_reasoning_reason': 'The input, actual output, and expected output are adequately provided, but the step-by-step solution does not explicitly state each reasoning step and does not logically follow from the previous steps.'}, 'finetuned': {'bleu': 0.050824778890663204, 'rouge': {'rouge1': 0.4064516129032258, 'rouge2': 0.14285714285714288, 'rougeL': 0.21935483870967742}, 'correctness': 0.5, 'logical_coherence': 1.0, 'step_alignment': 1.0, 'completeness': 0.5, 'reasoning_length_ratio': 0.4874551971326165, 'error_identification': 0.5, 'geval_reasoning_score': 0.14900256732291567, 'geval_reasoning_reason': 'The actual output provides the step-by-step solution to find the total area of the two non-shaded crescent-shaped regions, which matches the expected output. The answer given is a numerical value rather than the expected algebraic expression.'}}\n"
     ]
    },
    {
     "data": {
      "application/vnd.jupyter.widget-view+json": {
       "model_id": "",
       "version_major": 2,
       "version_minor": 0
      },
      "text/plain": [
       "Output()"
      ]
     },
     "metadata": {},
     "output_type": "display_data"
    },
    {
     "data": {
      "text/html": [
       "<pre style=\"white-space:pre;overflow-x:auto;line-height:normal;font-family:Menlo,'DejaVu Sans Mono',consolas,'Courier New',monospace\"></pre>\n"
      ],
      "text/plain": []
     },
     "metadata": {},
     "output_type": "display_data"
    },
    {
     "data": {
      "application/vnd.jupyter.widget-view+json": {
       "model_id": "",
       "version_major": 2,
       "version_minor": 0
      },
      "text/plain": [
       "Output()"
      ]
     },
     "metadata": {},
     "output_type": "display_data"
    },
    {
     "data": {
      "text/html": [
       "<pre style=\"white-space:pre;overflow-x:auto;line-height:normal;font-family:Menlo,'DejaVu Sans Mono',consolas,'Courier New',monospace\"></pre>\n"
      ],
      "text/plain": []
     },
     "metadata": {},
     "output_type": "display_data"
    },
    {
     "name": "stderr",
     "output_type": "stream",
     "text": [
      "Setting `pad_token_id` to `eos_token_id`:50256 for open-end generation.\n",
      "Setting `pad_token_id` to `eos_token_id`:50256 for open-end generation.\n"
     ]
    },
    {
     "name": "stdout",
     "output_type": "stream",
     "text": [
      "\n",
      "Question: Find the coefficient of $x$ when $(1+2x)-2(1+2x+3x^2)+3(1+2x+3x^2+4x^3)-4(1+2x+3x^2+4x^3+5x^4)$ is simplified.\n",
      "Baseline Response:\n",
      " Question: Find the coefficient of $x$ when $(1+2x)-2(1+2x+3x^2)+3(1+2x+3x^2+4x^3)-4(1+2x+3x^2+4x^3+5x^4)$ is simplified.\n",
      "Please provide a step-by-step solution:\n",
      "Input: \n",
      "Output: Sure, I can help you with that. Here are the steps to simplify the given expression:\n",
      "Step 1: Distribute the coefficients to the terms inside the parentheses.\n",
      "$(1+2x)-2(1+2x+3x^2)+3(1+2x+3x^2+4x^3)-4(1+2x+3x^2+4x^3+5x^4)$\n",
      "Simplifying, we get:\n",
      "$-1-4x-6x^2+3x^2+12x^3-16x^3-20x^4$\n",
      "Step 2: Combine like terms.\n",
      "$-1-4x-6x^2+3x^2+12x^3-16x^3-20x^4$\n",
      "Simplifying, we get:\n",
      "$-20x^4-13\n",
      "Finetuned Response:\n",
      " Question: Find the coefficient of $x$ when $(1+2x)-2(1+2x+3x^2)+3(1+2x+3x^2+4x^3)-4(1+2x+3x^2+4x^3+5x^4)$ is simplified.\n",
      "Please provide a step-by-step solution: \n",
      "Answer: Sure, here's the step-by-step solution:\n",
      "Step 1: Simplify the expression inside the parentheses:\n",
      "$(1+2x)-2(1+2x+3x^2)+3(1+2x+3x^2+4x^3)-4(1+2x+3x^2+4x^3+5x^4)$\n",
      "$= 1 - 4x + 2x^2 + 3x^2 + 6x^3 - 4x^3 - 8x^4 - 12x^4 - 20x^5$\n",
      "$= -12x^4 - 16x^5 + 4x^2 + 2x$\n",
      "Step 2: Combine like terms:\n",
      "$-12x^4 - 16x^5 + 4x^2 + 2x$\n",
      "Step 3: The coefficient of $x$ is the coefficient of the term with $\n",
      "Metrics: {'baseline': {'bleu': 0.050959465576070236, 'rouge': {'rouge1': 0.18543046357615894, 'rouge2': 0.040268456375838924, 'rougeL': 0.15894039735099338}, 'correctness': 0.0, 'logical_coherence': 0.9, 'step_alignment': 0.67, 'completeness': 0.0, 'reasoning_length_ratio': 0.22807017543859648, 'error_identification': 0.5, 'geval_reasoning_score': 0.22054772800081848, 'geval_reasoning_reason': 'Actual Output does not provide the final conclusion matching the reference and does not support the reasoning steps. The answer is not explicitly stated or outlined step-by-step.'}, 'finetuned': {'bleu': 0.04921732753424349, 'rouge': {'rouge1': 0.20134228187919465, 'rouge2': 0.05442176870748299, 'rougeL': 0.1610738255033557}, 'correctness': 0.5, 'logical_coherence': 1.0, 'step_alignment': 0.67, 'completeness': 1.0, 'reasoning_length_ratio': 0.19117647058823528, 'error_identification': 0.0, 'geval_reasoning_score': 0.31429843345549485, 'geval_reasoning_reason': 'The text provides step-by-step simplification of the expression, but does not provide the final conclusion that matches the expected output.'}}\n"
     ]
    },
    {
     "data": {
      "application/vnd.jupyter.widget-view+json": {
       "model_id": "",
       "version_major": 2,
       "version_minor": 0
      },
      "text/plain": [
       "Output()"
      ]
     },
     "metadata": {},
     "output_type": "display_data"
    },
    {
     "data": {
      "text/html": [
       "<pre style=\"white-space:pre;overflow-x:auto;line-height:normal;font-family:Menlo,'DejaVu Sans Mono',consolas,'Courier New',monospace\"></pre>\n"
      ],
      "text/plain": []
     },
     "metadata": {},
     "output_type": "display_data"
    },
    {
     "data": {
      "application/vnd.jupyter.widget-view+json": {
       "model_id": "",
       "version_major": 2,
       "version_minor": 0
      },
      "text/plain": [
       "Output()"
      ]
     },
     "metadata": {},
     "output_type": "display_data"
    },
    {
     "data": {
      "text/html": [
       "<pre style=\"white-space:pre;overflow-x:auto;line-height:normal;font-family:Menlo,'DejaVu Sans Mono',consolas,'Courier New',monospace\"></pre>\n"
      ],
      "text/plain": []
     },
     "metadata": {},
     "output_type": "display_data"
    },
    {
     "name": "stderr",
     "output_type": "stream",
     "text": [
      "Setting `pad_token_id` to `eos_token_id`:50256 for open-end generation.\n",
      "Setting `pad_token_id` to `eos_token_id`:50256 for open-end generation.\n"
     ]
    },
    {
     "name": "stdout",
     "output_type": "stream",
     "text": [
      "\n",
      "Question: In Mathopolis, an adult is a person 21 years of age or older and a child is a person under 21 years of age.  Exactly half of the  adults in Mathopolis are female, and exactly half of the female  adults have exactly one biological child.  Nobody else has a  child, and there are no other children.  What percent of the  people of Mathopolis are children?\n",
      "Baseline Response:\n",
      " Question: In Mathopolis, an adult is a person 21 years of age or older and a child is a person under 21 years of age.  Exactly half of the  adults in Mathopolis are female, and exactly half of the female  adults have exactly one biological child.  Nobody else has a  child, and there are no other children.  What percent of the  people of Mathopolis are children?\n",
      "Please provide a step-by-step solution:\n",
      "<|question_end|>Answer: Step 1: Determine the number of adults in Mathopolis.\n",
      "Since the question states that \"exactly half of the adults in Mathopolis are female,\" we can assume that there are an equal number of males and females in the adult population. Therefore, there are 1,000 adults in Mathopolis.\n",
      "\n",
      "Step 2: Determine the number of female adults.\n",
      "Since half of the adults in Mathopolis are female, there are 1,000 / 2 = 500 female adults.\n",
      "\n",
      "Step 3: Determine the number of female adults with exactly one biological child.\n",
      "Since the question states that exactly half of the female adults have exactly one biological child, there are 500 / 2 = 250 female adults with exactly one biological child.\n",
      "\n",
      "Step 4: Determine the number of children in Mathopolis.\n",
      "Since there are no other children mentioned in the question, the number of children in Mathopolis is the same as the number\n",
      "Finetuned Response:\n",
      " Question: In Mathopolis, an adult is a person 21 years of age or older and a child is a person under 21 years of age.  Exactly half of the  adults in Mathopolis are female, and exactly half of the female  adults have exactly one biological child.  Nobody else has a  child, and there are no other children.  What percent of the  people of Mathopolis are children?\n",
      "Please provide a step-by-step solution:\n",
      "\n",
      "A. 1%\n",
      "B. 2%\n",
      "C. 3%\n",
      "D. 4%\n",
      "E. none of the above\n",
      "\n",
      "Solution: The correct option is  D 4%\n",
      "\n",
      "Explanation:\n",
      "\n",
      "Let's assume that the adult population of Mathopolis is 100. Then, we can divide them into two groups: adults and children.\n",
      "\n",
      "- The number of adults is 50, and the number of children is 50.\n",
      "- The number of female adults is 25, and the number of female children is 0.\n",
      "- The number of male adults is 25, and the number of male children is also 0.\n",
      "\n",
      "Since there are no other children, the total number of children is 50.\n",
      "\n",
      "The percentage of children is the ratio of the number of children to the total population, multiplied by 100.\n",
      "\n",
      "The percentage of children is (50 / (50 + 50)) x 100 = 4%\n",
      "\n",
      "\n",
      "\n",
      "Metrics: {'baseline': {'bleu': 0.034917201676661125, 'rouge': {'rouge1': 0.3489096573208723, 'rouge2': 0.1128526645768025, 'rougeL': 0.22429906542056077}, 'correctness': 1.0, 'logical_coherence': 1.0, 'step_alignment': 0.5, 'completeness': 0.5, 'reasoning_length_ratio': 0.5378486055776892, 'error_identification': 0.5, 'geval_reasoning_score': 0.24340351915422648, 'geval_reasoning_reason': 'The text provides step-by-step calculations but does not explicitly state each reasoning step, critical steps from the reference are missing, and the final conclusion does not match the reference.'}, 'finetuned': {'bleu': 0.0562539005565084, 'rouge': {'rouge1': 0.3894389438943894, 'rouge2': 0.1461794019933555, 'rougeL': 0.22442244224422442}, 'correctness': 1.0, 'logical_coherence': 1.0, 'step_alignment': 0.25, 'completeness': 1.0, 'reasoning_length_ratio': 0.5532786885245902, 'error_identification': 0.5, 'geval_reasoning_score': 0.25191474974956446, 'geval_reasoning_reason': 'The provided solution gives the correct percentage for the children population (4%), but the steps are not clearly explained or logically connected.'}}\n"
     ]
    },
    {
     "data": {
      "application/vnd.jupyter.widget-view+json": {
       "model_id": "",
       "version_major": 2,
       "version_minor": 0
      },
      "text/plain": [
       "Output()"
      ]
     },
     "metadata": {},
     "output_type": "display_data"
    },
    {
     "data": {
      "text/html": [
       "<pre style=\"white-space:pre;overflow-x:auto;line-height:normal;font-family:Menlo,'DejaVu Sans Mono',consolas,'Courier New',monospace\"></pre>\n"
      ],
      "text/plain": []
     },
     "metadata": {},
     "output_type": "display_data"
    },
    {
     "data": {
      "application/vnd.jupyter.widget-view+json": {
       "model_id": "",
       "version_major": 2,
       "version_minor": 0
      },
      "text/plain": [
       "Output()"
      ]
     },
     "metadata": {},
     "output_type": "display_data"
    },
    {
     "data": {
      "text/html": [
       "<pre style=\"white-space:pre;overflow-x:auto;line-height:normal;font-family:Menlo,'DejaVu Sans Mono',consolas,'Courier New',monospace\"></pre>\n"
      ],
      "text/plain": []
     },
     "metadata": {},
     "output_type": "display_data"
    },
    {
     "name": "stderr",
     "output_type": "stream",
     "text": [
      "Setting `pad_token_id` to `eos_token_id`:50256 for open-end generation.\n",
      "Setting `pad_token_id` to `eos_token_id`:50256 for open-end generation.\n"
     ]
    },
    {
     "name": "stdout",
     "output_type": "stream",
     "text": [
      "\n",
      "Question: A right hexagonal prism has a height of 3 feet and each edge of the hexagonal bases is 6 inches. What is the sum of the areas of the non-hexagonal faces of the prism, in square feet?\n",
      "\n",
      "[asy]import three;\n",
      "\n",
      "currentprojection=orthographic(1/2,-1,1/2);\n",
      "\n",
      "draw((0,0,0)--(1,0,0)--(1.5,0.86,0)--(1,1.72,0)--(0,1.72,0)--(-0.5,0.86,0)--cycle);\n",
      "\n",
      "draw((0,0,6)--(1,0,6)--(1.5,0.86,6)--(1,1.72,6)--(0,1.72,6)--(-0.5,0.86,6)--cycle);\n",
      "\n",
      "draw((0,0,0)--(0,0,6));\n",
      "\n",
      "draw((1,0,0)--(1,0,6));\n",
      "\n",
      "draw((1.5,0.86,0)--(1.5,0.86,6));\n",
      "\n",
      "draw((1,1.72,0)--(1,1.72,6));\n",
      "\n",
      "draw((0,1.72,0)--(0,1.72,6));\n",
      "\n",
      "draw((-0.5,0.86,0)--(-0.5,0.86,6));\n",
      "\n",
      "[/asy]\n",
      "Baseline Response:\n",
      " Question: A right hexagonal prism has a height of 3 feet and each edge of the hexagonal bases is 6 inches. What is the sum of the areas of the non-hexagonal faces of the prism, in square feet?\n",
      "\n",
      "[asy]import three;\n",
      "\n",
      "currentprojection=orthographic(1/2,-1,1/2);\n",
      "\n",
      "draw((0,0,0)--(1,0,0)--(1.5,0.86,0)--(1,1.72,0)--(0,1.72,0)--(-0.5,0.86,0)--cycle);\n",
      "\n",
      "draw((0,0,6)--(1,0,6)--(1.5,0.86,6)--(1,1.72,6)--(0,1.72,6)--(-0.5,0.86,6)--cycle);\n",
      "\n",
      "draw((0,0,0)--(0,0,6));\n",
      "\n",
      "draw((1,0,0)--(1,0,6));\n",
      "\n",
      "draw((1.5,0.86,0)--(1.5,0.86,6));\n",
      "\n",
      "draw((1,1.72,0)--(1,1.72,6));\n",
      "\n",
      "draw((0,1.72,0)--(0,1.72,6));\n",
      "\n",
      "draw((-0.5,0.86,0)--(-0.5,0.86,6));\n",
      "\n",
      "[/asy]\n",
      "Please provide a step-by-step solution:\n",
      "\n",
      "Solution:\n",
      "Step 1: Identify the known quantities:\n",
      "- Height of the prism = 3 feet\n",
      "- Edge length of the hexagonal base = 6 inches\n",
      "\n",
      "Step 2: Convert the edge length to feet:\n",
      "- 1 foot = 12 inches\n",
      "- Therefore, the edge length of the hexagonal base is 6/12 = 0.5 feet.\n",
      "\n",
      "Step 3: Calculate the area of one hexagonal face:\n",
      "- The area of a regular hexagon can be calculated using the formula: A = (3√3 × s^2) / 2, where s is the length of a side.\n",
      "- Since the hexagonal base has a side length of 0.5 feet, the area of one hexagonal face is: A = (3√3 × 0.5^2) / 2 = 0.6495 square feet (rounded to four decimal places).\n",
      "\n",
      "Step 4: Calculate the area of the non-\n",
      "Finetuned Response:\n",
      " Question: A right hexagonal prism has a height of 3 feet and each edge of the hexagonal bases is 6 inches. What is the sum of the areas of the non-hexagonal faces of the prism, in square feet?\n",
      "\n",
      "[asy]import three;\n",
      "\n",
      "currentprojection=orthographic(1/2,-1,1/2);\n",
      "\n",
      "draw((0,0,0)--(1,0,0)--(1.5,0.86,0)--(1,1.72,0)--(0,1.72,0)--(-0.5,0.86,0)--cycle);\n",
      "\n",
      "draw((0,0,6)--(1,0,6)--(1.5,0.86,6)--(1,1.72,6)--(0,1.72,6)--(-0.5,0.86,6)--cycle);\n",
      "\n",
      "draw((0,0,0)--(0,0,6));\n",
      "\n",
      "draw((1,0,0)--(1,0,6));\n",
      "\n",
      "draw((1.5,0.86,0)--(1.5,0.86,6));\n",
      "\n",
      "draw((1,1.72,0)--(1,1.72,6));\n",
      "\n",
      "draw((0,1.72,0)--(0,1.72,6));\n",
      "\n",
      "draw((-0.5,0.86,0)--(-0.5,0.86,6));\n",
      "\n",
      "[/asy]\n",
      "Please provide a step-by-step solution:\n",
      "\n",
      "Solution:\n",
      "Step 1: Convert the edge of the hexagonal base from inches to feet.\n",
      "Since there are 12 inches in a foot, 6 inches is equal to 6/12 = 0.5 feet.\n",
      "\n",
      "Step 2: Calculate the area of the hexagonal base.\n",
      "The formula for the area of a regular hexagon is A = (3√3/2)h^2, where h is the height.\n",
      "Plugging in the values, we have A = (3√3/2)(0.5)^2 = 0.5(3√3/2) square feet.\n",
      "\n",
      "Step 3: Calculate the area of each non-hexagonal face.\n",
      "Since there are two non-hexagonal faces, we need to calculate the area of one face and double it.\n",
      "The formula for the area of a rectangular prism is A = 2lw + 2lh + 2wh, where l,\n",
      "Metrics: {'baseline': {'bleu': 0.004221653220595507, 'rouge': {'rouge1': 0.2591549295774648, 'rouge2': 0.0906515580736544, 'rougeL': 0.14084507042253522}, 'correctness': 1.0, 'logical_coherence': 0.5, 'step_alignment': 0.75, 'completeness': 0.5, 'reasoning_length_ratio': 0.26239067055393583, 'error_identification': 0.5, 'geval_reasoning_score': 0.2239190279781736, 'geval_reasoning_reason': 'The solution provided missed detailing the calculation of the total area of the non-hexagonal faces, which is a critical step per the reference solution.'}, 'finetuned': {'bleu': 0.02764619446156157, 'rouge': {'rouge1': 0.2857142857142857, 'rouge2': 0.09014084507042253, 'rougeL': 0.1568627450980392}, 'correctness': 0.5, 'logical_coherence': 0.5, 'step_alignment': 0.75, 'completeness': 0.5, 'reasoning_length_ratio': 0.2694610778443114, 'error_identification': 0.5, 'geval_reasoning_score': 0.3091711154276439, 'geval_reasoning_reason': 'The actual output is missing steps 2 and 3 from the solution provided. The expected output provides the correct step-by-step solution and final answer.'}}\n"
     ]
    },
    {
     "data": {
      "application/vnd.jupyter.widget-view+json": {
       "model_id": "",
       "version_major": 2,
       "version_minor": 0
      },
      "text/plain": [
       "Output()"
      ]
     },
     "metadata": {},
     "output_type": "display_data"
    },
    {
     "data": {
      "text/html": [
       "<pre style=\"white-space:pre;overflow-x:auto;line-height:normal;font-family:Menlo,'DejaVu Sans Mono',consolas,'Courier New',monospace\"></pre>\n"
      ],
      "text/plain": []
     },
     "metadata": {},
     "output_type": "display_data"
    },
    {
     "data": {
      "application/vnd.jupyter.widget-view+json": {
       "model_id": "",
       "version_major": 2,
       "version_minor": 0
      },
      "text/plain": [
       "Output()"
      ]
     },
     "metadata": {},
     "output_type": "display_data"
    },
    {
     "data": {
      "text/html": [
       "<pre style=\"white-space:pre;overflow-x:auto;line-height:normal;font-family:Menlo,'DejaVu Sans Mono',consolas,'Courier New',monospace\"></pre>\n"
      ],
      "text/plain": []
     },
     "metadata": {},
     "output_type": "display_data"
    },
    {
     "name": "stderr",
     "output_type": "stream",
     "text": [
      "Setting `pad_token_id` to `eos_token_id`:50256 for open-end generation.\n",
      "Setting `pad_token_id` to `eos_token_id`:50256 for open-end generation.\n"
     ]
    },
    {
     "name": "stdout",
     "output_type": "stream",
     "text": [
      "\n",
      "Question: Trae is searching for a treasure on the beach. From point $A$, he is told to walk two meters north, three meters east, and then two meters north to point $B$. In meters, what is the length of $\\overline{AB}$?\n",
      "Baseline Response:\n",
      " Question: Trae is searching for a treasure on the beach. From point $A$, he is told to walk two meters north, three meters east, and then two meters north to point $B$. In meters, what is the length of $\\overline{AB}$?\n",
      "Please provide a step-by-step solution:\n",
      "## INPUT\n",
      "\n",
      "##OUTPUT\n",
      "To find the length of the line segment $AB$, we can use the Pythagorean theorem. \n",
      "First, let's find the coordinates of points A and B. We can assume that point A is at the origin (0,0) and point B is at the point (3,2).\n",
      "Now, we can use the Pythagorean theorem to find the length of the line segment $AB$:\n",
      "$AB^2 = (3-0)^2 + (2-0)^2$\n",
      "$AB^2 = 9 + 4$\n",
      "$AB^2 = 13$\n",
      "$AB = \\sqrt{13}$\n",
      "Therefore, the length of line segment $\\overline{AB}$ is $\\sqrt{13}$ meters.\n",
      "\n",
      "Finetuned Response:\n",
      " Question: Trae is searching for a treasure on the beach. From point $A$, he is told to walk two meters north, three meters east, and then two meters north to point $B$. In meters, what is the length of $\\overline{AB}$?\n",
      "Please provide a step-by-step solution:\n",
      "Answer: Step 1: Draw a diagram representing the path taken by Trae.\n",
      "Step 2: Use the Pythagorean theorem to find the length of the hypotenuse of the right triangle formed by the two legs of the triangle.\n",
      "Step 3: The Pythagorean theorem states that in a right triangle, the square of the length of the hypotenuse is equal to the sum of the squares of the lengths of the legs.\n",
      "Step 4: In this case, the two legs of the triangle are $2$ meters and $3$ meters, so we have\n",
      "$a^2 + b^2 = c^2$\n",
      "where $a$ and $b$ are the lengths of the legs and $c$ is the length of the hypotenuse.\n",
      "Step 5: Substituting $a = 2$ and $b = 3$ meters, we get\n",
      "$2^2 + 3^2 = c^2$\n",
      "$4 +\n",
      "Metrics: {'baseline': {'bleu': 0.09889583263796405, 'rouge': {'rouge1': 0.32432432432432434, 'rouge2': 0.1092896174863388, 'rougeL': 0.21621621621621623}, 'correctness': 1.0, 'logical_coherence': 1.0, 'step_alignment': 0.75, 'completeness': 1.0, 'reasoning_length_ratio': 0.29, 'error_identification': 1.0, 'geval_reasoning_score': 0.18044220851300202, 'geval_reasoning_reason': 'The reasoning steps are explicitly stated, and the final conclusion matches the reference and is supported by the reasoning.'}, 'finetuned': {'bleu': 0.08261853503045104, 'rouge': {'rouge1': 0.31531531531531526, 'rouge2': 0.10909090909090909, 'rougeL': 0.1801801801801802}, 'correctness': 0.8, 'logical_coherence': 0.9, 'step_alignment': 1.0, 'completeness': 0.9, 'reasoning_length_ratio': 0.25327510917030566, 'error_identification': 0.5, 'geval_reasoning_score': 0.34599821111595136, 'geval_reasoning_reason': 'The actual output contains detailed instructions and reasoning steps in a logical order matching the reference, but lacks the concise final conclusion directly stating the length $AB=5$ as in the expected output.'}}\n"
     ]
    },
    {
     "data": {
      "application/vnd.jupyter.widget-view+json": {
       "model_id": "",
       "version_major": 2,
       "version_minor": 0
      },
      "text/plain": [
       "Output()"
      ]
     },
     "metadata": {},
     "output_type": "display_data"
    },
    {
     "data": {
      "text/html": [
       "<pre style=\"white-space:pre;overflow-x:auto;line-height:normal;font-family:Menlo,'DejaVu Sans Mono',consolas,'Courier New',monospace\"></pre>\n"
      ],
      "text/plain": []
     },
     "metadata": {},
     "output_type": "display_data"
    },
    {
     "data": {
      "application/vnd.jupyter.widget-view+json": {
       "model_id": "",
       "version_major": 2,
       "version_minor": 0
      },
      "text/plain": [
       "Output()"
      ]
     },
     "metadata": {},
     "output_type": "display_data"
    },
    {
     "data": {
      "text/html": [
       "<pre style=\"white-space:pre;overflow-x:auto;line-height:normal;font-family:Menlo,'DejaVu Sans Mono',consolas,'Courier New',monospace\"></pre>\n"
      ],
      "text/plain": []
     },
     "metadata": {},
     "output_type": "display_data"
    },
    {
     "name": "stderr",
     "output_type": "stream",
     "text": [
      "Setting `pad_token_id` to `eos_token_id`:50256 for open-end generation.\n",
      "Setting `pad_token_id` to `eos_token_id`:50256 for open-end generation.\n"
     ]
    },
    {
     "name": "stdout",
     "output_type": "stream",
     "text": [
      "\n",
      "Question: Suppose you have a weighted coin in which heads comes up with probability $\\frac34$ and tails with probability $\\frac14$.  If you flip heads, you win 2 dollars, but if you flip tails, you lose 1 dollar.  What is the expected value of a coin flip? Express your answer as a decimal.\n",
      "Baseline Response:\n",
      " Question: Suppose you have a weighted coin in which heads comes up with probability $\\frac34$ and tails with probability $\\frac14$.  If you flip heads, you win 2 dollars, but if you flip tails, you lose 1 dollar.  What is the expected value of a coin flip? Express your answer as a decimal.\n",
      "Please provide a step-by-step solution: \n",
      "A: The expected value of a coin flip is the sum of the product of each possible outcome and its probability. That is:\n",
      "\n",
      "$$E(X) = P(H)H + P(T)T$$\n",
      "\n",
      "where $H$ is heads and $T$ is tails, and $P(H) = \\frac{2}{3}$ and $P(T) = \\frac{1}{3}$.\n",
      "\n",
      "Plugging in the values, we get:\n",
      "\n",
      "$$E(X) = \\frac{2}{3}(2) + \\frac{1}{3}(-1)$$\n",
      "\n",
      "$$E(X) = \\frac{4}{3} - \\frac{1}{3}$$\n",
      "\n",
      "$$E(X) = 3 - 1$$\n",
      "\n",
      "$$E(X) = 2$$\n",
      "\n",
      "So, the expected value of a coin flip is 2 dollars.\n",
      "\n",
      "Finetuned Response:\n",
      " Question: Suppose you have a weighted coin in which heads comes up with probability $\\frac34$ and tails with probability $\\frac14$.  If you flip heads, you win 2 dollars, but if you flip tails, you lose 1 dollar.  What is the expected value of a coin flip? Express your answer as a decimal.\n",
      "Please provide a step-by-step solution:\n",
      "<|question_end|>Tutor: Sure, I can help with that. When you're dealing with weighted coin flips, you multiply the probability of each outcome by the amount you win or lose.\n",
      "<|question|>Student: Okay, so I multiply the probability of getting heads by the amount I win, then add that to the probability of getting tails multiplied by the amount I lose?\n",
      "<|question_end|>Tutor: Exactly! So, what do you get when you do that?\n",
      "<|question|>Student: So for heads, I multiply $\\frac34$ by $2$, which gives me $0.68$. And for tails, I multiply $\\frac14$ by $-1$, which gives me $-0.14$.\n",
      "<|question_end|>Tutor: That's correct! Now, what's the last step?\n",
      "<|question|>Student: I add those two results together, right\n",
      "Metrics: {'baseline': {'bleu': 0.011912010718850922, 'rouge': {'rouge1': 0.19459459459459458, 'rouge2': 0.0, 'rougeL': 0.1297297297297297}, 'correctness': 0.5, 'logical_coherence': 1.0, 'step_alignment': 0.75, 'completeness': 0.9, 'reasoning_length_ratio': 0.24124513618677043, 'error_identification': 0.5, 'geval_reasoning_score': 0.13910405993308536, 'geval_reasoning_reason': 'Actual Output does not include the step-by-step solution as requested in the input and expected output.'}, 'finetuned': {'bleu': 0.004443207746170748, 'rouge': {'rouge1': 0.18518518518518517, 'rouge2': 0.01869158878504673, 'rougeL': 0.12962962962962962}, 'correctness': 0.5, 'logical_coherence': 0.9, 'step_alignment': 0.75, 'completeness': 0.5, 'reasoning_length_ratio': 0.2594142259414226, 'error_identification': 0.5, 'geval_reasoning_score': 0.22621499306287488, 'geval_reasoning_reason': 'The provided text shows the steps of multiplying the probability with the amount, but does not clearly state them as reasoning steps as required. Additionally, the final answer should be in the format of a currency value, which is not consistent with the expected output.'}}\n"
     ]
    },
    {
     "data": {
      "application/vnd.jupyter.widget-view+json": {
       "model_id": "",
       "version_major": 2,
       "version_minor": 0
      },
      "text/plain": [
       "Output()"
      ]
     },
     "metadata": {},
     "output_type": "display_data"
    },
    {
     "data": {
      "text/html": [
       "<pre style=\"white-space:pre;overflow-x:auto;line-height:normal;font-family:Menlo,'DejaVu Sans Mono',consolas,'Courier New',monospace\"></pre>\n"
      ],
      "text/plain": []
     },
     "metadata": {},
     "output_type": "display_data"
    },
    {
     "data": {
      "application/vnd.jupyter.widget-view+json": {
       "model_id": "",
       "version_major": 2,
       "version_minor": 0
      },
      "text/plain": [
       "Output()"
      ]
     },
     "metadata": {},
     "output_type": "display_data"
    },
    {
     "data": {
      "text/html": [
       "<pre style=\"white-space:pre;overflow-x:auto;line-height:normal;font-family:Menlo,'DejaVu Sans Mono',consolas,'Courier New',monospace\"></pre>\n"
      ],
      "text/plain": []
     },
     "metadata": {},
     "output_type": "display_data"
    },
    {
     "name": "stderr",
     "output_type": "stream",
     "text": [
      "Setting `pad_token_id` to `eos_token_id`:50256 for open-end generation.\n",
      "Setting `pad_token_id` to `eos_token_id`:50256 for open-end generation.\n"
     ]
    },
    {
     "name": "stdout",
     "output_type": "stream",
     "text": [
      "\n",
      "Question: Complex numbers are often used when dealing with alternating current (AC) circuits. In the equation $V = IZ$, $V$ is voltage, $I$ is current, and $Z$ is a value known as impedance. If $V = 1+i$ and $Z=2-i$, find $I$.\n",
      "Baseline Response:\n",
      " Question: Complex numbers are often used when dealing with alternating current (AC) circuits. In the equation $V = IZ$, $V$ is voltage, $I$ is current, and $Z$ is a value known as impedance. If $V = 1+i$ and $Z=2-i$, find $I$.\n",
      "Please provide a step-by-step solution:  OUTPUT: To find $I$, we can rearrange the equation $V = IZ$ to solve for $I$:\n",
      "$I = \\frac{V}{Z}$\n",
      "Substituting the given values for $V$ and $Z$, we get:\n",
      "$I = \\frac{1+i}{2-i}$\n",
      "To simplify this expression, we can multiply the numerator and denominator by the complex conjugate of the denominator, which is $2+i$:\n",
      "$I = \\frac{(1+i)(2+i)}{(2-i)(2+i)}$\n",
      "Using the distributive property, we get:\n",
      "$I = \\frac{2+2i+i+i^2}{4-i^2}$\n",
      "Simplifying the expression by substituting $i^2 = -1$, we get:\n",
      "$I = \\frac{2+\n",
      "Finetuned Response:\n",
      " Question: Complex numbers are often used when dealing with alternating current (AC) circuits. In the equation $V = IZ$, $V$ is voltage, $I$ is current, and $Z$ is a value known as impedance. If $V = 1+i$ and $Z=2-i$, find $I$.\n",
      "Please provide a step-by-step solution:\n",
      "## INPUT\n",
      "\n",
      "##OUTPUT\n",
      "To find $I$, we need to rearrange the equation $V = IZ$ to solve for $I$. \n",
      "Using the given values of $V$ and $Z$, we can substitute them into the equation:\n",
      "$1+i = I(2-i)$\n",
      "Next, we can multiply out the parentheses:\n",
      "$1+i = 2I-I^2$\n",
      "Using the fact that $i^2 = -1$, we can simplify the equation:\n",
      "$1+i = 2I-1$\n",
      "Now, we can solve for $I$ by adding $1$ to both sides of the equation:\n",
      "$2I = 1+i$\n",
      "Finally, we can divide both sides by $2$ to isolate $I$:\n",
      "$I = \\frac{1+i}{2}$\n",
      "Therefore, the value of $I$ is $\\frac{1\n",
      "Metrics: {'baseline': {'bleu': 0.16986657475911263, 'rouge': {'rouge1': 0.5229357798165137, 'rouge2': 0.36111111111111105, 'rougeL': 0.3853211009174312}, 'correctness': 0.2, 'logical_coherence': 0.8, 'step_alignment': 0.8, 'completeness': 1.0, 'reasoning_length_ratio': 0.65, 'error_identification': 0.5, 'geval_reasoning_score': 0.3915180520758906, 'geval_reasoning_reason': 'Some critical steps from the reference are present in the hypothesis such as multiplying by the conjugate of the denominator and substituting the values of i^2, but there are missing calculations and simplifications when evaluating the expression.'}, 'finetuned': {'bleu': 0.06468266316112586, 'rouge': {'rouge1': 0.4104803493449782, 'rouge2': 0.14096916299559473, 'rougeL': 0.27947598253275113}, 'correctness': 0.5, 'logical_coherence': 0.9, 'step_alignment': 1.0, 'completeness': 0.5, 'reasoning_length_ratio': 0.6163793103448276, 'error_identification': 0.5, 'geval_reasoning_score': 0.21254565787070376, 'geval_reasoning_reason': 'The actual output does not show the step-by-step solution as outlined in the evaluation steps. The final answer is also incorrect when compared to the expected output.'}}\n"
     ]
    },
    {
     "data": {
      "application/vnd.jupyter.widget-view+json": {
       "model_id": "",
       "version_major": 2,
       "version_minor": 0
      },
      "text/plain": [
       "Output()"
      ]
     },
     "metadata": {},
     "output_type": "display_data"
    },
    {
     "data": {
      "text/html": [
       "<pre style=\"white-space:pre;overflow-x:auto;line-height:normal;font-family:Menlo,'DejaVu Sans Mono',consolas,'Courier New',monospace\"></pre>\n"
      ],
      "text/plain": []
     },
     "metadata": {},
     "output_type": "display_data"
    },
    {
     "data": {
      "application/vnd.jupyter.widget-view+json": {
       "model_id": "",
       "version_major": 2,
       "version_minor": 0
      },
      "text/plain": [
       "Output()"
      ]
     },
     "metadata": {},
     "output_type": "display_data"
    },
    {
     "data": {
      "text/html": [
       "<pre style=\"white-space:pre;overflow-x:auto;line-height:normal;font-family:Menlo,'DejaVu Sans Mono',consolas,'Courier New',monospace\"></pre>\n"
      ],
      "text/plain": []
     },
     "metadata": {},
     "output_type": "display_data"
    },
    {
     "name": "stderr",
     "output_type": "stream",
     "text": [
      "Setting `pad_token_id` to `eos_token_id`:50256 for open-end generation.\n",
      "Setting `pad_token_id` to `eos_token_id`:50256 for open-end generation.\n"
     ]
    },
    {
     "name": "stdout",
     "output_type": "stream",
     "text": [
      "\n",
      "Question: Ellen baked $2$ dozen cupcakes of which half contained chocolate, two-thirds contained raisins, one-fourth contained chocolate chips, and one-sixth contained nuts.  What is the largest possible number of cupcakes that had none of these ingredients?\n",
      "Baseline Response:\n",
      " Question: Ellen baked $2$ dozen cupcakes of which half contained chocolate, two-thirds contained raisins, one-fourth contained chocolate chips, and one-sixth contained nuts.  What is the largest possible number of cupcakes that had none of these ingredients?\n",
      "Please provide a step-by-step solution:\n",
      "\n",
      "Solution:\n",
      "First, we need to determine the total number of cupcakes Ellen baked.\n",
      "Since Ellen baked $2$ dozen cupcakes, we know she baked $2 x 12 = 24$ cupcakes.\n",
      "Next, we need to determine the number of cupcakes that contained chocolate, raisins, chocolate chips, and nuts.\n",
      "Half of the cupcakes had chocolate, which is $24/2 = 12$ cupcakes.\n",
      "Two-thirds of the cupcakes had raisins, which is $24 x 2/3 = 16$ cupcakes.\n",
      "One-fourth of the cupcakes had chocolate chips, which is $24 x 1/4 = 6$ cupcakes.\n",
      "One-sixth of the cupcakes had nuts, which is $24 x 1/6 = 4$ cupcakes.\n",
      "To find the largest possible number of cupcakes that had none of these ingredients, we need to subtract the number of cupcakes that had at\n",
      "Finetuned Response:\n",
      " Question: Ellen baked $2$ dozen cupcakes of which half contained chocolate, two-thirds contained raisins, one-fourth contained chocolate chips, and one-sixth contained nuts.  What is the largest possible number of cupcakes that had none of these ingredients?\n",
      "Please provide a step-by-step solution:\n",
      "<|question_end|>Tutor: Sure, I'd be glad to help you with that. First, let's find out how many cupcakes Ellen baked in total. How many cupcakes are in one dozen?\n",
      "<|question|>Student: There are 12 cupcakes in a dozen.\n",
      "<|question_end|>Tutor: Correct. So if Ellen baked 2 dozen cupcakes, how many cupcakes did she bake in total?\n",
      "<|question|>Student: She baked 24 cupcakes in total.\n",
      "<|question_end|>Tutor: That's right. Now, let's find out how many cupcakes contained each of the ingredients.\n",
      "<|question|>Student: Alright. Half of 24 is 12, so 12 cupcakes contained chocolate. Two-thirds of 24 is 16, so 16 cupcakes contained raisins. One-fourth of 24 is 6, so 6 cupcakes contained chocolate chips. And\n",
      "Metrics: {'baseline': {'bleu': 0.06442432904931306, 'rouge': {'rouge1': 0.3347280334728034, 'rouge2': 0.11814345991561181, 'rougeL': 0.20920502092050206}, 'correctness': 0.5, 'logical_coherence': 0.5, 'step_alignment': 0.5, 'completeness': 0.8, 'reasoning_length_ratio': 0.38164251207729466, 'error_identification': 0.0, 'geval_reasoning_score': 0.42822729032943013, 'geval_reasoning_reason': 'Actual Output provides a step-by-step solution but does not clearly explain the process of determining the largest possible number of cupcakes with none of the ingredients. Expected Output gives a concise and clear explanation of the answer.'}, 'finetuned': {'bleu': 0.0501323152346629, 'rouge': {'rouge1': 0.3148936170212766, 'rouge2': 0.10300429184549355, 'rougeL': 0.1702127659574468}, 'correctness': 0.5, 'logical_coherence': 0.8, 'step_alignment': 0.8, 'completeness': 0.5, 'reasoning_length_ratio': 0.38164251207729466, 'error_identification': 0.9, 'geval_reasoning_score': 0.1256053260861952, 'geval_reasoning_reason': 'The text does not explicitly state the reasoning steps and does not match the critical steps from the reference. The final conclusion does not align with the expected output as it does not provide the correct largest possible number of cupcakes with none of the ingredients.'}}\n"
     ]
    },
    {
     "data": {
      "application/vnd.jupyter.widget-view+json": {
       "model_id": "",
       "version_major": 2,
       "version_minor": 0
      },
      "text/plain": [
       "Output()"
      ]
     },
     "metadata": {},
     "output_type": "display_data"
    },
    {
     "data": {
      "text/html": [
       "<pre style=\"white-space:pre;overflow-x:auto;line-height:normal;font-family:Menlo,'DejaVu Sans Mono',consolas,'Courier New',monospace\"></pre>\n"
      ],
      "text/plain": []
     },
     "metadata": {},
     "output_type": "display_data"
    },
    {
     "data": {
      "application/vnd.jupyter.widget-view+json": {
       "model_id": "",
       "version_major": 2,
       "version_minor": 0
      },
      "text/plain": [
       "Output()"
      ]
     },
     "metadata": {},
     "output_type": "display_data"
    },
    {
     "data": {
      "text/html": [
       "<pre style=\"white-space:pre;overflow-x:auto;line-height:normal;font-family:Menlo,'DejaVu Sans Mono',consolas,'Courier New',monospace\"></pre>\n"
      ],
      "text/plain": []
     },
     "metadata": {},
     "output_type": "display_data"
    },
    {
     "name": "stderr",
     "output_type": "stream",
     "text": [
      "Setting `pad_token_id` to `eos_token_id`:50256 for open-end generation.\n",
      "Setting `pad_token_id` to `eos_token_id`:50256 for open-end generation.\n"
     ]
    },
    {
     "name": "stdout",
     "output_type": "stream",
     "text": [
      "\n",
      "Question: A circle has the same center as an ellipse and passes through the foci $F_1$ and $F_2$ of the ellipse.  The two curves intersect in 4 points.  Let $P$ be any point of intersection.  If the major axis of the ellipse is 15 and the area of triangle $PF_1 F_2$ is 26, compute the distance between the foci.\n",
      "Baseline Response:\n",
      " Question: A circle has the same center as an ellipse and passes through the foci $F_1$ and $F_2$ of the ellipse.  The two curves intersect in 4 points.  Let $P$ be any point of intersection.  If the major axis of the ellipse is 15 and the area of triangle $PF_1 F_2$ is 26, compute the distance between the foci.\n",
      "Please provide a step-by-step solution:\n",
      "\n",
      "Solution:\n",
      "\n",
      "We are given that the ellipse has the same center as the circle and passes through the foci $F_1$ and $F_2$. Therefore, the circle is inscribed in the ellipse. We are also given that the area of triangle $PF_1 F_2$ is 26. We want to find the distance between the foci, which is denoted by $c$.\n",
      "\n",
      "To solve this problem, we can use the following steps:\n",
      "\n",
      "- Step 1: Find the length of the semi-major axis of the ellipse, which is denoted by $a$. Since the ellipse is symmetric about the major axis, we can assume that the semi-minor axis is $b = 15 - a$.\n",
      "- Step 2: Find the length of the semi-minor axis of the circle, which is denoted by $r$. Since the circle is inscribed in the ellipse\n",
      "Finetuned Response:\n",
      " Question: A circle has the same center as an ellipse and passes through the foci $F_1$ and $F_2$ of the ellipse.  The two curves intersect in 4 points.  Let $P$ be any point of intersection.  If the major axis of the ellipse is 15 and the area of triangle $PF_1 F_2$ is 26, compute the distance between the foci.\n",
      "Please provide a step-by-step solution:\n",
      "\n",
      "Solution 0:\n",
      "\n",
      "Step 1: We know that the major axis of an ellipse is the longest segment that passes through the center and both foci. The major axis is also parallel to the x-axis or the y-axis of the coordinate plane. \n",
      "\n",
      "Step 2: To find the distance between the foci, we can use the formula $4a = 2c$, where $a$ is the semi-major axis and $c$ is the semi-minor axis of the ellipse. The semi-major axis is half of the major axis, and the semi-minor axis is half of the minor axis, which is perpendicular to the major axis.\n",
      "\n",
      "Step 3: We are given that the major axis of the ellipse is 15, so $a = 7.5$. We are also given that the area of triangle $PF_1 F_2$ is 26, where $P$ is any point of\n",
      "Metrics: {'baseline': {'bleu': 0.014194733437257624, 'rouge': {'rouge1': 0.21164021164021166, 'rouge2': 0.06382978723404256, 'rougeL': 0.14285714285714285}, 'correctness': 0.5, 'logical_coherence': 0.8, 'step_alignment': 1.0, 'completeness': 0.0, 'reasoning_length_ratio': 0.7476923076923077, 'error_identification': 0.5, 'geval_reasoning_score': 0.181260231660593, 'geval_reasoning_reason': 'The text includes some relevant steps and information from the Expected Output, but does not fully solve the problem and provide the correct answer.'}, 'finetuned': {'bleu': 0.013575532570241241, 'rouge': {'rouge1': 0.1974025974025974, 'rouge2': 0.04699738903394256, 'rougeL': 0.12467532467532468}, 'correctness': 0.5, 'logical_coherence': 0.8, 'step_alignment': 1.0, 'completeness': 0.2, 'reasoning_length_ratio': 0.7446153846153846, 'error_identification': 0.5, 'geval_reasoning_score': 0.3451960165835554, 'geval_reasoning_reason': 'The solution does not explicitly state reasoning steps, as outlined in the evaluation steps. It also lacks the stated working to find the answer, which is given directly in the expected output. The final answer matches the expected output.'}}\n"
     ]
    },
    {
     "data": {
      "application/vnd.jupyter.widget-view+json": {
       "model_id": "",
       "version_major": 2,
       "version_minor": 0
      },
      "text/plain": [
       "Output()"
      ]
     },
     "metadata": {},
     "output_type": "display_data"
    },
    {
     "data": {
      "text/html": [
       "<pre style=\"white-space:pre;overflow-x:auto;line-height:normal;font-family:Menlo,'DejaVu Sans Mono',consolas,'Courier New',monospace\"></pre>\n"
      ],
      "text/plain": []
     },
     "metadata": {},
     "output_type": "display_data"
    },
    {
     "data": {
      "application/vnd.jupyter.widget-view+json": {
       "model_id": "",
       "version_major": 2,
       "version_minor": 0
      },
      "text/plain": [
       "Output()"
      ]
     },
     "metadata": {},
     "output_type": "display_data"
    },
    {
     "data": {
      "text/html": [
       "<pre style=\"white-space:pre;overflow-x:auto;line-height:normal;font-family:Menlo,'DejaVu Sans Mono',consolas,'Courier New',monospace\"></pre>\n"
      ],
      "text/plain": []
     },
     "metadata": {},
     "output_type": "display_data"
    },
    {
     "name": "stderr",
     "output_type": "stream",
     "text": [
      "Setting `pad_token_id` to `eos_token_id`:50256 for open-end generation.\n",
      "Setting `pad_token_id` to `eos_token_id`:50256 for open-end generation.\n"
     ]
    },
    {
     "name": "stdout",
     "output_type": "stream",
     "text": [
      "\n",
      "Question: The area of triangle $XYZ$ is 8 square inches.  Points $A$ and $B$ are midpoints of congruent segments $\\overline{XY}$ and $\\overline{XZ}$.  Altitude $\\overline{XC}$ bisects $\\overline{YZ}$.  What is the area (in square inches) of the shaded region? [asy]\n",
      "/* AMC8 2002 #20 Problem */\n",
      "draw((0,0)--(10,0)--(5,4)--cycle);\n",
      "draw((2.5,2)--(7.5,2));\n",
      "draw((5,4)--(5,0));\n",
      "fill((0,0)--(2.5,2)--(5,2)--(5,0)--cycle, mediumgrey);\n",
      "label(scale(0.8)*\"$X$\", (5,4), N);\n",
      "label(scale(0.8)*\"$Y$\", (0,0), W);\n",
      "label(scale(0.8)*\"$Z$\", (10,0), E);\n",
      "label(scale(0.8)*\"$A$\", (2.5,2.2), W);\n",
      "label(scale(0.8)*\"$B$\", (7.5,2.2), E);\n",
      "label(scale(0.8)*\"$C$\", (5,0), S);\n",
      "fill((0,-.8)--(1,-.8)--(1,-.95)--cycle, white);\n",
      "[/asy]\n",
      "Baseline Response:\n",
      " Question: The area of triangle $XYZ$ is 8 square inches.  Points $A$ and $B$ are midpoints of congruent segments $\\overline{XY}$ and $\\overline{XZ}$.  Altitude $\\overline{XC}$ bisects $\\overline{YZ}$.  What is the area (in square inches) of the shaded region? [asy]\n",
      "/* AMC8 2002 #20 Problem */\n",
      "draw((0,0)--(10,0)--(5,4)--cycle);\n",
      "draw((2.5,2)--(7.5,2));\n",
      "draw((5,4)--(5,0));\n",
      "fill((0,0)--(2.5,2)--(5,2)--(5,0)--cycle, mediumgrey);\n",
      "label(scale(0.8)*\"$X$\", (5,4), N);\n",
      "label(scale(0.8)*\"$Y$\", (0,0), W);\n",
      "label(scale(0.8)*\"$Z$\", (10,0), E);\n",
      "label(scale(0.8)*\"$A$\", (2.5,2.2), W);\n",
      "label(scale(0.8)*\"$B$\", (7.5,2.2), E);\n",
      "label(scale(0.8)*\"$C$\", (5,0), S);\n",
      "fill((0,-.8)--(1,-.8)--(1,-.95)--cycle, white);\n",
      "[/asy]\n",
      "Please provide a step-by-step solution:\n",
      "Tutor: Alright, let's tackle this problem step by step. First, let's find the length of $\\overline{XY}$.\n",
      "<|question|>Student: Sure, that would be $10 - 0 = 10$ inches.\n",
      "<|question_end|>Tutor: Correct. Now, since $A$ and $B$ are midpoints of $\\overline{XY}$, the length of $\\overline{AB}$ is half of $10$, which is $5$ inches.\n",
      "<|question|>Student: Got it. What's the next step?\n",
      "<|question_end|>Tutor: Now, we need to find the length of $\\overline{XZ}$. Since it's a congruent segment to $\\overline{XY}$, it also has a length of $10$ inches.\n",
      "<|question|>Student: Okay, so $\\overline{XZ}$\n",
      "Finetuned Response:\n",
      " Question: The area of triangle $XYZ$ is 8 square inches.  Points $A$ and $B$ are midpoints of congruent segments $\\overline{XY}$ and $\\overline{XZ}$.  Altitude $\\overline{XC}$ bisects $\\overline{YZ}$.  What is the area (in square inches) of the shaded region? [asy]\n",
      "/* AMC8 2002 #20 Problem */\n",
      "draw((0,0)--(10,0)--(5,4)--cycle);\n",
      "draw((2.5,2)--(7.5,2));\n",
      "draw((5,4)--(5,0));\n",
      "fill((0,0)--(2.5,2)--(5,2)--(5,0)--cycle, mediumgrey);\n",
      "label(scale(0.8)*\"$X$\", (5,4), N);\n",
      "label(scale(0.8)*\"$Y$\", (0,0), W);\n",
      "label(scale(0.8)*\"$Z$\", (10,0), E);\n",
      "label(scale(0.8)*\"$A$\", (2.5,2.2), W);\n",
      "label(scale(0.8)*\"$B$\", (7.5,2.2), E);\n",
      "label(scale(0.8)*\"$C$\", (5,0), S);\n",
      "fill((0,-.8)--(1,-.8)--(1,-.95)--cycle, white);\n",
      "[/asy]\n",
      "Please provide a step-by-step solution:\n",
      "\n",
      "A:\n",
      "\n",
      "The first statement says that the area is 8 in2, so let's work on that.\n",
      "We can split the problem in two parts:\n",
      "\n",
      "The area of the triangle XYZ.\n",
      "The area of the triangle WXY.\n",
      "\n",
      "We know that the area of the triangle XYZ is 1/2 * base * height. The base is the length of the segment XZ, which is 10 units. The height is the length of the altitude from X to YZ, which we can find using the Pythagorean theorem.\n",
      "The Pythagorean theorem says that for a right triangle with legs a and b and hypotenuse c, a^2 + b^2 = c^2.\n",
      "In our case, a = 5 units, b = 4 units, and c = the length of the altitude from X to YZ. So we have:\n",
      "5^2 + 4^2 = c^2\n",
      "25 + 16\n",
      "Metrics: {'baseline': {'bleu': 0.5661407308207772, 'rouge': {'rouge1': 0.6137339055793991, 'rouge2': 0.4396551724137931, 'rougeL': 0.4678111587982833}, 'correctness': 0.5, 'logical_coherence': 0.9, 'step_alignment': 1.0, 'completeness': 0.5, 'reasoning_length_ratio': 0.9486081370449678, 'error_identification': 0.5, 'geval_reasoning_score': 0.2120377643751798, 'geval_reasoning_reason': 'The Actual Output provides the question and some calculations but does not address the steps in the Expected Output, including the explanation and final answer.'}, 'finetuned': {'bleu': 0.541085592161586, 'rouge': {'rouge1': 0.5725646123260438, 'rouge2': 0.4151696606786427, 'rougeL': 0.42942345924453285}, 'correctness': 0.2, 'logical_coherence': 0.8, 'step_alignment': 0.5, 'completeness': 0.5, 'reasoning_length_ratio': 0.9736263736263736, 'error_identification': 0.0, 'geval_reasoning_score': 0.1972895772243722, 'geval_reasoning_reason': 'The actual output does not provide a step-by-step solution as requested in the input and does not match the expected output.'}}\n"
     ]
    },
    {
     "data": {
      "application/vnd.jupyter.widget-view+json": {
       "model_id": "",
       "version_major": 2,
       "version_minor": 0
      },
      "text/plain": [
       "Output()"
      ]
     },
     "metadata": {},
     "output_type": "display_data"
    },
    {
     "data": {
      "text/html": [
       "<pre style=\"white-space:pre;overflow-x:auto;line-height:normal;font-family:Menlo,'DejaVu Sans Mono',consolas,'Courier New',monospace\"></pre>\n"
      ],
      "text/plain": []
     },
     "metadata": {},
     "output_type": "display_data"
    },
    {
     "data": {
      "application/vnd.jupyter.widget-view+json": {
       "model_id": "",
       "version_major": 2,
       "version_minor": 0
      },
      "text/plain": [
       "Output()"
      ]
     },
     "metadata": {},
     "output_type": "display_data"
    },
    {
     "data": {
      "text/html": [
       "<pre style=\"white-space:pre;overflow-x:auto;line-height:normal;font-family:Menlo,'DejaVu Sans Mono',consolas,'Courier New',monospace\"></pre>\n"
      ],
      "text/plain": []
     },
     "metadata": {},
     "output_type": "display_data"
    },
    {
     "name": "stderr",
     "output_type": "stream",
     "text": [
      "Setting `pad_token_id` to `eos_token_id`:50256 for open-end generation.\n",
      "Setting `pad_token_id` to `eos_token_id`:50256 for open-end generation.\n"
     ]
    },
    {
     "name": "stdout",
     "output_type": "stream",
     "text": [
      "\n",
      "Question: The graph of \\[4x^2 - 6x + 2 = y^2 - 10y\\]is a hyperbola. Find the coordinates of its center.\n",
      "Baseline Response:\n",
      " Question: The graph of \\[4x^2 - 6x + 2 = y^2 - 10y\\]is a hyperbola. Find the coordinates of its center.\n",
      "Please provide a step-by-step solution:\n",
      "Answer: To find the center of a hyperbola, we need to complete the square for both x and y. Let's start with the equation 4x^2 - 6x + 2 = y^2 - 10y.\n",
      "\n",
      "Step 1: Complete the square for x.\n",
      "4x^2 - 6x + 2 = y^2 - 10y\n",
      "4(x^2 - (3/2)x) + 2 = y^2 - 10y\n",
      "4(x^2 - (3/2)x + (9/8) - (9/8)) + 2 = y^2 - 10y + (9/16)\n",
      "4(x - 3/4)^2 - 21/8 + 2 = y^2 - 10y + (9/16)\n",
      "4(x - 3/4)^2 + (61/8) = y^2 - 10y + (65/16)\n",
      "\n",
      "Finetuned Response:\n",
      " Question: The graph of \\[4x^2 - 6x + 2 = y^2 - 10y\\]is a hyperbola. Find the coordinates of its center.\n",
      "Please provide a step-by-step solution:\n",
      "Answer: To find the coordinates of the center of a hyperbola, you need to identify the values of \\[a\\] and \\[h\\] in the equation. In this case, the equation is \\[4x^2 - 6x + 2 = y^2 - 10y\\].\n",
      "To find \\[a\\], you need to complete the square for both x and y terms. First, let's complete the square for the x terms:\n",
      "\\[4x^2 - 6x + 2 = (2x^2 - 3x) + 2\\]\n",
      "\\[(2x^2 - 3x + \\frac{9}{4}) + 2 = \\frac{9}{4} + 2\\]\n",
      "\\[(2x - \\frac{3}{2})^2 = 15/4\\]\n",
      "Now, let's complete the square for the y terms:\n",
      "\\[y^2 - 10\n",
      "Metrics: {'baseline': {'bleu': 0.0037746563796005007, 'rouge': {'rouge1': 0.29787234042553196, 'rouge2': 0.08547008547008547, 'rougeL': 0.17872340425531913}, 'correctness': 0.5, 'logical_coherence': 0.9, 'step_alignment': 0.4, 'completeness': 0.5, 'reasoning_length_ratio': 0.2694136291600634, 'error_identification': 1.0, 'geval_reasoning_score': 0.22760475846697922, 'geval_reasoning_reason': 'The actual output provides a step-by-step solution to complete the square for x, but it does not provide the final conclusion of finding the center of the hyperbola as expected.'}, 'finetuned': {'bleu': 0.009757523801020213, 'rouge': {'rouge1': 0.25738396624472576, 'rouge2': 0.046610169491525424, 'rougeL': 0.11814345991561181}, 'correctness': 0.9, 'logical_coherence': 0.5, 'step_alignment': 0.8, 'completeness': 0.5, 'reasoning_length_ratio': 0.312202852614897, 'error_identification': 0.5, 'geval_reasoning_score': 0.1926445368170434, 'geval_reasoning_reason': 'The actual output provides a step-by-step solution but does not reach the final conclusion or match the expected output. The expected output gives the correct center coordinates of the hyperbola and completes the square steps properly.'}}\n"
     ]
    },
    {
     "data": {
      "application/vnd.jupyter.widget-view+json": {
       "model_id": "",
       "version_major": 2,
       "version_minor": 0
      },
      "text/plain": [
       "Output()"
      ]
     },
     "metadata": {},
     "output_type": "display_data"
    },
    {
     "data": {
      "text/html": [
       "<pre style=\"white-space:pre;overflow-x:auto;line-height:normal;font-family:Menlo,'DejaVu Sans Mono',consolas,'Courier New',monospace\"></pre>\n"
      ],
      "text/plain": []
     },
     "metadata": {},
     "output_type": "display_data"
    },
    {
     "data": {
      "application/vnd.jupyter.widget-view+json": {
       "model_id": "",
       "version_major": 2,
       "version_minor": 0
      },
      "text/plain": [
       "Output()"
      ]
     },
     "metadata": {},
     "output_type": "display_data"
    },
    {
     "data": {
      "text/html": [
       "<pre style=\"white-space:pre;overflow-x:auto;line-height:normal;font-family:Menlo,'DejaVu Sans Mono',consolas,'Courier New',monospace\"></pre>\n"
      ],
      "text/plain": []
     },
     "metadata": {},
     "output_type": "display_data"
    },
    {
     "name": "stderr",
     "output_type": "stream",
     "text": [
      "Setting `pad_token_id` to `eos_token_id`:50256 for open-end generation.\n",
      "Setting `pad_token_id` to `eos_token_id`:50256 for open-end generation.\n"
     ]
    },
    {
     "name": "stdout",
     "output_type": "stream",
     "text": [
      "\n",
      "Question: Right $\\Delta ABC$ has legs measuring 8 cm and 15 cm. The triangle is rotated about one of its legs. What is the number of cubic centimeters in the maximum possible volume of the resulting solid? Express your answer in terms of $\\pi$.\n",
      "Baseline Response:\n",
      " Question: Right $\\Delta ABC$ has legs measuring 8 cm and 15 cm. The triangle is rotated about one of its legs. What is the number of cubic centimeters in the maximum possible volume of the resulting solid? Express your answer in terms of $\\pi$.\n",
      "Please provide a step-by-step solution:\n",
      "[MATLAB code]\n",
      "To find the maximum volume of the resulting solid, we need to find the maximum possible height of the solid. This occurs when the second leg of the triangle is equal to or greater than the third leg. In this case, the second leg is 15 cm and the third leg is unknown. We can solve for the length of the third leg using the Pythagorean theorem:\n",
      "$a^2 + b^2 = c^2$\n",
      "$8^2 + b^2 = 15^2$\n",
      "$64 + b^2 = 225$\n",
      "$b^2 = 161$\n",
      "$b = \\sqrt{161}$\n",
      "Now we can find the maximum height of the solid by taking the smaller of the two legs of the original triangle (8 cm) and the length of the third leg (sqrt(161) cm):\n",
      "$h = min(8, \\sqrt{161})$\n",
      "$h \\\n",
      "Finetuned Response:\n",
      " Question: Right $\\Delta ABC$ has legs measuring 8 cm and 15 cm. The triangle is rotated about one of its legs. What is the number of cubic centimeters in the maximum possible volume of the resulting solid? Express your answer in terms of $\\pi$.\n",
      "Please provide a step-by-step solution:\n",
      " \n",
      "Answer: To find the maximum possible volume of the resulting solid, we need to find the maximum possible area of the base of the solid.\n",
      "Let's assume that the triangle is rotated about the side measuring 15 cm. Then the height of the resulting solid will be the length of the other leg of the triangle, which is 8 cm.\n",
      "Let's also assume that the radius of the base of the solid is r cm. Then the radius of the circular top of the solid will also be r cm.\n",
      "The base of the solid is a circle with radius r and height 8 cm. So, the area of the base is $A_{base} = \\pi r^2$.\n",
      "The volume of the solid is given by $V = \\frac{1}{3} A_{base} h$, where h is the height of the solid.\n",
      "Substituting the values, we get $V = \\frac{1}{3} \\pi r^\n",
      "Metrics: {'baseline': {'bleu': 0.057561862986859336, 'rouge': {'rouge1': 0.41134751773049644, 'rouge2': 0.11428571428571428, 'rougeL': 0.2269503546099291}, 'correctness': 0.7, 'logical_coherence': 0.5, 'step_alignment': 0.5, 'completeness': 0.5, 'reasoning_length_ratio': 0.5726872246696035, 'error_identification': 0.5, 'geval_reasoning_score': 0.15768733863606446, 'geval_reasoning_reason': 'The explanation provided did not follow the evaluation steps nor did it arrive at the correct final volume of 600π cubic centimeters.'}, 'finetuned': {'bleu': 0.09231009053443362, 'rouge': {'rouge1': 0.4407894736842105, 'rouge2': 0.17218543046357615, 'rougeL': 0.2368421052631579}, 'correctness': 0.8, 'logical_coherence': 0.8, 'step_alignment': 1.0, 'completeness': 0.5, 'reasoning_length_ratio': 0.5306122448979592, 'error_identification': 0.5, 'geval_reasoning_score': 0.2392943707510558, 'geval_reasoning_reason': 'Actual output lacks clear step-by-step solution and does not directly provide the final answer as per the expected output.'}}\n"
     ]
    },
    {
     "data": {
      "application/vnd.jupyter.widget-view+json": {
       "model_id": "",
       "version_major": 2,
       "version_minor": 0
      },
      "text/plain": [
       "Output()"
      ]
     },
     "metadata": {},
     "output_type": "display_data"
    },
    {
     "data": {
      "text/html": [
       "<pre style=\"white-space:pre;overflow-x:auto;line-height:normal;font-family:Menlo,'DejaVu Sans Mono',consolas,'Courier New',monospace\"></pre>\n"
      ],
      "text/plain": []
     },
     "metadata": {},
     "output_type": "display_data"
    },
    {
     "data": {
      "application/vnd.jupyter.widget-view+json": {
       "model_id": "",
       "version_major": 2,
       "version_minor": 0
      },
      "text/plain": [
       "Output()"
      ]
     },
     "metadata": {},
     "output_type": "display_data"
    },
    {
     "data": {
      "text/html": [
       "<pre style=\"white-space:pre;overflow-x:auto;line-height:normal;font-family:Menlo,'DejaVu Sans Mono',consolas,'Courier New',monospace\"></pre>\n"
      ],
      "text/plain": []
     },
     "metadata": {},
     "output_type": "display_data"
    },
    {
     "name": "stderr",
     "output_type": "stream",
     "text": [
      "Setting `pad_token_id` to `eos_token_id`:50256 for open-end generation.\n",
      "Setting `pad_token_id` to `eos_token_id`:50256 for open-end generation.\n"
     ]
    },
    {
     "name": "stdout",
     "output_type": "stream",
     "text": [
      "\n",
      "Question: A convex pentagon has three right angles. The other two angles are congruent to each other. What is the measure, in degrees, of one of these other angles?\n",
      "Baseline Response:\n",
      " Question: A convex pentagon has three right angles. The other two angles are congruent to each other. What is the measure, in degrees, of one of these other angles?\n",
      "Please provide a step-by-step solution:\n",
      "Answer: Let's assume the measure of one of the other angles is x degrees. Since the pentagon has three right angles and two congruent angles, the sum of all the angles in a pentagon is 540 degrees. Therefore, we can set up the equation:\n",
      "90 + 90 + 90 + x + x = 540\n",
      "Simplifying the equation:\n",
      "180 + 2x = 540\n",
      "Subtracting 180 from both sides:\n",
      "2x = 360\n",
      "Dividing both sides by 2:\n",
      "x = 180\n",
      "Therefore, the measure of one of the other angles is 180 degrees.\n",
      "\n",
      "Finetuned Response:\n",
      " Question: A convex pentagon has three right angles. The other two angles are congruent to each other. What is the measure, in degrees, of one of these other angles?\n",
      "Please provide a step-by-step solution:\n",
      "<|question_end|>Tutor: Sure, I'd be happy to help with that. First, let's remember that the sum of the interior angles of any polygon can be found using the formula (n-2) * 180, where n is the number of sides. In this case, the pentagon has 5 sides, so (5-2) * 180 = 540 degrees.\n",
      "<|question|>Student: Okay, I got that. But how do I find the measure of one of the angles?\n",
      "<|question_end|>Tutor: Great question. If three of the angles are right angles, and we know that a full rotation is 360 degrees, we can subtract the sum of the right angles from the total degrees to find the sum of the remaining angles.\n",
      "<|question|>Student: So that would be 540 - (3 * 90) = 270 degrees.\n",
      "<|question_end|>Tutor:\n",
      "Metrics: {'baseline': {'bleu': 0.07860990539651017, 'rouge': {'rouge1': 0.45054945054945056, 'rouge2': 0.15555555555555556, 'rougeL': 0.24175824175824173}, 'correctness': 0.0, 'logical_coherence': 0.0, 'step_alignment': 1.0, 'completeness': 0.5, 'reasoning_length_ratio': 0.5694444444444444, 'error_identification': 0.5, 'geval_reasoning_score': 0.2012206436800088, 'geval_reasoning_reason': 'The reasoning steps do not explicitly state each step and do not follow logically. Actual output differs from expected output in terms of the equation setup and solution process.'}, 'finetuned': {'bleu': 0.07276467554439232, 'rouge': {'rouge1': 0.40692640692640697, 'rouge2': 0.12227074235807858, 'rougeL': 0.21645021645021645}, 'correctness': 0.5, 'logical_coherence': 1.0, 'step_alignment': 1.0, 'completeness': 0.5, 'reasoning_length_ratio': 0.3886255924170616, 'error_identification': 0.5, 'geval_reasoning_score': 0.2595732577153765, 'geval_reasoning_reason': 'The text is mostly correct, but does not explicitly state the reasoning steps or present a final conclusion supported by the reference. Actual output lacks step-by-step solution and does not match the expected output in terms of explanation format and final answer presentation.'}}\n"
     ]
    },
    {
     "data": {
      "application/vnd.jupyter.widget-view+json": {
       "model_id": "",
       "version_major": 2,
       "version_minor": 0
      },
      "text/plain": [
       "Output()"
      ]
     },
     "metadata": {},
     "output_type": "display_data"
    },
    {
     "data": {
      "text/html": [
       "<pre style=\"white-space:pre;overflow-x:auto;line-height:normal;font-family:Menlo,'DejaVu Sans Mono',consolas,'Courier New',monospace\"></pre>\n"
      ],
      "text/plain": []
     },
     "metadata": {},
     "output_type": "display_data"
    },
    {
     "data": {
      "application/vnd.jupyter.widget-view+json": {
       "model_id": "",
       "version_major": 2,
       "version_minor": 0
      },
      "text/plain": [
       "Output()"
      ]
     },
     "metadata": {},
     "output_type": "display_data"
    },
    {
     "data": {
      "text/html": [
       "<pre style=\"white-space:pre;overflow-x:auto;line-height:normal;font-family:Menlo,'DejaVu Sans Mono',consolas,'Courier New',monospace\"></pre>\n"
      ],
      "text/plain": []
     },
     "metadata": {},
     "output_type": "display_data"
    },
    {
     "name": "stderr",
     "output_type": "stream",
     "text": [
      "Setting `pad_token_id` to `eos_token_id`:50256 for open-end generation.\n",
      "Setting `pad_token_id` to `eos_token_id`:50256 for open-end generation.\n"
     ]
    },
    {
     "name": "stdout",
     "output_type": "stream",
     "text": [
      "\n",
      "Question: Find the $2 \\times 2$ matrix $\\mathbf{M}$ such that $\\mathbf{M} \\begin{pmatrix} 2 \\\\ 7 \\end{pmatrix} = \\begin{pmatrix} -15 \\\\ -6 \\end{pmatrix}$ and $\\mathbf{M} \\begin{pmatrix} 4 \\\\ -1 \\end{pmatrix} = \\begin{pmatrix} 15 \\\\ 18 \\end{pmatrix}.$\n",
      "Baseline Response:\n",
      " Question: Find the $2 \\times 2$ matrix $\\mathbf{M}$ such that $\\mathbf{M} \\begin{pmatrix} 2 \\\\ 7 \\end{pmatrix} = \\begin{pmatrix} -15 \\\\ -6 \\end{pmatrix}$ and $\\mathbf{M} \\begin{pmatrix} 4 \\\\ -1 \\end{pmatrix} = \\begin{pmatrix} 15 \\\\ 18 \\end{pmatrix}.$\n",
      "Please provide a step-by-step solution:\n",
      "Answer: \n",
      "To find the matrix $\\mathbf{M}$, we need to solve the system of equations:\n",
      "$$\\mathbf{M} \\begin{pmatrix} 2 \\\\ 7 \\end{pmatrix} = \\begin{pmatrix} -15 \\\\ -6 \\end{pmatrix} $$\n",
      "$$\\mathbf{M} \\begin{pmatrix} 4 \\\\ -1 \\end{pmatrix} = \\begin{pmatrix} 15 \\\\ 18 \\end{pmatrix}.$$\n",
      "We can start by dividing the first equation by 2:\n",
      "$$\\frac{1}{2} \\mathbf{M} \\begin{pmatrix} 2 \\\\ 7 \\end{pmatrix} = \\frac{1}{2} \\begin{pmatrix} -15 \\\\ -6 \\end{pmatrix}.$$\n",
      "Multiplying both sides by 2, we get:\n",
      "Finetuned Response:\n",
      " Question: Find the $2 \\times 2$ matrix $\\mathbf{M}$ such that $\\mathbf{M} \\begin{pmatrix} 2 \\\\ 7 \\end{pmatrix} = \\begin{pmatrix} -15 \\\\ -6 \\end{pmatrix}$ and $\\mathbf{M} \\begin{pmatrix} 4 \\\\ -1 \\end{pmatrix} = \\begin{pmatrix} 15 \\\\ 18 \\end{pmatrix}.$\n",
      "Please provide a step-by-step solution: \n",
      "A: Let $\\mathbf{M} = \\begin{pmatrix} a & b \\\\ c & d \\end{pmatrix}$. Then, we have the following two equations:\n",
      "$$\\mathbf{M} \\begin{pmatrix} 2 \\\\ 7 \\end{pmatrix} = \\begin{pmatrix} -15 \\\\ -6 \\end{pmatrix}$$\n",
      "$$\\mathbf{M} \\begin{pmatrix} 4 \\\\ -1 \\end{pmatrix} = \\begin{pmatrix} 15 \\\\ 18 \\end{pmatrix}$$\n",
      "We can solve for $\\mathbf{M}$ by using the method of matrix inverses. First, we need to find the inverse of $\\mathbf{M}$. To do this, we can use the formula:\n",
      "$$\\mathbf{M}^{-1} = \\frac{1}{\n",
      "Metrics: {'baseline': {'bleu': 0.3906656111586579, 'rouge': {'rouge1': 0.5891472868217055, 'rouge2': 0.375, 'rougeL': 0.4108527131782945}, 'correctness': 0.5, 'logical_coherence': 0.8, 'step_alignment': 1.0, 'completeness': 0.8, 'reasoning_length_ratio': 0.8703703703703703, 'error_identification': 0.5, 'geval_reasoning_score': 0.3474284567626548, 'geval_reasoning_reason': 'The Actual Output does not explicitly state the reasoning steps and does not provide the final conclusion in the correct format as shown in the Expected Output.'}, 'finetuned': {'bleu': 0.4258033220795616, 'rouge': {'rouge1': 0.6053639846743295, 'rouge2': 0.3938223938223938, 'rougeL': 0.3908045977011494}, 'correctness': 0.5, 'logical_coherence': 0.5, 'step_alignment': 1.0, 'completeness': 0.0, 'reasoning_length_ratio': 0.8925925925925926, 'error_identification': 0.5, 'geval_reasoning_score': 0.21536614669192247, 'geval_reasoning_reason': 'The actual output does not explicitly state each reasoning step or provide a step-by-step solution as required. It lacks the critical steps from the reference and does not match the final conclusion supported by the reasoning.'}}\n"
     ]
    },
    {
     "data": {
      "application/vnd.jupyter.widget-view+json": {
       "model_id": "",
       "version_major": 2,
       "version_minor": 0
      },
      "text/plain": [
       "Output()"
      ]
     },
     "metadata": {},
     "output_type": "display_data"
    },
    {
     "data": {
      "text/html": [
       "<pre style=\"white-space:pre;overflow-x:auto;line-height:normal;font-family:Menlo,'DejaVu Sans Mono',consolas,'Courier New',monospace\"></pre>\n"
      ],
      "text/plain": []
     },
     "metadata": {},
     "output_type": "display_data"
    },
    {
     "data": {
      "application/vnd.jupyter.widget-view+json": {
       "model_id": "",
       "version_major": 2,
       "version_minor": 0
      },
      "text/plain": [
       "Output()"
      ]
     },
     "metadata": {},
     "output_type": "display_data"
    },
    {
     "data": {
      "text/html": [
       "<pre style=\"white-space:pre;overflow-x:auto;line-height:normal;font-family:Menlo,'DejaVu Sans Mono',consolas,'Courier New',monospace\"></pre>\n"
      ],
      "text/plain": []
     },
     "metadata": {},
     "output_type": "display_data"
    },
    {
     "name": "stderr",
     "output_type": "stream",
     "text": [
      "Setting `pad_token_id` to `eos_token_id`:50256 for open-end generation.\n",
      "Setting `pad_token_id` to `eos_token_id`:50256 for open-end generation.\n"
     ]
    },
    {
     "name": "stdout",
     "output_type": "stream",
     "text": [
      "\n",
      "Question: What is the smallest positive integer that satisfies the congruence $30x \\equiv 42 \\pmod{47}$?\n",
      "Baseline Response:\n",
      " Question: What is the smallest positive integer that satisfies the congruence $30x \\equiv 42 \\pmod{47}$?\n",
      "Please provide a step-by-step solution:  Output: To find the smallest positive integer that satisfies the congruence $30x \\equiv 42 \\pmod{47}$, we can test values of $x$ starting from 1 and incrementing by 1 until we find a value that satisfies the congruence.\n",
      "\n",
      "1. For $x = 1$, we have:\n",
      "$30(1) \\equiv 42 \\pmod{47}$\n",
      "$30 \\equiv 42 \\pmod{47}$\n",
      "\n",
      "Since $30 \\equiv 42 \\pmod{47}$ is true, $x = 1$ is a solution.\n",
      "\n",
      "However, we need to find the smallest positive integer that satisfies the congruence. To do this, we can use the Chinese Remainder Theorem, which states that if $m_1, m_2, \\dots, m_n$ are pairwise coprime integers and $x \\equiv a_1 \\\n",
      "Finetuned Response:\n",
      " Question: What is the smallest positive integer that satisfies the congruence $30x \\equiv 42 \\pmod{47}$?\n",
      "Please provide a step-by-step solution:\n",
      " \n",
      "A: We will use the Chinese Remainder Theorem to solve this problem. The Chinese Remainder Theorem states that if we have a system of congruences:\n",
      "$$\n",
      "\\begin{cases}\n",
      "x \\equiv a_1 \\pmod{m_1} \\\\\n",
      "x \\equiv a_2 \\pmod{m_2} \\\\\n",
      "\\vdots \\\\\n",
      "x \\equiv a_n \\pmod{m_n}\n",
      "\\end{cases}\n",
      "$$\n",
      "Then there exists a unique solution modulo the product of $m_1 \\cdots m_n$, which we denote by $M = m_1 \\cdots m_n$. The solution is given by:\n",
      "$$\n",
      "x = \\sum_{i=1}^n (a_iM^i) \\bmod M\n",
      "$$\n",
      "Using this formula, we can solve the given problem as follows:\n",
      "\n",
      "1.\n",
      "Metrics: {'baseline': {'bleu': 0.09097823063303731, 'rouge': {'rouge1': 0.3619047619047619, 'rouge2': 0.06730769230769232, 'rougeL': 0.2}, 'correctness': 0.5, 'logical_coherence': 0.5, 'step_alignment': 0.5, 'completeness': 0.0, 'reasoning_length_ratio': 0.6166666666666667, 'error_identification': 0.5, 'geval_reasoning_score': 0.20047901997270096, 'geval_reasoning_reason': 'The hypothesis does not explicitly state all reasoning steps and critical steps from the reference. The final conclusion does not match the reference provided.'}, 'finetuned': {'bleu': 0.058614498755634965, 'rouge': {'rouge1': 0.31683168316831684, 'rouge2': 0.05, 'rougeL': 0.15841584158415842}, 'correctness': 0.5, 'logical_coherence': 0.2, 'step_alignment': 0.0, 'completeness': 0.2, 'reasoning_length_ratio': 0.7025316455696202, 'error_identification': 0.5, 'geval_reasoning_score': 0.17313767326974297, 'geval_reasoning_reason': 'The text provides a step-by-step solution using the Chinese Remainder Theorem, addressing the congruence and finding the modular inverse correctly, in line with the evaluation steps.'}}\n"
     ]
    },
    {
     "data": {
      "application/vnd.jupyter.widget-view+json": {
       "model_id": "",
       "version_major": 2,
       "version_minor": 0
      },
      "text/plain": [
       "Output()"
      ]
     },
     "metadata": {},
     "output_type": "display_data"
    },
    {
     "data": {
      "text/html": [
       "<pre style=\"white-space:pre;overflow-x:auto;line-height:normal;font-family:Menlo,'DejaVu Sans Mono',consolas,'Courier New',monospace\"></pre>\n"
      ],
      "text/plain": []
     },
     "metadata": {},
     "output_type": "display_data"
    },
    {
     "data": {
      "application/vnd.jupyter.widget-view+json": {
       "model_id": "",
       "version_major": 2,
       "version_minor": 0
      },
      "text/plain": [
       "Output()"
      ]
     },
     "metadata": {},
     "output_type": "display_data"
    },
    {
     "data": {
      "text/html": [
       "<pre style=\"white-space:pre;overflow-x:auto;line-height:normal;font-family:Menlo,'DejaVu Sans Mono',consolas,'Courier New',monospace\"></pre>\n"
      ],
      "text/plain": []
     },
     "metadata": {},
     "output_type": "display_data"
    },
    {
     "name": "stderr",
     "output_type": "stream",
     "text": [
      "Setting `pad_token_id` to `eos_token_id`:50256 for open-end generation.\n",
      "Setting `pad_token_id` to `eos_token_id`:50256 for open-end generation.\n"
     ]
    },
    {
     "name": "stdout",
     "output_type": "stream",
     "text": [
      "\n",
      "Question: The solid shown was formed by cutting a right circular cylinder in half. If the base has a radius of 6 cm and the height is 10 cm, what is the total surface area, in terms of $\\pi$, of the solid? [asy]\n",
      "import three;\n",
      "size(100);\n",
      "defaultpen(linewidth(.7pt));\n",
      "currentprojection=orthographic(4,2.5,3);\n",
      "\n",
      "path3 p=arc((0,0,0),(1,0,0),(-1,0,0),(0,0,1));\n",
      "\n",
      "draw(rotate(45,(0,0,1))*p,dashed);\n",
      "draw(rotate(45,(0,0,1))*((1,0,0)--(-1,0,0)--(-1,0,2)--(1,0,2)--cycle));\n",
      "draw(rotate(45,(0,0,1))*shift((0,0,2))*p);\n",
      "draw(rotate(118,(0,0,1))*((1,0,0)--(1,0,2)));\n",
      "[/asy]\n",
      "Baseline Response:\n",
      " Question: The solid shown was formed by cutting a right circular cylinder in half. If the base has a radius of 6 cm and the height is 10 cm, what is the total surface area, in terms of $\\pi$, of the solid? [asy]\n",
      "import three;\n",
      "size(100);\n",
      "defaultpen(linewidth(.7pt));\n",
      "currentprojection=orthographic(4,2.5,3);\n",
      "\n",
      "path3 p=arc((0,0,0),(1,0,0),(-1,0,0),(0,0,1));\n",
      "\n",
      "draw(rotate(45,(0,0,1))*p,dashed);\n",
      "draw(rotate(45,(0,0,1))*((1,0,0)--(-1,0,0)--(-1,0,2)--(1,0,2)--cycle));\n",
      "draw(rotate(45,(0,0,1))*shift((0,0,2))*p);\n",
      "draw(rotate(118,(0,0,1))*((1,0,0)--(1,0,2)));\n",
      "[/asy]\n",
      "Please provide a step-by-step solution:\n",
      "\n",
      "Solution:\n",
      "To find the total surface area of the solid, we need to first calculate the surface area of the base and the curved surface area of the cylinder.\n",
      "\n",
      "Base:\n",
      "The base of the solid is a right circular cylinder with a radius of 6 cm and a height of 10 cm. The formula for the surface area of a circle is $A=\\pi r^2$. Therefore, the surface area of the base is:\n",
      "$A_{base}=2\\pi r^2=2\\pi(6)^2=72\\pi$ cm$^2$\n",
      "\n",
      "Curved surface area:\n",
      "To find the curved surface area of the cylinder, we need to first calculate the circumference of the base, which is equal to the perimeter of the circle. The formula for the circumference of a circle is $C=2\\pi r$. Therefore, the circumference of the base is:\n",
      "$C=2\\pi r=2\\\n",
      "Finetuned Response:\n",
      " Question: The solid shown was formed by cutting a right circular cylinder in half. If the base has a radius of 6 cm and the height is 10 cm, what is the total surface area, in terms of $\\pi$, of the solid? [asy]\n",
      "import three;\n",
      "size(100);\n",
      "defaultpen(linewidth(.7pt));\n",
      "currentprojection=orthographic(4,2.5,3);\n",
      "\n",
      "path3 p=arc((0,0,0),(1,0,0),(-1,0,0),(0,0,1));\n",
      "\n",
      "draw(rotate(45,(0,0,1))*p,dashed);\n",
      "draw(rotate(45,(0,0,1))*((1,0,0)--(-1,0,0)--(-1,0,2)--(1,0,2)--cycle));\n",
      "draw(rotate(45,(0,0,1))*shift((0,0,2))*p);\n",
      "draw(rotate(118,(0,0,1))*((1,0,0)--(1,0,2)));\n",
      "[/asy]\n",
      "Please provide a step-by-step solution:\n",
      "\n",
      "Solution:\n",
      "\n",
      "To find the total surface area of the solid, we need to add the areas of the two circular bases and the curved surface of the cylinder.\n",
      "\n",
      "The area of a circular base is given by:\n",
      "\n",
      "$\\pi r^2$, where $r$ is the radius.\n",
      "\n",
      "The area of the curved surface of the cylinder is given by:\n",
      "\n",
      "$\\pi 2rh$, where $r$ is the radius and $h$ is the height.\n",
      "\n",
      "Since the solid is formed by cutting a right circular cylinder in half, we can see that the two bases have the same area and the curved surface has the same length as the height of the cylinder.\n",
      "\n",
      "Therefore, the total surface area of the solid is given by:\n",
      "\n",
      "$\\pi 2r^2 + \\pi 2rh = \\pi r^2 + \\pi rh = \\pi (r + h) (r + h)$.\n",
      "\n",
      "Sub\n",
      "Metrics: {'baseline': {'bleu': 0.09266411045330927, 'rouge': {'rouge1': 0.4126984126984126, 'rouge2': 0.16400911161731208, 'rougeL': 0.23129251700680273}, 'correctness': 0.5, 'logical_coherence': 1.0, 'step_alignment': 0.5, 'completeness': 0.5, 'reasoning_length_ratio': 0.5571428571428572, 'error_identification': 0.5, 'geval_reasoning_score': 0.20668123487992895, 'geval_reasoning_reason': 'The solution provided does not split the surface area into the specific pieces mentioned in the expected output. The calculation for the curved side area does not match the approach in the expected solution.'}, 'finetuned': {'bleu': 0.0780432870279106, 'rouge': {'rouge1': 0.40835266821345706, 'rouge2': 0.13986013986013984, 'rougeL': 0.23201856148491876}, 'correctness': 0.0, 'logical_coherence': 1.0, 'step_alignment': 0.6, 'completeness': 0.8, 'reasoning_length_ratio': 0.5446927374301676, 'error_identification': 0.5, 'geval_reasoning_score': 0.17541516097871768, 'geval_reasoning_reason': 'The text does not include all the steps from the reference solution, specifically missing the breakdown of the surface area into top and bottom pieces, curved side, and flat side.'}}\n"
     ]
    },
    {
     "data": {
      "application/vnd.jupyter.widget-view+json": {
       "model_id": "",
       "version_major": 2,
       "version_minor": 0
      },
      "text/plain": [
       "Output()"
      ]
     },
     "metadata": {},
     "output_type": "display_data"
    },
    {
     "data": {
      "text/html": [
       "<pre style=\"white-space:pre;overflow-x:auto;line-height:normal;font-family:Menlo,'DejaVu Sans Mono',consolas,'Courier New',monospace\"></pre>\n"
      ],
      "text/plain": []
     },
     "metadata": {},
     "output_type": "display_data"
    },
    {
     "data": {
      "application/vnd.jupyter.widget-view+json": {
       "model_id": "",
       "version_major": 2,
       "version_minor": 0
      },
      "text/plain": [
       "Output()"
      ]
     },
     "metadata": {},
     "output_type": "display_data"
    },
    {
     "data": {
      "text/html": [
       "<pre style=\"white-space:pre;overflow-x:auto;line-height:normal;font-family:Menlo,'DejaVu Sans Mono',consolas,'Courier New',monospace\"></pre>\n"
      ],
      "text/plain": []
     },
     "metadata": {},
     "output_type": "display_data"
    },
    {
     "name": "stderr",
     "output_type": "stream",
     "text": [
      "Setting `pad_token_id` to `eos_token_id`:50256 for open-end generation.\n",
      "Setting `pad_token_id` to `eos_token_id`:50256 for open-end generation.\n"
     ]
    },
    {
     "name": "stdout",
     "output_type": "stream",
     "text": [
      "\n",
      "Question: A polynomial \\[\n",
      "P(x)=c_{2004}x^{2004}+ c_{2003}x^{2003}+ \\cdots+ c_{1}x+ c_{0}\n",
      "\\]has real coefficients with $c_{2004} \\neq 0$ and 2004 distinct complex zeros $z_{k}=a_{k}+ b_{k}i$, $1 \\leq k \\leq 2004$ with $a_k$ and $b_k$ real, $a_1 = b_1 = 0$, and \\[\n",
      "\\sum_{k=1}^{2004} a_{k}= \\sum_{k=1}^{2004} b_{k}.\n",
      "\\]Which of the following quantities can be a nonzero number?\n",
      "\n",
      "A. $c_0$\n",
      "\n",
      "B. $c_{2003}$\n",
      "\n",
      "C. $b_{2}b_{3} \\dotsm b_{2004}$\n",
      "\n",
      "D. $\\sum_{k=1}^{2004}a_{k}$\n",
      "\n",
      "E. $\\sum_{k=1}^{2004}c_{k}$\n",
      "Baseline Response:\n",
      " Question: A polynomial \\[\n",
      "P(x)=c_{2004}x^{2004}+ c_{2003}x^{2003}+ \\cdots+ c_{1}x+ c_{0}\n",
      "\\]has real coefficients with $c_{2004} \\neq 0$ and 2004 distinct complex zeros $z_{k}=a_{k}+ b_{k}i$, $1 \\leq k \\leq 2004$ with $a_k$ and $b_k$ real, $a_1 = b_1 = 0$, and \\[\n",
      "\\sum_{k=1}^{2004} a_{k}= \\sum_{k=1}^{2004} b_{k}.\n",
      "\\]Which of the following quantities can be a nonzero number?\n",
      "\n",
      "A. $c_0$\n",
      "\n",
      "B. $c_{2003}$\n",
      "\n",
      "C. $b_{2}b_{3} \\dotsm b_{2004}$\n",
      "\n",
      "D. $\\sum_{k=1}^{2004}a_{k}$\n",
      "\n",
      "E. $\\sum_{k=1}^{2004}c_{k}$\n",
      "Please provide a step-by-step solution:\n",
      "\n",
      "Solution 0: The correct option is A. $c_0$\n",
      "\n",
      "To solve this problem, we need to use some properties of polynomials and complex numbers. First, we can apply the binomial theorem to simplify the expression for $c_{2003}$ as follows:\n",
      "\n",
      "\\[\n",
      "c_{2003} = \\sum_{k=0}^{2002} a_{k}b_{k} = \\sum_{k=0}^{2002} (-1)^{k} a_{k}b_{k} = \\sum_{k=0}^{2002} (-1)^{k} a_{k} \\sum_{j=0}^{k} a_{j}^{j+1}b_{j}.\n",
      "\\]\n",
      "\n",
      "Next, we can use the fact that a complex number with real and imaginary parts $a_k$ and $b_k$ is a root of the polynomial $P\n",
      "Finetuned Response:\n",
      " Question: A polynomial \\[\n",
      "P(x)=c_{2004}x^{2004}+ c_{2003}x^{2003}+ \\cdots+ c_{1}x+ c_{0}\n",
      "\\]has real coefficients with $c_{2004} \\neq 0$ and 2004 distinct complex zeros $z_{k}=a_{k}+ b_{k}i$, $1 \\leq k \\leq 2004$ with $a_k$ and $b_k$ real, $a_1 = b_1 = 0$, and \\[\n",
      "\\sum_{k=1}^{2004} a_{k}= \\sum_{k=1}^{2004} b_{k}.\n",
      "\\]Which of the following quantities can be a nonzero number?\n",
      "\n",
      "A. $c_0$\n",
      "\n",
      "B. $c_{2003}$\n",
      "\n",
      "C. $b_{2}b_{3} \\dotsm b_{2004}$\n",
      "\n",
      "D. $\\sum_{k=1}^{2004}a_{k}$\n",
      "\n",
      "E. $\\sum_{k=1}^{2004}c_{k}$\n",
      "Please provide a step-by-step solution:\n",
      "Answer: The correct options are A, B, and D.\n",
      "To see why, we can use the following facts:\n",
      "\n",
      "- The sum of the complex roots of a polynomial is equal to the negative of the coefficient of the x^2004 term, divided by the coefficient of the x^0 term. That is, $\\sum_{k=1}^{2004} z_{k} = \\frac{-c_{2004}}{c_{0}}$, since $c_{2004} \\neq 0$.\n",
      "- The product of the complex roots of a polynomial is equal to the constant term, divided by the leading coefficient. That is, $\\prod_{k=1}^{2004} z_{k} = \\frac{c_{0}}{c_{2004}}$, since $c_{2004} \\neq 0$.\n",
      "- The sum of the real parts of the complex roots of a polynomial is equal to $c\n",
      "Metrics: {'baseline': {'bleu': 0.20271253059412206, 'rouge': {'rouge1': 0.5320197044334976, 'rouge2': 0.2376237623762376, 'rougeL': 0.270935960591133}, 'correctness': 0.5, 'logical_coherence': 0.5, 'step_alignment': 0.7, 'completeness': 0.2, 'reasoning_length_ratio': 0.8333333333333334, 'error_identification': 0.2, 'geval_reasoning_score': 0.27046598378650355, 'geval_reasoning_reason': 'The text provides a detailed solution addressing the given conditions, but does not explicitly state and follow the steps in the evaluation.'}, 'finetuned': {'bleu': 0.2382252711938328, 'rouge': {'rouge1': 0.5721040189125295, 'rouge2': 0.24228028503562946, 'rougeL': 0.2647754137115839}, 'correctness': 1.0, 'logical_coherence': 1.0, 'step_alignment': 0.75, 'completeness': 0.5, 'reasoning_length_ratio': 0.813953488372093, 'error_identification': 0.9, 'geval_reasoning_score': 0.12642695724804515, 'geval_reasoning_reason': 'The answer mentions that A, B, and D are correct options. However, from the actual output, it is clear that A and B are incorrect choices based on the provided reasoning steps.'}}\n"
     ]
    },
    {
     "data": {
      "application/vnd.jupyter.widget-view+json": {
       "model_id": "",
       "version_major": 2,
       "version_minor": 0
      },
      "text/plain": [
       "Output()"
      ]
     },
     "metadata": {},
     "output_type": "display_data"
    },
    {
     "data": {
      "text/html": [
       "<pre style=\"white-space:pre;overflow-x:auto;line-height:normal;font-family:Menlo,'DejaVu Sans Mono',consolas,'Courier New',monospace\"></pre>\n"
      ],
      "text/plain": []
     },
     "metadata": {},
     "output_type": "display_data"
    },
    {
     "data": {
      "application/vnd.jupyter.widget-view+json": {
       "model_id": "",
       "version_major": 2,
       "version_minor": 0
      },
      "text/plain": [
       "Output()"
      ]
     },
     "metadata": {},
     "output_type": "display_data"
    },
    {
     "data": {
      "text/html": [
       "<pre style=\"white-space:pre;overflow-x:auto;line-height:normal;font-family:Menlo,'DejaVu Sans Mono',consolas,'Courier New',monospace\"></pre>\n"
      ],
      "text/plain": []
     },
     "metadata": {},
     "output_type": "display_data"
    },
    {
     "name": "stderr",
     "output_type": "stream",
     "text": [
      "Setting `pad_token_id` to `eos_token_id`:50256 for open-end generation.\n",
      "Setting `pad_token_id` to `eos_token_id`:50256 for open-end generation.\n"
     ]
    },
    {
     "name": "stdout",
     "output_type": "stream",
     "text": [
      "\n",
      "Question: Let $G$ and $H$ denote the centroid and orthocenter of triangle $ABC,$ respectively.   Let $F$ be the midpoint of $\\overline{GH}.$  Express $AF^2 + BF^2 + CF^2$ in terms of the side lengths $a,$ $b,$ $c$ and circumradius $R$ of triangle $ABC.$\n",
      "Baseline Response:\n",
      " Question: Let $G$ and $H$ denote the centroid and orthocenter of triangle $ABC,$ respectively.   Let $F$ be the midpoint of $\\overline{GH}.$  Express $AF^2 + BF^2 + CF^2$ in terms of the side lengths $a,$ $b,$ $c$ and circumradius $R$ of triangle $ABC.$\n",
      "Please provide a step-by-step solution:\n",
      "Input:\n",
      "The side lengths of triangle $ABC$ are $a,$ $b,$ and $c.$ The circumradius $R$ of triangle $ABC$ is $r.$ The coordinates of the vertices of triangle $ABC$ are $A(x_1,y_1), B(x_2,y_2),$ and $C(x_3,y_3).$\n",
      "Output:\n",
      "The coordinates of the midpoint $F$ are $(x_f,y_f).$\n",
      "\n",
      "Finetuned Response:\n",
      " Question: Let $G$ and $H$ denote the centroid and orthocenter of triangle $ABC,$ respectively.   Let $F$ be the midpoint of $\\overline{GH}.$  Express $AF^2 + BF^2 + CF^2$ in terms of the side lengths $a,$ $b,$ $c$ and circumradius $R$ of triangle $ABC.$\n",
      "Please provide a step-by-step solution:\n",
      "\n",
      "Solution 0:\n",
      "\n",
      "We can use the following facts:\n",
      "\n",
      "- The centroid of a triangle divides each median into a ratio of 2:1, i.e., $\\frac{2}{3}$ of the median is from the vertex to the centroid.\n",
      "- The orthocenter of a triangle is the point where the three altitudes of the triangle intersect.\n",
      "- The midpoint of a line segment is the point that divides the segment into two equal parts.\n",
      "- The circumcenter of a triangle is the point where the perpendicular bisectors of the sides of the triangle meet.\n",
      "- The circumradius of a triangle is the radius of the circle that passes through the vertices of the triangle.\n",
      "\n",
      "Using these facts, we can prove that\n",
      "\n",
      "$AF^2 + BF^2 + CF^2 = \\frac{2a}{3}(AF^2 + BF^2) + \\frac{2b}{3\n",
      "Metrics: {'baseline': {'bleu': 0.012403881175950194, 'rouge': {'rouge1': 0.20498614958448752, 'rouge2': 0.04456824512534818, 'rougeL': 0.1440443213296399}, 'correctness': 1.0, 'logical_coherence': 0.9, 'step_alignment': 1.0, 'completeness': 0.5, 'reasoning_length_ratio': 0.3282442748091603, 'error_identification': 0.5, 'geval_reasoning_score': 0.2488568095190992, 'geval_reasoning_reason': 'The steps in the actual output are not fully aligned with the evaluation steps. The actual output does not provide a detailed step-by-step solution and express the final answer in terms of the side lengths and circumradius as required.'}, 'finetuned': {'bleu': 0.03660114602659087, 'rouge': {'rouge1': 0.22528735632183908, 'rouge2': 0.07390300230946882, 'rougeL': 0.15172413793103448}, 'correctness': 0.0, 'logical_coherence': 0.2, 'step_alignment': 0.75, 'completeness': 0.0, 'reasoning_length_ratio': 0.45610687022900764, 'error_identification': 0.2, 'geval_reasoning_score': 0.1782738816990452, 'geval_reasoning_reason': 'The actual output does not provide a step-by-step solution as requested, and it does not match the expected output which gives a detailed proof with mathematical calculations.'}}\n"
     ]
    },
    {
     "data": {
      "application/vnd.jupyter.widget-view+json": {
       "model_id": "",
       "version_major": 2,
       "version_minor": 0
      },
      "text/plain": [
       "Output()"
      ]
     },
     "metadata": {},
     "output_type": "display_data"
    },
    {
     "data": {
      "text/html": [
       "<pre style=\"white-space:pre;overflow-x:auto;line-height:normal;font-family:Menlo,'DejaVu Sans Mono',consolas,'Courier New',monospace\"></pre>\n"
      ],
      "text/plain": []
     },
     "metadata": {},
     "output_type": "display_data"
    },
    {
     "data": {
      "application/vnd.jupyter.widget-view+json": {
       "model_id": "",
       "version_major": 2,
       "version_minor": 0
      },
      "text/plain": [
       "Output()"
      ]
     },
     "metadata": {},
     "output_type": "display_data"
    },
    {
     "data": {
      "text/html": [
       "<pre style=\"white-space:pre;overflow-x:auto;line-height:normal;font-family:Menlo,'DejaVu Sans Mono',consolas,'Courier New',monospace\"></pre>\n"
      ],
      "text/plain": []
     },
     "metadata": {},
     "output_type": "display_data"
    },
    {
     "name": "stderr",
     "output_type": "stream",
     "text": [
      "Setting `pad_token_id` to `eos_token_id`:50256 for open-end generation.\n",
      "Setting `pad_token_id` to `eos_token_id`:50256 for open-end generation.\n"
     ]
    },
    {
     "name": "stdout",
     "output_type": "stream",
     "text": [
      "\n",
      "Question: A mathematical prodigy wishes to put 2 of his indistinguishable IMO gold medals and 2 of his indistinguishable IPhO gold medals in one row. How many distinct arrangements are possible?\n",
      "Baseline Response:\n",
      " Question: A mathematical prodigy wishes to put 2 of his indistinguishable IMO gold medals and 2 of his indistinguishable IPhO gold medals in one row. How many distinct arrangements are possible?\n",
      "Please provide a step-by-step solution:\n",
      "\n",
      "**Solution:**\n",
      "\n",
      "Step 1: First, we need to understand that we have 4 gold medals in total and we want to arrange them in a row.\n",
      "\n",
      "Step 2: Since we have 2 identical gold medals of each type, regardless of the order we put them in a row, they will be indistinguishable.\n",
      "\n",
      "Step 3: Therefore, the total number of distinct arrangements is the total number of ways we can arrange 2 gold medals of each type.\n",
      "\n",
      "Step 4: This can be calculated using the combination formula, C(n, r) = n! / (r!(n - r)!), where n is the total number of items and r is the number of items we are selecting.\n",
      "\n",
      "Step 5: In our case, n = 4 (2 gold medals of IMO + 2 gold medals of IPhO) and r = 2 (2 gold medals of each type we want to arrange)\n",
      "\n",
      "Step 6: Substituting\n",
      "Finetuned Response:\n",
      " Question: A mathematical prodigy wishes to put 2 of his indistinguishable IMO gold medals and 2 of his indistinguishable IPhO gold medals in one row. How many distinct arrangements are possible?\n",
      "Please provide a step-by-step solution:\n",
      "\n",
      "Solution:\n",
      "To solve this problem, we can use the concept of permutations. The number of distinct arrangements can be calculated by finding the number of permutations of 4 medals taken all at once.\n",
      "\n",
      "Step 1: Identify the given information:\n",
      "We have a total of 4 medals - 2 IMO gold medals and 2 IPhO gold medals.\n",
      "\n",
      "Step 2: Determine the total number of medals:\n",
      "Since the medals are indistinguishable, we need to consider them as a single entity. Therefore, the total number of medals can be calculated as follows:\n",
      "Total number of medals = 2 IMO gold medals + 2 IPhO gold medals = 4 medals\n",
      "\n",
      "Step 3: Calculate the number of permutations:\n",
      "The number of permutations of n distinct objects taken all at once is given by the formula: n!\n",
      "\n",
      "Applying the formula to our case:\n",
      "Number of permutations = 4!\n",
      "       \n",
      "Metrics: {'baseline': {'bleu': 0.00381363820881741, 'rouge': {'rouge1': 0.19718309859154928, 'rouge2': 0.018957345971563982, 'rougeL': 0.11267605633802817}, 'correctness': 0.5, 'logical_coherence': 0.9, 'step_alignment': 1.0, 'completeness': 1.0, 'reasoning_length_ratio': 0.2072072072072072, 'error_identification': 0.9, 'geval_reasoning_score': 0.23702104046994837, 'geval_reasoning_reason': 'The response provides a step-by-step solution which includes understanding the total number of gold medals and using the combination formula. However, it does not explicitly state the final conclusion and provide the total number of distinct arrangements as required in the expected output.'}, 'finetuned': {'bleu': 0.00408250842055547, 'rouge': {'rouge1': 0.17391304347826086, 'rouge2': 0.00975609756097561, 'rougeL': 0.09661835748792269}, 'correctness': 0.8, 'logical_coherence': 1.0, 'step_alignment': 1.0, 'completeness': 0.8, 'reasoning_length_ratio': 0.22885572139303484, 'error_identification': 0.5, 'geval_reasoning_score': 0.18821496870605103, 'geval_reasoning_reason': 'The step-by-step solution provides the correct formula for permutations, but does not explicitly state the critical steps outlined in the reference. The final answer is not accurate as it does not specify the correct method used to calculate the distinct arrangements.'}}\n"
     ]
    },
    {
     "data": {
      "application/vnd.jupyter.widget-view+json": {
       "model_id": "",
       "version_major": 2,
       "version_minor": 0
      },
      "text/plain": [
       "Output()"
      ]
     },
     "metadata": {},
     "output_type": "display_data"
    },
    {
     "data": {
      "text/html": [
       "<pre style=\"white-space:pre;overflow-x:auto;line-height:normal;font-family:Menlo,'DejaVu Sans Mono',consolas,'Courier New',monospace\"></pre>\n"
      ],
      "text/plain": []
     },
     "metadata": {},
     "output_type": "display_data"
    },
    {
     "data": {
      "application/vnd.jupyter.widget-view+json": {
       "model_id": "",
       "version_major": 2,
       "version_minor": 0
      },
      "text/plain": [
       "Output()"
      ]
     },
     "metadata": {},
     "output_type": "display_data"
    },
    {
     "data": {
      "text/html": [
       "<pre style=\"white-space:pre;overflow-x:auto;line-height:normal;font-family:Menlo,'DejaVu Sans Mono',consolas,'Courier New',monospace\"></pre>\n"
      ],
      "text/plain": []
     },
     "metadata": {},
     "output_type": "display_data"
    },
    {
     "name": "stdout",
     "output_type": "stream",
     "text": [
      "\n",
      "Question: Find the $2 \\times 2$ matrix $\\mathbf{M}$ such that\n",
      "\\[\\mathbf{M} \\begin{pmatrix} 1 \\\\ 0 \\end{pmatrix} = \\begin{pmatrix} 3 \\\\ 0 \\end{pmatrix}\\]and\n",
      "\\[\\mathbf{M} \\begin{pmatrix} 0 \\\\ 1 \\end{pmatrix} = \\begin{pmatrix} 2 \\\\ -7 \\end{pmatrix}.\\]\n",
      "Baseline Response:\n",
      " Question: Find the $2 \\times 2$ matrix $\\mathbf{M}$ such that\n",
      "\\[\\mathbf{M} \\begin{pmatrix} 1 \\\\ 0 \\end{pmatrix} = \\begin{pmatrix} 3 \\\\ 0 \\end{pmatrix}\\]and\n",
      "\\[\\mathbf{M} \\begin{pmatrix} 0 \\\\ 1 \\end{pmatrix} = \\begin{pmatrix} 2 \\\\ -7 \\end{pmatrix}.\\]\n",
      "Please provide a step-by-step solution: \n",
      "A: Let $A = \\begin{pmatrix} 1 & 0 \\\\ 0 & 1 \\end{pmatrix}$ and $B = \\begin{pmatrix} 3 \\\\ 0 \\end{pmatrix}$ and $C = \\begin{pmatrix} 2 \\\\ -7 \\end{pmatrix}$. We want to find a 2x2 matrix $\\mathbf{M}$ such that:\n",
      "$$\\mathbf{M} \\begin{pmatrix} 1 \\\\ 0 \\end{pmatrix} = B$$\n",
      "$$\\mathbf{M} \\begin{pmatrix} 0 \\\\ 1 \\end{pmatrix} = C$$\n",
      "We can do this by solving a system of linear equations:\n",
      "$$\\mathbf{M} \\begin{pmatrix} x \\\\ y \\end{pmatrix} = \\begin{pmatrix} 3 \\\\ 0 \\\n",
      "Finetuned Response:\n",
      " Question: Find the $2 \\times 2$ matrix $\\mathbf{M}$ such that\n",
      "\\[\\mathbf{M} \\begin{pmatrix} 1 \\\\ 0 \\end{pmatrix} = \\begin{pmatrix} 3 \\\\ 0 \\end{pmatrix}\\]and\n",
      "\\[\\mathbf{M} \\begin{pmatrix} 0 \\\\ 1 \\end{pmatrix} = \\begin{pmatrix} 2 \\\\ -7 \\end{pmatrix}.\\]\n",
      "Please provide a step-by-step solution:\n",
      "Input: \n",
      "Output: To find the $2 \\times 2$ matrix $\\mathbf{M}$ such that $\\mathbf{M} \\begin{pmatrix} 1 \\\\ 0 \\end{pmatrix} = \\begin{pmatrix} 3 \\\\ 0 \\end{pmatrix}$ and $\\mathbf{M} \\begin{pmatrix} 0 \\\\ 1 \\end{pmatrix} = \\begin{pmatrix} 2 \\\\ -7 \\end{pmatrix}$, we can use the method of Gaussian elimination. We will perform row operations to transform the augmented matrix into its reduced row echelon form (RREF).\n",
      "\n",
      "1. $\\mathbf{M} \\begin{pmatrix} 1 \\\\ 0 \\end{pmatrix} = \\begin{pmatrix} 3 \\\\ 0 \\end{pmatrix}$\n",
      "We can see that the second row is a\n",
      "Metrics: {'baseline': {'bleu': 0.23211085804146653, 'rouge': {'rouge1': 0.41111111111111115, 'rouge2': 0.2359550561797753, 'rougeL': 0.3}, 'correctness': 0.5, 'logical_coherence': 1.0, 'step_alignment': 1.0, 'completeness': 0.8, 'reasoning_length_ratio': 0.4327731092436975, 'error_identification': 1.0, 'geval_reasoning_score': 0.2812900028911046, 'geval_reasoning_reason': 'The Actual Output provides a step-by-step solution but does not explicitly state the reasoning steps or compare with the Expected Output.'}, 'finetuned': {'bleu': 0.23727839051347202, 'rouge': {'rouge1': 0.4166666666666667, 'rouge2': 0.23157894736842105, 'rougeL': 0.3333333333333333}, 'correctness': 0.8, 'logical_coherence': 0.5, 'step_alignment': 1.0, 'completeness': 0.2, 'reasoning_length_ratio': 0.4345991561181435, 'error_identification': 0.5, 'geval_reasoning_score': 0.4014804493107218, 'geval_reasoning_reason': 'The step-by-step solution provided matches the input and expected output, but lacks some detail in the conclusion matching the reference.'}}\n",
      "\n",
      "Results have been saved to 'evaluation_results.json'\n"
     ]
    }
   ],
   "source": [
    "if __name__ == \"__main__\":\n",
    "    OPENAI_API_KEY = api_key\n",
    "    BASELINE_PATH = \"microsoft/phi-2\"\n",
    "    FINETUNED_PATH = \"Eshita-ds/phi-2-DPO\"\n",
    "\n",
    "    print(f\"Number of GPUs available: {torch.cuda.device_count()}\")\n",
    "    if torch.cuda.device_count() >= 2:\n",
    "        print(f\"GPU 0: {torch.cuda.get_device_name(0)}\")\n",
    "        print(f\"GPU 1: {torch.cuda.get_device_name(1)}\")\n",
    "\n",
    "    generator = ModelGenerator(BASELINE_PATH, FINETUNED_PATH)\n",
    "    evaluator = LLMEvaluator(\"gpt-3.5-turbo\", api_key=OPENAI_API_KEY)\n",
    "\n",
    "    questions_ground_truths = create_questions_dict()\n",
    "\n",
    "    evaluation_results = evaluate_multiple_questions(questions_ground_truths, generator, evaluator)\n",
    "\n",
    "    with open('evaluation_results.json', 'w', encoding='utf-8') as f:\n",
    "        json.dump(evaluation_results, f, indent=4, ensure_ascii=False)\n",
    "\n",
    "    print(\"\\nResults have been saved to 'evaluation_results.json'\")"
   ]
  },
  {
   "cell_type": "code",
   "execution_count": 10,
   "metadata": {
    "execution": {
     "iopub.execute_input": "2025-04-06T03:51:28.021452Z",
     "iopub.status.busy": "2025-04-06T03:51:28.021119Z",
     "iopub.status.idle": "2025-04-06T03:51:28.062809Z",
     "shell.execute_reply": "2025-04-06T03:51:28.062137Z",
     "shell.execute_reply.started": "2025-04-06T03:51:28.021420Z"
    },
    "trusted": true
   },
   "outputs": [
    {
     "name": "stdout",
     "output_type": "stream",
     "text": [
      "\n",
      "Evaluation Results DataFrame:\n"
     ]
    },
    {
     "data": {
      "text/html": [
       "<div>\n",
       "<style scoped>\n",
       "    .dataframe tbody tr th:only-of-type {\n",
       "        vertical-align: middle;\n",
       "    }\n",
       "\n",
       "    .dataframe tbody tr th {\n",
       "        vertical-align: top;\n",
       "    }\n",
       "\n",
       "    .dataframe thead th {\n",
       "        text-align: right;\n",
       "    }\n",
       "</style>\n",
       "<table border=\"1\" class=\"dataframe\">\n",
       "  <thead>\n",
       "    <tr style=\"text-align: right;\">\n",
       "      <th></th>\n",
       "      <th>question</th>\n",
       "      <th>ground_truth</th>\n",
       "      <th>baseline_response</th>\n",
       "      <th>finetuned_response</th>\n",
       "      <th>baseline_bleu</th>\n",
       "      <th>baseline_rouge1</th>\n",
       "      <th>baseline_rouge2</th>\n",
       "      <th>baseline_rougeL</th>\n",
       "      <th>baseline_correctness</th>\n",
       "      <th>baseline_logical_coherence</th>\n",
       "      <th>...</th>\n",
       "      <th>finetuned_rouge2</th>\n",
       "      <th>finetuned_rougeL</th>\n",
       "      <th>finetuned_correctness</th>\n",
       "      <th>finetuned_logical_coherence</th>\n",
       "      <th>finetuned_step_alignment</th>\n",
       "      <th>finetuned_completeness</th>\n",
       "      <th>finetuned_reasoning_length_ratio</th>\n",
       "      <th>finetuned_error_identification</th>\n",
       "      <th>finetuned_geval_reasoning_score</th>\n",
       "      <th>finetuned_geval_reasoning_reason</th>\n",
       "    </tr>\n",
       "  </thead>\n",
       "  <tbody>\n",
       "    <tr>\n",
       "      <th>0</th>\n",
       "      <td>A semicircle is constructed along each side of...</td>\n",
       "      <td>Let $A,B$ be the areas of the semicircles on t...</td>\n",
       "      <td>Question: A semicircle is constructed along ea...</td>\n",
       "      <td>Question: A semicircle is constructed along ea...</td>\n",
       "      <td>0.059395</td>\n",
       "      <td>0.422619</td>\n",
       "      <td>0.167665</td>\n",
       "      <td>0.202381</td>\n",
       "      <td>1.0</td>\n",
       "      <td>1.0</td>\n",
       "      <td>...</td>\n",
       "      <td>0.142857</td>\n",
       "      <td>0.219355</td>\n",
       "      <td>0.5</td>\n",
       "      <td>1.0</td>\n",
       "      <td>1.00</td>\n",
       "      <td>0.5</td>\n",
       "      <td>0.487455</td>\n",
       "      <td>0.5</td>\n",
       "      <td>0.149003</td>\n",
       "      <td>The actual output provides the step-by-step so...</td>\n",
       "    </tr>\n",
       "    <tr>\n",
       "      <th>1</th>\n",
       "      <td>Find the coefficient of $x$ when $(1+2x)-2(1+2...</td>\n",
       "      <td>The coefficient of $x$ is  \\[2-2\\cdot2+3\\cdot2...</td>\n",
       "      <td>Question: Find the coefficient of $x$ when $(1...</td>\n",
       "      <td>Question: Find the coefficient of $x$ when $(1...</td>\n",
       "      <td>0.050959</td>\n",
       "      <td>0.185430</td>\n",
       "      <td>0.040268</td>\n",
       "      <td>0.158940</td>\n",
       "      <td>0.0</td>\n",
       "      <td>0.9</td>\n",
       "      <td>...</td>\n",
       "      <td>0.054422</td>\n",
       "      <td>0.161074</td>\n",
       "      <td>0.5</td>\n",
       "      <td>1.0</td>\n",
       "      <td>0.67</td>\n",
       "      <td>1.0</td>\n",
       "      <td>0.191176</td>\n",
       "      <td>0.0</td>\n",
       "      <td>0.314298</td>\n",
       "      <td>The text provides step-by-step simplification ...</td>\n",
       "    </tr>\n",
       "    <tr>\n",
       "      <th>2</th>\n",
       "      <td>In Mathopolis, an adult is a person 21 years o...</td>\n",
       "      <td>Let the percentage of people in Mathopolis who...</td>\n",
       "      <td>Question: In Mathopolis, an adult is a person ...</td>\n",
       "      <td>Question: In Mathopolis, an adult is a person ...</td>\n",
       "      <td>0.034917</td>\n",
       "      <td>0.348910</td>\n",
       "      <td>0.112853</td>\n",
       "      <td>0.224299</td>\n",
       "      <td>1.0</td>\n",
       "      <td>1.0</td>\n",
       "      <td>...</td>\n",
       "      <td>0.146179</td>\n",
       "      <td>0.224422</td>\n",
       "      <td>1.0</td>\n",
       "      <td>1.0</td>\n",
       "      <td>0.25</td>\n",
       "      <td>1.0</td>\n",
       "      <td>0.553279</td>\n",
       "      <td>0.5</td>\n",
       "      <td>0.251915</td>\n",
       "      <td>The provided solution gives the correct percen...</td>\n",
       "    </tr>\n",
       "    <tr>\n",
       "      <th>3</th>\n",
       "      <td>A right hexagonal prism has a height of 3 feet...</td>\n",
       "      <td>Since each non-hexagonal face is a rectangle w...</td>\n",
       "      <td>Question: A right hexagonal prism has a height...</td>\n",
       "      <td>Question: A right hexagonal prism has a height...</td>\n",
       "      <td>0.004222</td>\n",
       "      <td>0.259155</td>\n",
       "      <td>0.090652</td>\n",
       "      <td>0.140845</td>\n",
       "      <td>1.0</td>\n",
       "      <td>0.5</td>\n",
       "      <td>...</td>\n",
       "      <td>0.090141</td>\n",
       "      <td>0.156863</td>\n",
       "      <td>0.5</td>\n",
       "      <td>0.5</td>\n",
       "      <td>0.75</td>\n",
       "      <td>0.5</td>\n",
       "      <td>0.269461</td>\n",
       "      <td>0.5</td>\n",
       "      <td>0.309171</td>\n",
       "      <td>The actual output is missing steps 2 and 3 fro...</td>\n",
       "    </tr>\n",
       "    <tr>\n",
       "      <th>4</th>\n",
       "      <td>Trae is searching for a treasure on the beach....</td>\n",
       "      <td>In total, Trae walked 4 meters north and 3 met...</td>\n",
       "      <td>Question: Trae is searching for a treasure on ...</td>\n",
       "      <td>Question: Trae is searching for a treasure on ...</td>\n",
       "      <td>0.098896</td>\n",
       "      <td>0.324324</td>\n",
       "      <td>0.109290</td>\n",
       "      <td>0.216216</td>\n",
       "      <td>1.0</td>\n",
       "      <td>1.0</td>\n",
       "      <td>...</td>\n",
       "      <td>0.109091</td>\n",
       "      <td>0.180180</td>\n",
       "      <td>0.8</td>\n",
       "      <td>0.9</td>\n",
       "      <td>1.00</td>\n",
       "      <td>0.9</td>\n",
       "      <td>0.253275</td>\n",
       "      <td>0.5</td>\n",
       "      <td>0.345998</td>\n",
       "      <td>The actual output contains detailed instructio...</td>\n",
       "    </tr>\n",
       "  </tbody>\n",
       "</table>\n",
       "<p>5 rows × 28 columns</p>\n",
       "</div>"
      ],
      "text/plain": [
       "                                            question  \\\n",
       "0  A semicircle is constructed along each side of...   \n",
       "1  Find the coefficient of $x$ when $(1+2x)-2(1+2...   \n",
       "2  In Mathopolis, an adult is a person 21 years o...   \n",
       "3  A right hexagonal prism has a height of 3 feet...   \n",
       "4  Trae is searching for a treasure on the beach....   \n",
       "\n",
       "                                        ground_truth  \\\n",
       "0  Let $A,B$ be the areas of the semicircles on t...   \n",
       "1  The coefficient of $x$ is  \\[2-2\\cdot2+3\\cdot2...   \n",
       "2  Let the percentage of people in Mathopolis who...   \n",
       "3  Since each non-hexagonal face is a rectangle w...   \n",
       "4  In total, Trae walked 4 meters north and 3 met...   \n",
       "\n",
       "                                   baseline_response  \\\n",
       "0  Question: A semicircle is constructed along ea...   \n",
       "1  Question: Find the coefficient of $x$ when $(1...   \n",
       "2  Question: In Mathopolis, an adult is a person ...   \n",
       "3  Question: A right hexagonal prism has a height...   \n",
       "4  Question: Trae is searching for a treasure on ...   \n",
       "\n",
       "                                  finetuned_response  baseline_bleu  \\\n",
       "0  Question: A semicircle is constructed along ea...       0.059395   \n",
       "1  Question: Find the coefficient of $x$ when $(1...       0.050959   \n",
       "2  Question: In Mathopolis, an adult is a person ...       0.034917   \n",
       "3  Question: A right hexagonal prism has a height...       0.004222   \n",
       "4  Question: Trae is searching for a treasure on ...       0.098896   \n",
       "\n",
       "   baseline_rouge1  baseline_rouge2  baseline_rougeL  baseline_correctness  \\\n",
       "0         0.422619         0.167665         0.202381                   1.0   \n",
       "1         0.185430         0.040268         0.158940                   0.0   \n",
       "2         0.348910         0.112853         0.224299                   1.0   \n",
       "3         0.259155         0.090652         0.140845                   1.0   \n",
       "4         0.324324         0.109290         0.216216                   1.0   \n",
       "\n",
       "   baseline_logical_coherence  ...  finetuned_rouge2  finetuned_rougeL  \\\n",
       "0                         1.0  ...          0.142857          0.219355   \n",
       "1                         0.9  ...          0.054422          0.161074   \n",
       "2                         1.0  ...          0.146179          0.224422   \n",
       "3                         0.5  ...          0.090141          0.156863   \n",
       "4                         1.0  ...          0.109091          0.180180   \n",
       "\n",
       "   finetuned_correctness  finetuned_logical_coherence  \\\n",
       "0                    0.5                          1.0   \n",
       "1                    0.5                          1.0   \n",
       "2                    1.0                          1.0   \n",
       "3                    0.5                          0.5   \n",
       "4                    0.8                          0.9   \n",
       "\n",
       "   finetuned_step_alignment finetuned_completeness  \\\n",
       "0                      1.00                    0.5   \n",
       "1                      0.67                    1.0   \n",
       "2                      0.25                    1.0   \n",
       "3                      0.75                    0.5   \n",
       "4                      1.00                    0.9   \n",
       "\n",
       "   finetuned_reasoning_length_ratio  finetuned_error_identification  \\\n",
       "0                          0.487455                             0.5   \n",
       "1                          0.191176                             0.0   \n",
       "2                          0.553279                             0.5   \n",
       "3                          0.269461                             0.5   \n",
       "4                          0.253275                             0.5   \n",
       "\n",
       "   finetuned_geval_reasoning_score  \\\n",
       "0                         0.149003   \n",
       "1                         0.314298   \n",
       "2                         0.251915   \n",
       "3                         0.309171   \n",
       "4                         0.345998   \n",
       "\n",
       "                    finetuned_geval_reasoning_reason  \n",
       "0  The actual output provides the step-by-step so...  \n",
       "1  The text provides step-by-step simplification ...  \n",
       "2  The provided solution gives the correct percen...  \n",
       "3  The actual output is missing steps 2 and 3 fro...  \n",
       "4  The actual output contains detailed instructio...  \n",
       "\n",
       "[5 rows x 28 columns]"
      ]
     },
     "execution_count": 10,
     "metadata": {},
     "output_type": "execute_result"
    }
   ],
   "source": [
    "import pandas as pd\n",
    "df = results_to_dataframe(evaluation_results)\n",
    "print(\"\\nEvaluation Results DataFrame:\")\n",
    "df.head()"
   ]
  },
  {
   "cell_type": "code",
   "execution_count": 11,
   "metadata": {
    "execution": {
     "iopub.execute_input": "2025-04-06T03:51:28.063866Z",
     "iopub.status.busy": "2025-04-06T03:51:28.063586Z",
     "iopub.status.idle": "2025-04-06T03:51:28.069216Z",
     "shell.execute_reply": "2025-04-06T03:51:28.068494Z",
     "shell.execute_reply.started": "2025-04-06T03:51:28.063837Z"
    },
    "trusted": true
   },
   "outputs": [
    {
     "data": {
      "text/plain": [
       "Index(['question', 'ground_truth', 'baseline_response', 'finetuned_response',\n",
       "       'baseline_bleu', 'baseline_rouge1', 'baseline_rouge2',\n",
       "       'baseline_rougeL', 'baseline_correctness', 'baseline_logical_coherence',\n",
       "       'baseline_step_alignment', 'baseline_completeness',\n",
       "       'baseline_reasoning_length_ratio', 'baseline_error_identification',\n",
       "       'baseline_geval_reasoning_score', 'baseline_geval_reasoning_reason',\n",
       "       'finetuned_bleu', 'finetuned_rouge1', 'finetuned_rouge2',\n",
       "       'finetuned_rougeL', 'finetuned_correctness',\n",
       "       'finetuned_logical_coherence', 'finetuned_step_alignment',\n",
       "       'finetuned_completeness', 'finetuned_reasoning_length_ratio',\n",
       "       'finetuned_error_identification', 'finetuned_geval_reasoning_score',\n",
       "       'finetuned_geval_reasoning_reason'],\n",
       "      dtype='object')"
      ]
     },
     "execution_count": 11,
     "metadata": {},
     "output_type": "execute_result"
    }
   ],
   "source": [
    "df.columns"
   ]
  },
  {
   "cell_type": "code",
   "execution_count": 12,
   "metadata": {
    "execution": {
     "iopub.execute_input": "2025-04-06T03:51:28.070309Z",
     "iopub.status.busy": "2025-04-06T03:51:28.070068Z",
     "iopub.status.idle": "2025-04-06T03:51:28.089000Z",
     "shell.execute_reply": "2025-04-06T03:51:28.088134Z",
     "shell.execute_reply.started": "2025-04-06T03:51:28.070279Z"
    },
    "trusted": true
   },
   "outputs": [
    {
     "name": "stdout",
     "output_type": "stream",
     "text": [
      "\n",
      "Results have been saved to 'evaluation_results.csv'\n"
     ]
    }
   ],
   "source": [
    "df.to_csv('evaluation_results.csv', index=False)\n",
    "print(\"\\nResults have been saved to 'evaluation_results.csv'\")"
   ]
  },
  {
   "cell_type": "code",
   "execution_count": null,
   "metadata": {
    "execution": {
     "iopub.execute_input": "2025-04-06T03:51:28.090108Z",
     "iopub.status.busy": "2025-04-06T03:51:28.089843Z",
     "iopub.status.idle": "2025-04-06T03:51:28.354351Z",
     "shell.execute_reply": "2025-04-06T03:51:28.353371Z",
     "shell.execute_reply.started": "2025-04-06T03:51:28.090077Z"
    },
    "trusted": true
   },
   "outputs": [
    {
     "name": "stderr",
     "output_type": "stream",
     "text": [
      "<ipython-input-13-2907c57a36ea>:9: MatplotlibDeprecationWarning: The seaborn styles shipped by Matplotlib are deprecated since 3.6, as they no longer correspond to the styles shipped by seaborn. However, they will remain available as 'seaborn-v0_8-<style>'. Alternatively, directly use the seaborn API instead.\n",
      "  plt.style.use('seaborn')\n"
     ]
    }
   ],
   "source": [
    "import matplotlib.pyplot as plt\n",
    "import seaborn as sns\n",
    "import pandas as pd\n",
    "import numpy as np\n",
    "\n",
    "# Assuming df is your DataFrame with the specified columns\n",
    "\n",
    "# Set plot style\n",
    "plt.style.use('seaborn')\n",
    "sns.set_palette(\"husl\")\n",
    "\n",
    "# 1. Bar Plot: Average Metrics Comparison\n",
    "def plot_average_metrics(df):\n",
    "    # Extract numerical metrics for baseline and finetuned\n",
    "    baseline_metrics = [col for col in df.columns if col.startswith('baseline_') and col not in ['baseline_response', 'baseline_geval_reasoning_reason']]\n",
    "    finetuned_metrics = [col.replace('baseline_', 'finetuned_') for col in baseline_metrics]\n",
    "    \n",
    "    # Calculate means\n",
    "    baseline_means = df[baseline_metrics].mean()\n",
    "    finetuned_means = df[finetuned_metrics].mean()\n",
    "    \n",
    "    # Clean metric names for display\n",
    "    metric_names = [col.replace('baseline_', '') for col in baseline_metrics]\n",
    "    \n",
    "    # Plot\n",
    "    plt.figure(figsize=(14, 6))\n",
    "    x = np.arange(len(metric_names))\n",
    "    width = 0.35\n",
    "    \n",
    "    plt.bar(x - width/2, baseline_means, width, label='Baseline', color='skyblue')\n",
    "    plt.bar(x + width/2, finetuned_means, width, label='Finetuned', color='salmon')\n",
    "    \n",
    "    plt.xlabel('Metrics')\n",
    "    plt.ylabel('Average Score')\n",
    "    plt.title('Average Metric Scores: Baseline vs Finetuned')\n",
    "    plt.xticks(x, metric_names, rotation=45, ha='right')\n",
    "    plt.legend()\n",
    "    plt.tight_layout()\n",
    "    plt.show()"
   ]
  },
  {
   "cell_type": "code",
   "execution_count": 14,
   "metadata": {
    "execution": {
     "iopub.execute_input": "2025-04-06T03:51:28.356252Z",
     "iopub.status.busy": "2025-04-06T03:51:28.355472Z",
     "iopub.status.idle": "2025-04-06T03:51:28.831727Z",
     "shell.execute_reply": "2025-04-06T03:51:28.830673Z",
     "shell.execute_reply.started": "2025-04-06T03:51:28.356216Z"
    },
    "trusted": true
   },
   "outputs": [
    {
     "data": {
      "image/png": "[encoded data removed]",
      "text/plain": [
       "<Figure size 1400x600 with 1 Axes>"
      ]
     },
     "metadata": {},
     "output_type": "display_data"
    }
   ],
   "source": [
    "# Run visualizations\n",
    "plot_average_metrics(df)"
   ]
  }
 ],
 "metadata": {
  "kaggle": {
   "accelerator": "nvidiaTeslaT4",
   "dataSources": [
    {
     "datasetId": 7060245,
     "sourceId": 11291110,
     "sourceType": "datasetVersion"
    }
   ],
   "dockerImageVersionId": 30919,
   "isGpuEnabled": true,
   "isInternetEnabled": true,
   "language": "python",
   "sourceType": "notebook"
  },
  "kernelspec": {
   "display_name": "Python 3",
   "language": "python",
   "name": "python3"
  },
  "language_info": {
   "codemirror_mode": {
    "name": "ipython",
    "version": 3
   },
   "file_extension": ".py",
   "mimetype": "text/x-python",
   "name": "python",
   "nbconvert_exporter": "python",
   "pygments_lexer": "ipython3",
   "version": "3.10.12"
  }
 },
 "nbformat": 4,
 "nbformat_minor": 4
}
