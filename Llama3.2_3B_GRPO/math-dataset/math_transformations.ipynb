{
 "cells": [
  {
   "cell_type": "code",
   "execution_count": 1,
   "metadata": {},
   "outputs": [
    {
     "name": "stdout",
     "output_type": "stream",
     "text": [
      "Requirement already satisfied: TexSoup in ./venv/lib/python3.12/site-packages (0.3.1)\n",
      "\n",
      "\u001b[1m[\u001b[0m\u001b[34;49mnotice\u001b[0m\u001b[1;39;49m]\u001b[0m\u001b[39;49m A new release of pip is available: \u001b[0m\u001b[31;49m24.2\u001b[0m\u001b[39;49m -> \u001b[0m\u001b[32;49m24.3.1\u001b[0m\n",
      "\u001b[1m[\u001b[0m\u001b[34;49mnotice\u001b[0m\u001b[1;39;49m]\u001b[0m\u001b[39;49m To update, run: \u001b[0m\u001b[32;49mpip install --upgrade pip\u001b[0m\n"
     ]
    }
   ],
   "source": [
    "!pip install TexSoup"
   ]
  },
  {
   "cell_type": "code",
   "execution_count": 2,
   "metadata": {},
   "outputs": [],
   "source": [
    "import pandas as pd\n",
    "import json\n",
    "import os\n",
    "\n",
    "from sklearn.model_selection import train_test_split\n",
    "from TexSoup import TexSoup"
   ]
  },
  {
   "cell_type": "markdown",
   "metadata": {},
   "source": [
    "### Train Set"
   ]
  },
  {
   "cell_type": "code",
   "execution_count": 3,
   "metadata": {},
   "outputs": [],
   "source": [
    "DATASET_FOLDER = os.path.join(os.path.join(\"datasets\", \"MATH\"), \"train\")\n",
    "COUNT = 1"
   ]
  },
  {
   "cell_type": "code",
   "execution_count": 4,
   "metadata": {},
   "outputs": [],
   "source": [
    "math_dataset = {\n",
    "    \"dataset_id\": [],\n",
    "    \"question_id\": [], \n",
    "    \"question_text\": [],\n",
    "    \"answer\":[],\n",
    "    \"reasoning\":[]\n",
    "}"
   ]
  },
  {
   "cell_type": "markdown",
   "metadata": {},
   "source": [
    "#### algebra"
   ]
  },
  {
   "cell_type": "code",
   "execution_count": 5,
   "metadata": {},
   "outputs": [],
   "source": [
    "TOPIC_FOLDER = os.path.join(DATASET_FOLDER, \"algebra\")"
   ]
  },
  {
   "cell_type": "code",
   "execution_count": 6,
   "metadata": {},
   "outputs": [
    {
     "name": "stdout",
     "output_type": "stream",
     "text": [
      "1744\n"
     ]
    }
   ],
   "source": [
    "json_files = [\n",
    "    pos_json for pos_json in os.listdir(TOPIC_FOLDER) if pos_json.endswith(\".json\")\n",
    "]\n",
    "json_files = sorted(json_files)\n",
    "print(len(json_files))"
   ]
  },
  {
   "cell_type": "code",
   "execution_count": 7,
   "metadata": {},
   "outputs": [
    {
     "name": "stdout",
     "output_type": "stream",
     "text": [
      "Skipping 12.json due to Latex parsing errors.\n",
      "Skipping 24014.json due to Latex parsing errors.\n",
      "Skipping 25040.json due to Latex parsing errors.\n",
      "Skipping 399.json due to Latex parsing errors.\n",
      "Skipping 946.json due to Latex parsing errors.\n"
     ]
    }
   ],
   "source": [
    "for json_file in json_files:\n",
    "    data = json.load(open(os.path.join(TOPIC_FOLDER, json_file), \"r\"))\n",
    "    try:\n",
    "        answers = \" and \".join(\n",
    "            [x.text[0] for x in TexSoup(data[\"solution\"]).find_all(\"boxed\")]\n",
    "        )\n",
    "    except:\n",
    "        print(f\"Skipping {json_file} due to Latex parsing errors.\")\n",
    "        continue\n",
    "    math_dataset[\"dataset_id\"].append(2)\n",
    "    math_dataset[\"question_id\"].append(COUNT)\n",
    "    math_dataset[\"question_text\"].append(data[\"problem\"])\n",
    "    math_dataset[\"answer\"].append(f\"Hence the answer to this question is ${answers}$.\")\n",
    "    math_dataset[\"reasoning\"].append(data[\"solution\"])\n",
    "    COUNT = COUNT + 1"
   ]
  },
  {
   "cell_type": "code",
   "execution_count": 8,
   "metadata": {},
   "outputs": [
    {
     "data": {
      "text/plain": [
       "1739"
      ]
     },
     "execution_count": 8,
     "metadata": {},
     "output_type": "execute_result"
    }
   ],
   "source": [
    "len(math_dataset[\"dataset_id\"])"
   ]
  },
  {
   "cell_type": "markdown",
   "metadata": {},
   "source": [
    "#### counting_and_probability"
   ]
  },
  {
   "cell_type": "code",
   "execution_count": 9,
   "metadata": {},
   "outputs": [],
   "source": [
    "TOPIC_FOLDER = os.path.join(DATASET_FOLDER, \"counting_and_probability\")"
   ]
  },
  {
   "cell_type": "code",
   "execution_count": 10,
   "metadata": {},
   "outputs": [
    {
     "name": "stdout",
     "output_type": "stream",
     "text": [
      "771\n"
     ]
    }
   ],
   "source": [
    "json_files = [\n",
    "    pos_json for pos_json in os.listdir(TOPIC_FOLDER) if pos_json.endswith(\".json\")\n",
    "]\n",
    "json_files = sorted(json_files)\n",
    "print(len(json_files))"
   ]
  },
  {
   "cell_type": "code",
   "execution_count": 11,
   "metadata": {},
   "outputs": [],
   "source": [
    "for json_file in json_files:\n",
    "    data = json.load(open(os.path.join(TOPIC_FOLDER, json_file), \"r\"))\n",
    "    try:\n",
    "        answers = \" and \".join(\n",
    "            [x.text[0] for x in TexSoup(data[\"solution\"]).find_all(\"boxed\")]\n",
    "        )\n",
    "    except:\n",
    "        print(f\"Skipping {json_file} due to Latex parsing errors.\")\n",
    "        continue\n",
    "    math_dataset[\"dataset_id\"].append(2)\n",
    "    math_dataset[\"question_id\"].append(COUNT)\n",
    "    math_dataset[\"question_text\"].append(data[\"problem\"])\n",
    "    math_dataset[\"answer\"].append(f\"Hence the answer to this question is ${answers}$.\")\n",
    "    math_dataset[\"reasoning\"].append(data[\"solution\"])\n",
    "    COUNT = COUNT + 1"
   ]
  },
  {
   "cell_type": "code",
   "execution_count": 12,
   "metadata": {},
   "outputs": [
    {
     "data": {
      "text/plain": [
       "2510"
      ]
     },
     "execution_count": 12,
     "metadata": {},
     "output_type": "execute_result"
    }
   ],
   "source": [
    "len(math_dataset[\"dataset_id\"])"
   ]
  },
  {
   "cell_type": "markdown",
   "metadata": {},
   "source": [
    "#### geometry"
   ]
  },
  {
   "cell_type": "code",
   "execution_count": 13,
   "metadata": {},
   "outputs": [],
   "source": [
    "TOPIC_FOLDER = os.path.join(DATASET_FOLDER, \"geometry\")"
   ]
  },
  {
   "cell_type": "code",
   "execution_count": 14,
   "metadata": {},
   "outputs": [
    {
     "name": "stdout",
     "output_type": "stream",
     "text": [
      "870\n"
     ]
    }
   ],
   "source": [
    "json_files = [\n",
    "    pos_json for pos_json in os.listdir(TOPIC_FOLDER) if pos_json.endswith(\".json\")\n",
    "]\n",
    "json_files = sorted(json_files)\n",
    "print(len(json_files))"
   ]
  },
  {
   "cell_type": "code",
   "execution_count": 15,
   "metadata": {},
   "outputs": [
    {
     "name": "stdout",
     "output_type": "stream",
     "text": [
      "Skipping 6031.json due to Latex parsing errors.\n",
      "Skipping 6113.json due to Latex parsing errors.\n",
      "Skipping 6164.json due to Latex parsing errors.\n",
      "Skipping 9.json due to Latex parsing errors.\n"
     ]
    }
   ],
   "source": [
    "for json_file in json_files:\n",
    "    data = json.load(open(os.path.join(TOPIC_FOLDER, json_file), \"r\"))\n",
    "    try:\n",
    "        answers = \" and \".join(\n",
    "            [x.text[0] for x in TexSoup(data[\"solution\"]).find_all(\"boxed\")]\n",
    "        )\n",
    "    except:\n",
    "        print(f\"Skipping {json_file} due to Latex parsing errors.\")\n",
    "        continue\n",
    "    math_dataset[\"dataset_id\"].append(2)\n",
    "    math_dataset[\"question_id\"].append(COUNT)\n",
    "    math_dataset[\"question_text\"].append(data[\"problem\"])\n",
    "    math_dataset[\"answer\"].append(f\"Hence the answer to this question is ${answers}$.\")\n",
    "    math_dataset[\"reasoning\"].append(data[\"solution\"])\n",
    "    COUNT = COUNT + 1"
   ]
  },
  {
   "cell_type": "code",
   "execution_count": 16,
   "metadata": {},
   "outputs": [
    {
     "data": {
      "text/plain": [
       "3376"
      ]
     },
     "execution_count": 16,
     "metadata": {},
     "output_type": "execute_result"
    }
   ],
   "source": [
    "len(math_dataset[\"dataset_id\"])"
   ]
  },
  {
   "cell_type": "markdown",
   "metadata": {},
   "source": [
    "#### intermediate_algebra"
   ]
  },
  {
   "cell_type": "code",
   "execution_count": 17,
   "metadata": {},
   "outputs": [],
   "source": [
    "TOPIC_FOLDER = os.path.join(DATASET_FOLDER, \"intermediate_algebra\")"
   ]
  },
  {
   "cell_type": "code",
   "execution_count": 18,
   "metadata": {},
   "outputs": [
    {
     "name": "stdout",
     "output_type": "stream",
     "text": [
      "1295\n"
     ]
    }
   ],
   "source": [
    "json_files = [\n",
    "    pos_json for pos_json in os.listdir(TOPIC_FOLDER) if pos_json.endswith(\".json\")\n",
    "]\n",
    "json_files = sorted(json_files)\n",
    "print(len(json_files))"
   ]
  },
  {
   "cell_type": "code",
   "execution_count": 19,
   "metadata": {},
   "outputs": [],
   "source": [
    "for json_file in json_files:\n",
    "    data = json.load(open(os.path.join(TOPIC_FOLDER, json_file), \"r\"))\n",
    "    try:\n",
    "        answers = \" and \".join(\n",
    "            [x.text[0] for x in TexSoup(data[\"solution\"]).find_all(\"boxed\")]\n",
    "        )\n",
    "    except:\n",
    "        print(f\"Skipping {json_file} due to Latex parsing errors.\")\n",
    "        continue\n",
    "    math_dataset[\"dataset_id\"].append(2)\n",
    "    math_dataset[\"question_id\"].append(COUNT)\n",
    "    math_dataset[\"question_text\"].append(data[\"problem\"])\n",
    "    math_dataset[\"answer\"].append(f\"Hence the answer to this question is ${answers}$.\")\n",
    "    math_dataset[\"reasoning\"].append(data[\"solution\"])\n",
    "    COUNT = COUNT + 1"
   ]
  },
  {
   "cell_type": "code",
   "execution_count": 20,
   "metadata": {},
   "outputs": [
    {
     "data": {
      "text/plain": [
       "4671"
      ]
     },
     "execution_count": 20,
     "metadata": {},
     "output_type": "execute_result"
    }
   ],
   "source": [
    "len(math_dataset[\"dataset_id\"])"
   ]
  },
  {
   "cell_type": "markdown",
   "metadata": {},
   "source": [
    "#### number_theory"
   ]
  },
  {
   "cell_type": "code",
   "execution_count": 21,
   "metadata": {},
   "outputs": [],
   "source": [
    "TOPIC_FOLDER = os.path.join(DATASET_FOLDER, \"number_theory\")"
   ]
  },
  {
   "cell_type": "code",
   "execution_count": 22,
   "metadata": {},
   "outputs": [
    {
     "name": "stdout",
     "output_type": "stream",
     "text": [
      "869\n"
     ]
    }
   ],
   "source": [
    "json_files = [\n",
    "    pos_json for pos_json in os.listdir(TOPIC_FOLDER) if pos_json.endswith(\".json\")\n",
    "]\n",
    "json_files = sorted(json_files)\n",
    "print(len(json_files))"
   ]
  },
  {
   "cell_type": "code",
   "execution_count": 23,
   "metadata": {},
   "outputs": [
    {
     "name": "stdout",
     "output_type": "stream",
     "text": [
      "Skipping 7050.json due to Latex parsing errors.\n",
      "Skipping 7069.json due to Latex parsing errors.\n",
      "Skipping 7115.json due to Latex parsing errors.\n",
      "Skipping 7117.json due to Latex parsing errors.\n"
     ]
    }
   ],
   "source": [
    "for json_file in json_files:\n",
    "    data = json.load(open(os.path.join(TOPIC_FOLDER, json_file), \"r\"))\n",
    "    try:\n",
    "        answers = \" and \".join(\n",
    "            [x.text[0] for x in TexSoup(data[\"solution\"]).find_all(\"boxed\")]\n",
    "        )\n",
    "    except:\n",
    "        print(f\"Skipping {json_file} due to Latex parsing errors.\")\n",
    "        continue\n",
    "    math_dataset[\"dataset_id\"].append(2)\n",
    "    math_dataset[\"question_id\"].append(COUNT)\n",
    "    math_dataset[\"question_text\"].append(data[\"problem\"])\n",
    "    math_dataset[\"answer\"].append(f\"Hence the answer to this question is ${answers}$.\")\n",
    "    math_dataset[\"reasoning\"].append(data[\"solution\"])\n",
    "    COUNT = COUNT + 1"
   ]
  },
  {
   "cell_type": "code",
   "execution_count": 24,
   "metadata": {},
   "outputs": [
    {
     "data": {
      "text/plain": [
       "5536"
      ]
     },
     "execution_count": 24,
     "metadata": {},
     "output_type": "execute_result"
    }
   ],
   "source": [
    "len(math_dataset[\"dataset_id\"])"
   ]
  },
  {
   "cell_type": "markdown",
   "metadata": {},
   "source": [
    "#### prealgebra"
   ]
  },
  {
   "cell_type": "code",
   "execution_count": 25,
   "metadata": {},
   "outputs": [],
   "source": [
    "TOPIC_FOLDER = os.path.join(DATASET_FOLDER, \"prealgebra\")"
   ]
  },
  {
   "cell_type": "code",
   "execution_count": 26,
   "metadata": {},
   "outputs": [
    {
     "name": "stdout",
     "output_type": "stream",
     "text": [
      "1205\n"
     ]
    }
   ],
   "source": [
    "json_files = [\n",
    "    pos_json for pos_json in os.listdir(TOPIC_FOLDER) if pos_json.endswith(\".json\")\n",
    "]\n",
    "json_files = sorted(json_files)\n",
    "print(len(json_files))"
   ]
  },
  {
   "cell_type": "code",
   "execution_count": 27,
   "metadata": {},
   "outputs": [],
   "source": [
    "for json_file in json_files:\n",
    "    data = json.load(open(os.path.join(TOPIC_FOLDER, json_file), \"r\"))\n",
    "    try:\n",
    "        answers = \" and \".join(\n",
    "            [x.text[0] for x in TexSoup(data[\"solution\"]).find_all(\"boxed\")]\n",
    "        )\n",
    "    except:\n",
    "        print(f\"Skipping {json_file} due to Latex parsing errors.\")\n",
    "        continue\n",
    "    math_dataset[\"dataset_id\"].append(2)\n",
    "    math_dataset[\"question_id\"].append(COUNT)\n",
    "    math_dataset[\"question_text\"].append(data[\"problem\"])\n",
    "    math_dataset[\"answer\"].append(f\"Hence the answer to this question is ${answers}$.\")\n",
    "    math_dataset[\"reasoning\"].append(data[\"solution\"])\n",
    "    COUNT = COUNT + 1"
   ]
  },
  {
   "cell_type": "code",
   "execution_count": 28,
   "metadata": {},
   "outputs": [
    {
     "data": {
      "text/plain": [
       "6741"
      ]
     },
     "execution_count": 28,
     "metadata": {},
     "output_type": "execute_result"
    }
   ],
   "source": [
    "len(math_dataset[\"dataset_id\"])"
   ]
  },
  {
   "cell_type": "markdown",
   "metadata": {},
   "source": [
    "#### precalculus"
   ]
  },
  {
   "cell_type": "code",
   "execution_count": 29,
   "metadata": {},
   "outputs": [],
   "source": [
    "TOPIC_FOLDER = os.path.join(DATASET_FOLDER, \"precalculus\")"
   ]
  },
  {
   "cell_type": "code",
   "execution_count": 30,
   "metadata": {},
   "outputs": [
    {
     "name": "stdout",
     "output_type": "stream",
     "text": [
      "746\n"
     ]
    }
   ],
   "source": [
    "json_files = [\n",
    "    pos_json for pos_json in os.listdir(TOPIC_FOLDER) if pos_json.endswith(\".json\")\n",
    "]\n",
    "json_files = sorted(json_files)\n",
    "print(len(json_files))"
   ]
  },
  {
   "cell_type": "code",
   "execution_count": 31,
   "metadata": {},
   "outputs": [
    {
     "name": "stdout",
     "output_type": "stream",
     "text": [
      "Skipping 157.json due to Latex parsing errors.\n",
      "Skipping 765.json due to Latex parsing errors.\n"
     ]
    }
   ],
   "source": [
    "for json_file in json_files:\n",
    "    data = json.load(open(os.path.join(TOPIC_FOLDER, json_file), \"r\"))\n",
    "    try:\n",
    "        answers = \" and \".join(\n",
    "            [x.text[0] for x in TexSoup(data[\"solution\"]).find_all(\"boxed\")]\n",
    "        )\n",
    "    except:\n",
    "        print(f\"Skipping {json_file} due to Latex parsing errors.\")\n",
    "        continue\n",
    "    math_dataset[\"dataset_id\"].append(2)\n",
    "    math_dataset[\"question_id\"].append(COUNT)\n",
    "    math_dataset[\"question_text\"].append(data[\"problem\"])\n",
    "    math_dataset[\"answer\"].append(f\"Hence the answer to this question is ${answers}$.\")\n",
    "    math_dataset[\"reasoning\"].append(data[\"solution\"])\n",
    "    COUNT = COUNT + 1"
   ]
  },
  {
   "cell_type": "code",
   "execution_count": 32,
   "metadata": {},
   "outputs": [
    {
     "data": {
      "text/plain": [
       "7485"
      ]
     },
     "execution_count": 32,
     "metadata": {},
     "output_type": "execute_result"
    }
   ],
   "source": [
    "len(math_dataset[\"dataset_id\"])"
   ]
  },
  {
   "cell_type": "markdown",
   "metadata": {},
   "source": [
    "### Save Train and Validation splits"
   ]
  },
  {
   "cell_type": "code",
   "execution_count": 33,
   "metadata": {},
   "outputs": [],
   "source": [
    "train_df = pd.DataFrame(math_dataset)\n",
    "train_df, val_df = train_test_split(train_df, test_size=0.20, random_state=42)"
   ]
  },
  {
   "cell_type": "code",
   "execution_count": 34,
   "metadata": {},
   "outputs": [
    {
     "data": {
      "text/html": [
       "<div>\n",
       "<style scoped>\n",
       "    .dataframe tbody tr th:only-of-type {\n",
       "        vertical-align: middle;\n",
       "    }\n",
       "\n",
       "    .dataframe tbody tr th {\n",
       "        vertical-align: top;\n",
       "    }\n",
       "\n",
       "    .dataframe thead th {\n",
       "        text-align: right;\n",
       "    }\n",
       "</style>\n",
       "<table border=\"1\" class=\"dataframe\">\n",
       "  <thead>\n",
       "    <tr style=\"text-align: right;\">\n",
       "      <th></th>\n",
       "      <th>dataset_id</th>\n",
       "      <th>question_id</th>\n",
       "      <th>question_text</th>\n",
       "      <th>answer</th>\n",
       "      <th>reasoning</th>\n",
       "    </tr>\n",
       "  </thead>\n",
       "  <tbody>\n",
       "    <tr>\n",
       "      <th>426</th>\n",
       "      <td>2</td>\n",
       "      <td>427</td>\n",
       "      <td>Find the equation whose graph is a parabola wi...</td>\n",
       "      <td>Hence the answer to this question is $-3x^2+12...</td>\n",
       "      <td>Since the axis of symmetry is vertical and the...</td>\n",
       "    </tr>\n",
       "    <tr>\n",
       "      <th>1593</th>\n",
       "      <td>2</td>\n",
       "      <td>1594</td>\n",
       "      <td>If $f(x)=\\sqrt{x-3}$, what is the smallest rea...</td>\n",
       "      <td>Hence the answer to this question is $12$.</td>\n",
       "      <td>Note that $f(x)$ is defined if and only if $x\\...</td>\n",
       "    </tr>\n",
       "    <tr>\n",
       "      <th>805</th>\n",
       "      <td>2</td>\n",
       "      <td>806</td>\n",
       "      <td>Positive real numbers $r,s$ satisfy the equati...</td>\n",
       "      <td>Hence the answer to this question is $1$.</td>\n",
       "      <td>We have $2r^2s^2 = (r^4 + 2r^2s^2 + s^4) - (r^...</td>\n",
       "    </tr>\n",
       "    <tr>\n",
       "      <th>410</th>\n",
       "      <td>2</td>\n",
       "      <td>411</td>\n",
       "      <td>If $\\log_{25}(x-4)=\\frac{1}{2}$, find $\\frac{1...</td>\n",
       "      <td>Hence the answer to this question is $2$.</td>\n",
       "      <td>First we solve for $x$. Converting our logarit...</td>\n",
       "    </tr>\n",
       "    <tr>\n",
       "      <th>6259</th>\n",
       "      <td>2</td>\n",
       "      <td>6260</td>\n",
       "      <td>How many perfect squares are two-digit and div...</td>\n",
       "      <td>Hence the answer to this question is $2$.</td>\n",
       "      <td>Recall that no perfect squares are negative, b...</td>\n",
       "    </tr>\n",
       "  </tbody>\n",
       "</table>\n",
       "</div>"
      ],
      "text/plain": [
       "      dataset_id  question_id  \\\n",
       "426            2          427   \n",
       "1593           2         1594   \n",
       "805            2          806   \n",
       "410            2          411   \n",
       "6259           2         6260   \n",
       "\n",
       "                                          question_text  \\\n",
       "426   Find the equation whose graph is a parabola wi...   \n",
       "1593  If $f(x)=\\sqrt{x-3}$, what is the smallest rea...   \n",
       "805   Positive real numbers $r,s$ satisfy the equati...   \n",
       "410   If $\\log_{25}(x-4)=\\frac{1}{2}$, find $\\frac{1...   \n",
       "6259  How many perfect squares are two-digit and div...   \n",
       "\n",
       "                                                 answer  \\\n",
       "426   Hence the answer to this question is $-3x^2+12...   \n",
       "1593         Hence the answer to this question is $12$.   \n",
       "805           Hence the answer to this question is $1$.   \n",
       "410           Hence the answer to this question is $2$.   \n",
       "6259          Hence the answer to this question is $2$.   \n",
       "\n",
       "                                              reasoning  \n",
       "426   Since the axis of symmetry is vertical and the...  \n",
       "1593  Note that $f(x)$ is defined if and only if $x\\...  \n",
       "805   We have $2r^2s^2 = (r^4 + 2r^2s^2 + s^4) - (r^...  \n",
       "410   First we solve for $x$. Converting our logarit...  \n",
       "6259  Recall that no perfect squares are negative, b...  "
      ]
     },
     "execution_count": 34,
     "metadata": {},
     "output_type": "execute_result"
    }
   ],
   "source": [
    "train_df.head()"
   ]
  },
  {
   "cell_type": "code",
   "execution_count": 35,
   "metadata": {},
   "outputs": [
    {
     "data": {
      "text/html": [
       "<div>\n",
       "<style scoped>\n",
       "    .dataframe tbody tr th:only-of-type {\n",
       "        vertical-align: middle;\n",
       "    }\n",
       "\n",
       "    .dataframe tbody tr th {\n",
       "        vertical-align: top;\n",
       "    }\n",
       "\n",
       "    .dataframe thead th {\n",
       "        text-align: right;\n",
       "    }\n",
       "</style>\n",
       "<table border=\"1\" class=\"dataframe\">\n",
       "  <thead>\n",
       "    <tr style=\"text-align: right;\">\n",
       "      <th></th>\n",
       "      <th>dataset_id</th>\n",
       "      <th>question_id</th>\n",
       "      <th>question_text</th>\n",
       "      <th>answer</th>\n",
       "      <th>reasoning</th>\n",
       "    </tr>\n",
       "  </thead>\n",
       "  <tbody>\n",
       "    <tr>\n",
       "      <th>2826</th>\n",
       "      <td>2</td>\n",
       "      <td>2827</td>\n",
       "      <td>In the staircase-shaped region below, all angl...</td>\n",
       "      <td>Hence the answer to this question is $32$.</td>\n",
       "      <td>We can look at the region as a rectangle with ...</td>\n",
       "    </tr>\n",
       "    <tr>\n",
       "      <th>6956</th>\n",
       "      <td>2</td>\n",
       "      <td>6957</td>\n",
       "      <td>Below is the graph of $y = a \\sin (bx + c) + d...</td>\n",
       "      <td>Hence the answer to this question is $1$.</td>\n",
       "      <td>The graph oscillates between 3 and $-1,$ so $d...</td>\n",
       "    </tr>\n",
       "    <tr>\n",
       "      <th>3014</th>\n",
       "      <td>2</td>\n",
       "      <td>3015</td>\n",
       "      <td>Let $ABCD$ be an isosceles trapezoid with $\\ov...</td>\n",
       "      <td>Hence the answer to this question is $32$.</td>\n",
       "      <td>[asy] size(300); defaultpen(1); pair A=(0,0), ...</td>\n",
       "    </tr>\n",
       "    <tr>\n",
       "      <th>6569</th>\n",
       "      <td>2</td>\n",
       "      <td>6570</td>\n",
       "      <td>Suppose that $x = 2-t$ and $y = 4t + 7$.  If $...</td>\n",
       "      <td>Hence the answer to this question is $27$.</td>\n",
       "      <td>If $x=-3$, then $-3 = 2-t$, so $t = 5$.  There...</td>\n",
       "    </tr>\n",
       "    <tr>\n",
       "      <th>4606</th>\n",
       "      <td>2</td>\n",
       "      <td>4607</td>\n",
       "      <td>Done with her new problems, Wendy takes a brea...</td>\n",
       "      <td>Hence the answer to this question is $1$.</td>\n",
       "      <td>By Vieta's Formulas, given that $r_1, r_2, \\cd...</td>\n",
       "    </tr>\n",
       "  </tbody>\n",
       "</table>\n",
       "</div>"
      ],
      "text/plain": [
       "      dataset_id  question_id  \\\n",
       "2826           2         2827   \n",
       "6956           2         6957   \n",
       "3014           2         3015   \n",
       "6569           2         6570   \n",
       "4606           2         4607   \n",
       "\n",
       "                                          question_text  \\\n",
       "2826  In the staircase-shaped region below, all angl...   \n",
       "6956  Below is the graph of $y = a \\sin (bx + c) + d...   \n",
       "3014  Let $ABCD$ be an isosceles trapezoid with $\\ov...   \n",
       "6569  Suppose that $x = 2-t$ and $y = 4t + 7$.  If $...   \n",
       "4606  Done with her new problems, Wendy takes a brea...   \n",
       "\n",
       "                                          answer  \\\n",
       "2826  Hence the answer to this question is $32$.   \n",
       "6956   Hence the answer to this question is $1$.   \n",
       "3014  Hence the answer to this question is $32$.   \n",
       "6569  Hence the answer to this question is $27$.   \n",
       "4606   Hence the answer to this question is $1$.   \n",
       "\n",
       "                                              reasoning  \n",
       "2826  We can look at the region as a rectangle with ...  \n",
       "6956  The graph oscillates between 3 and $-1,$ so $d...  \n",
       "3014  [asy] size(300); defaultpen(1); pair A=(0,0), ...  \n",
       "6569  If $x=-3$, then $-3 = 2-t$, so $t = 5$.  There...  \n",
       "4606  By Vieta's Formulas, given that $r_1, r_2, \\cd...  "
      ]
     },
     "execution_count": 35,
     "metadata": {},
     "output_type": "execute_result"
    }
   ],
   "source": [
    "val_df.head()"
   ]
  },
  {
   "cell_type": "code",
   "execution_count": 36,
   "metadata": {},
   "outputs": [],
   "source": [
    "train_df.to_csv(\"MATH_train_staging.csv\", index=False)\n",
    "val_df.to_csv(\"MATH_val_staging.csv\", index=False)"
   ]
  },
  {
   "cell_type": "markdown",
   "metadata": {},
   "source": [
    "### Test Set"
   ]
  },
  {
   "cell_type": "code",
   "execution_count": 37,
   "metadata": {},
   "outputs": [],
   "source": [
    "DATASET_FOLDER = os.path.join(os.path.join(\"datasets\", \"MATH\"), \"test\")\n",
    "COUNT = 1"
   ]
  },
  {
   "cell_type": "code",
   "execution_count": 38,
   "metadata": {},
   "outputs": [],
   "source": [
    "math_dataset = {\n",
    "    \"dataset_id\": [],\n",
    "    \"question_id\": [], \n",
    "    \"question_text\": [],\n",
    "    \"answer\":[],\n",
    "    \"reasoning\":[]\n",
    "}"
   ]
  },
  {
   "cell_type": "markdown",
   "metadata": {},
   "source": [
    "#### algebra"
   ]
  },
  {
   "cell_type": "code",
   "execution_count": 39,
   "metadata": {},
   "outputs": [],
   "source": [
    "TOPIC_FOLDER = os.path.join(DATASET_FOLDER, \"algebra\")"
   ]
  },
  {
   "cell_type": "code",
   "execution_count": 40,
   "metadata": {},
   "outputs": [
    {
     "name": "stdout",
     "output_type": "stream",
     "text": [
      "1187\n"
     ]
    }
   ],
   "source": [
    "json_files = [\n",
    "    pos_json for pos_json in os.listdir(TOPIC_FOLDER) if pos_json.endswith(\".json\")\n",
    "]\n",
    "json_files = sorted(json_files)\n",
    "print(len(json_files))"
   ]
  },
  {
   "cell_type": "code",
   "execution_count": 41,
   "metadata": {},
   "outputs": [],
   "source": [
    "for json_file in json_files:\n",
    "    data = json.load(open(os.path.join(TOPIC_FOLDER, json_file), \"r\"))\n",
    "    try:\n",
    "        answers = \" and \".join(\n",
    "            [x.text[0] for x in TexSoup(data[\"solution\"]).find_all(\"boxed\")]\n",
    "        )\n",
    "    except:\n",
    "        print(f\"Skipping {json_file} due to Latex parsing errors.\")\n",
    "        continue\n",
    "    math_dataset[\"dataset_id\"].append(2)\n",
    "    math_dataset[\"question_id\"].append(COUNT)\n",
    "    math_dataset[\"question_text\"].append(data[\"problem\"])\n",
    "    math_dataset[\"answer\"].append(f\"Hence the answer to this question is ${answers}$.\")\n",
    "    math_dataset[\"reasoning\"].append(data[\"solution\"])\n",
    "    COUNT = COUNT + 1"
   ]
  },
  {
   "cell_type": "code",
   "execution_count": 42,
   "metadata": {},
   "outputs": [
    {
     "data": {
      "text/plain": [
       "1187"
      ]
     },
     "execution_count": 42,
     "metadata": {},
     "output_type": "execute_result"
    }
   ],
   "source": [
    "len(math_dataset[\"dataset_id\"])"
   ]
  },
  {
   "cell_type": "markdown",
   "metadata": {},
   "source": [
    "#### counting_and_probability"
   ]
  },
  {
   "cell_type": "code",
   "execution_count": 43,
   "metadata": {},
   "outputs": [],
   "source": [
    "TOPIC_FOLDER = os.path.join(DATASET_FOLDER, \"counting_and_probability\")"
   ]
  },
  {
   "cell_type": "code",
   "execution_count": 44,
   "metadata": {},
   "outputs": [
    {
     "name": "stdout",
     "output_type": "stream",
     "text": [
      "474\n"
     ]
    }
   ],
   "source": [
    "json_files = [\n",
    "    pos_json for pos_json in os.listdir(TOPIC_FOLDER) if pos_json.endswith(\".json\")\n",
    "]\n",
    "json_files = sorted(json_files)\n",
    "print(len(json_files))"
   ]
  },
  {
   "cell_type": "code",
   "execution_count": 45,
   "metadata": {},
   "outputs": [],
   "source": [
    "for json_file in json_files:\n",
    "    data = json.load(open(os.path.join(TOPIC_FOLDER, json_file), \"r\"))\n",
    "    try:\n",
    "        answers = \" and \".join(\n",
    "            [x.text[0] for x in TexSoup(data[\"solution\"]).find_all(\"boxed\")]\n",
    "        )\n",
    "    except:\n",
    "        print(f\"Skipping {json_file} due to Latex parsing errors.\")\n",
    "        continue\n",
    "    math_dataset[\"dataset_id\"].append(2)\n",
    "    math_dataset[\"question_id\"].append(COUNT)\n",
    "    math_dataset[\"question_text\"].append(data[\"problem\"])\n",
    "    math_dataset[\"answer\"].append(f\"Hence the answer to this question is ${answers}$.\")\n",
    "    math_dataset[\"reasoning\"].append(data[\"solution\"])\n",
    "    COUNT = COUNT + 1"
   ]
  },
  {
   "cell_type": "code",
   "execution_count": 46,
   "metadata": {},
   "outputs": [
    {
     "data": {
      "text/plain": [
       "1661"
      ]
     },
     "execution_count": 46,
     "metadata": {},
     "output_type": "execute_result"
    }
   ],
   "source": [
    "len(math_dataset[\"dataset_id\"])"
   ]
  },
  {
   "cell_type": "markdown",
   "metadata": {},
   "source": [
    "#### geometry"
   ]
  },
  {
   "cell_type": "code",
   "execution_count": 47,
   "metadata": {},
   "outputs": [],
   "source": [
    "TOPIC_FOLDER = os.path.join(DATASET_FOLDER, \"geometry\")"
   ]
  },
  {
   "cell_type": "code",
   "execution_count": 48,
   "metadata": {},
   "outputs": [
    {
     "name": "stdout",
     "output_type": "stream",
     "text": [
      "479\n"
     ]
    }
   ],
   "source": [
    "json_files = [\n",
    "    pos_json for pos_json in os.listdir(TOPIC_FOLDER) if pos_json.endswith(\".json\")\n",
    "]\n",
    "json_files = sorted(json_files)\n",
    "print(len(json_files))"
   ]
  },
  {
   "cell_type": "code",
   "execution_count": 49,
   "metadata": {},
   "outputs": [
    {
     "name": "stdout",
     "output_type": "stream",
     "text": [
      "Skipping 916.json due to Latex parsing errors.\n"
     ]
    }
   ],
   "source": [
    "for json_file in json_files:\n",
    "    data = json.load(open(os.path.join(TOPIC_FOLDER, json_file), \"r\"))\n",
    "    try:\n",
    "        answers = \" and \".join(\n",
    "            [x.text[0] for x in TexSoup(data[\"solution\"]).find_all(\"boxed\")]\n",
    "        )\n",
    "    except:\n",
    "        print(f\"Skipping {json_file} due to Latex parsing errors.\")\n",
    "        continue\n",
    "    math_dataset[\"dataset_id\"].append(2)\n",
    "    math_dataset[\"question_id\"].append(COUNT)\n",
    "    math_dataset[\"question_text\"].append(data[\"problem\"])\n",
    "    math_dataset[\"answer\"].append(f\"Hence the answer to this question is ${answers}$.\")\n",
    "    math_dataset[\"reasoning\"].append(data[\"solution\"])\n",
    "    COUNT = COUNT + 1"
   ]
  },
  {
   "cell_type": "code",
   "execution_count": 50,
   "metadata": {},
   "outputs": [
    {
     "data": {
      "text/plain": [
       "2139"
      ]
     },
     "execution_count": 50,
     "metadata": {},
     "output_type": "execute_result"
    }
   ],
   "source": [
    "len(math_dataset[\"dataset_id\"])"
   ]
  },
  {
   "cell_type": "markdown",
   "metadata": {},
   "source": [
    "#### intermediate_algebra"
   ]
  },
  {
   "cell_type": "code",
   "execution_count": 51,
   "metadata": {},
   "outputs": [],
   "source": [
    "TOPIC_FOLDER = os.path.join(DATASET_FOLDER, \"intermediate_algebra\")"
   ]
  },
  {
   "cell_type": "code",
   "execution_count": 52,
   "metadata": {},
   "outputs": [
    {
     "name": "stdout",
     "output_type": "stream",
     "text": [
      "903\n"
     ]
    }
   ],
   "source": [
    "json_files = [\n",
    "    pos_json for pos_json in os.listdir(TOPIC_FOLDER) if pos_json.endswith(\".json\")\n",
    "]\n",
    "json_files = sorted(json_files)\n",
    "print(len(json_files))"
   ]
  },
  {
   "cell_type": "code",
   "execution_count": 53,
   "metadata": {},
   "outputs": [
    {
     "name": "stdout",
     "output_type": "stream",
     "text": [
      "Skipping 1803.json due to Latex parsing errors.\n",
      "Skipping 337.json due to Latex parsing errors.\n"
     ]
    }
   ],
   "source": [
    "for json_file in json_files:\n",
    "    data = json.load(open(os.path.join(TOPIC_FOLDER, json_file), \"r\"))\n",
    "    try:\n",
    "        answers = \" and \".join(\n",
    "            [x.text[0] for x in TexSoup(data[\"solution\"]).find_all(\"boxed\")]\n",
    "        )\n",
    "    except:\n",
    "        print(f\"Skipping {json_file} due to Latex parsing errors.\")\n",
    "        continue\n",
    "    math_dataset[\"dataset_id\"].append(2)\n",
    "    math_dataset[\"question_id\"].append(COUNT)\n",
    "    math_dataset[\"question_text\"].append(data[\"problem\"])\n",
    "    math_dataset[\"answer\"].append(f\"Hence the answer to this question is ${answers}$.\")\n",
    "    math_dataset[\"reasoning\"].append(data[\"solution\"])\n",
    "    COUNT = COUNT + 1"
   ]
  },
  {
   "cell_type": "code",
   "execution_count": 54,
   "metadata": {},
   "outputs": [
    {
     "data": {
      "text/plain": [
       "3040"
      ]
     },
     "execution_count": 54,
     "metadata": {},
     "output_type": "execute_result"
    }
   ],
   "source": [
    "len(math_dataset[\"dataset_id\"])"
   ]
  },
  {
   "cell_type": "markdown",
   "metadata": {},
   "source": [
    "#### number_theory"
   ]
  },
  {
   "cell_type": "code",
   "execution_count": 55,
   "metadata": {},
   "outputs": [],
   "source": [
    "TOPIC_FOLDER = os.path.join(DATASET_FOLDER, \"number_theory\")"
   ]
  },
  {
   "cell_type": "code",
   "execution_count": 56,
   "metadata": {},
   "outputs": [
    {
     "name": "stdout",
     "output_type": "stream",
     "text": [
      "540\n"
     ]
    }
   ],
   "source": [
    "json_files = [\n",
    "    pos_json for pos_json in os.listdir(TOPIC_FOLDER) if pos_json.endswith(\".json\")\n",
    "]\n",
    "json_files = sorted(json_files)\n",
    "print(len(json_files))"
   ]
  },
  {
   "cell_type": "code",
   "execution_count": 57,
   "metadata": {},
   "outputs": [],
   "source": [
    "for json_file in json_files:\n",
    "    data = json.load(open(os.path.join(TOPIC_FOLDER, json_file), \"r\"))\n",
    "    try:\n",
    "        answers = \" and \".join(\n",
    "            [x.text[0] for x in TexSoup(data[\"solution\"]).find_all(\"boxed\")]\n",
    "        )\n",
    "    except:\n",
    "        print(f\"Skipping {json_file} due to Latex parsing errors.\")\n",
    "        continue\n",
    "    math_dataset[\"dataset_id\"].append(2)\n",
    "    math_dataset[\"question_id\"].append(COUNT)\n",
    "    math_dataset[\"question_text\"].append(data[\"problem\"])\n",
    "    math_dataset[\"answer\"].append(f\"Hence the answer to this question is ${answers}$.\")\n",
    "    math_dataset[\"reasoning\"].append(data[\"solution\"])\n",
    "    COUNT = COUNT + 1"
   ]
  },
  {
   "cell_type": "code",
   "execution_count": 58,
   "metadata": {},
   "outputs": [
    {
     "data": {
      "text/plain": [
       "3580"
      ]
     },
     "execution_count": 58,
     "metadata": {},
     "output_type": "execute_result"
    }
   ],
   "source": [
    "len(math_dataset[\"dataset_id\"])"
   ]
  },
  {
   "cell_type": "markdown",
   "metadata": {},
   "source": [
    "#### prealgebra"
   ]
  },
  {
   "cell_type": "code",
   "execution_count": 59,
   "metadata": {},
   "outputs": [],
   "source": [
    "TOPIC_FOLDER = os.path.join(DATASET_FOLDER, \"prealgebra\")"
   ]
  },
  {
   "cell_type": "code",
   "execution_count": 60,
   "metadata": {},
   "outputs": [
    {
     "name": "stdout",
     "output_type": "stream",
     "text": [
      "871\n"
     ]
    }
   ],
   "source": [
    "json_files = [\n",
    "    pos_json for pos_json in os.listdir(TOPIC_FOLDER) if pos_json.endswith(\".json\")\n",
    "]\n",
    "json_files = sorted(json_files)\n",
    "print(len(json_files))"
   ]
  },
  {
   "cell_type": "code",
   "execution_count": 61,
   "metadata": {},
   "outputs": [],
   "source": [
    "for json_file in json_files:\n",
    "    data = json.load(open(os.path.join(TOPIC_FOLDER, json_file), \"r\"))\n",
    "    try:\n",
    "        answers = \" and \".join(\n",
    "            [x.text[0] for x in TexSoup(data[\"solution\"]).find_all(\"boxed\")]\n",
    "        )\n",
    "    except:\n",
    "        print(f\"Skipping {json_file} due to Latex parsing errors.\")\n",
    "        continue\n",
    "    math_dataset[\"dataset_id\"].append(2)\n",
    "    math_dataset[\"question_id\"].append(COUNT)\n",
    "    math_dataset[\"question_text\"].append(data[\"problem\"])\n",
    "    math_dataset[\"answer\"].append(f\"Hence the answer to this question is ${answers}$.\")\n",
    "    math_dataset[\"reasoning\"].append(data[\"solution\"])\n",
    "    COUNT = COUNT + 1"
   ]
  },
  {
   "cell_type": "code",
   "execution_count": 62,
   "metadata": {},
   "outputs": [
    {
     "data": {
      "text/plain": [
       "4451"
      ]
     },
     "execution_count": 62,
     "metadata": {},
     "output_type": "execute_result"
    }
   ],
   "source": [
    "len(math_dataset[\"dataset_id\"])"
   ]
  },
  {
   "cell_type": "markdown",
   "metadata": {},
   "source": [
    "#### precalculus"
   ]
  },
  {
   "cell_type": "code",
   "execution_count": 63,
   "metadata": {},
   "outputs": [],
   "source": [
    "TOPIC_FOLDER = os.path.join(DATASET_FOLDER, \"precalculus\")"
   ]
  },
  {
   "cell_type": "code",
   "execution_count": 64,
   "metadata": {},
   "outputs": [
    {
     "name": "stdout",
     "output_type": "stream",
     "text": [
      "546\n"
     ]
    }
   ],
   "source": [
    "json_files = [\n",
    "    pos_json for pos_json in os.listdir(TOPIC_FOLDER) if pos_json.endswith(\".json\")\n",
    "]\n",
    "json_files = sorted(json_files)\n",
    "print(len(json_files))"
   ]
  },
  {
   "cell_type": "code",
   "execution_count": 65,
   "metadata": {},
   "outputs": [
    {
     "name": "stdout",
     "output_type": "stream",
     "text": [
      "Skipping 1199.json due to Latex parsing errors.\n",
      "Skipping 1279.json due to Latex parsing errors.\n",
      "Skipping 35.json due to Latex parsing errors.\n",
      "Skipping 430.json due to Latex parsing errors.\n",
      "Skipping 493.json due to Latex parsing errors.\n"
     ]
    }
   ],
   "source": [
    "for json_file in json_files:\n",
    "    data = json.load(open(os.path.join(TOPIC_FOLDER, json_file), \"r\"))\n",
    "    try:\n",
    "        answers = \" and \".join(\n",
    "            [x.text[0] for x in TexSoup(data[\"solution\"]).find_all(\"boxed\")]\n",
    "        )\n",
    "    except:\n",
    "        print(f\"Skipping {json_file} due to Latex parsing errors.\")\n",
    "        continue\n",
    "    math_dataset[\"dataset_id\"].append(2)\n",
    "    math_dataset[\"question_id\"].append(COUNT)\n",
    "    math_dataset[\"question_text\"].append(data[\"problem\"])\n",
    "    math_dataset[\"answer\"].append(f\"Hence the answer to this question is ${answers}$.\")\n",
    "    math_dataset[\"reasoning\"].append(data[\"solution\"])\n",
    "    COUNT = COUNT + 1"
   ]
  },
  {
   "cell_type": "code",
   "execution_count": 66,
   "metadata": {},
   "outputs": [
    {
     "data": {
      "text/plain": [
       "4992"
      ]
     },
     "execution_count": 66,
     "metadata": {},
     "output_type": "execute_result"
    }
   ],
   "source": [
    "len(math_dataset[\"dataset_id\"])"
   ]
  },
  {
   "cell_type": "markdown",
   "metadata": {},
   "source": [
    "### Save Test splits"
   ]
  },
  {
   "cell_type": "code",
   "execution_count": 67,
   "metadata": {},
   "outputs": [],
   "source": [
    "test_df = pd.DataFrame(math_dataset)"
   ]
  },
  {
   "cell_type": "code",
   "execution_count": 68,
   "metadata": {},
   "outputs": [
    {
     "data": {
      "text/html": [
       "<div>\n",
       "<style scoped>\n",
       "    .dataframe tbody tr th:only-of-type {\n",
       "        vertical-align: middle;\n",
       "    }\n",
       "\n",
       "    .dataframe tbody tr th {\n",
       "        vertical-align: top;\n",
       "    }\n",
       "\n",
       "    .dataframe thead th {\n",
       "        text-align: right;\n",
       "    }\n",
       "</style>\n",
       "<table border=\"1\" class=\"dataframe\">\n",
       "  <thead>\n",
       "    <tr style=\"text-align: right;\">\n",
       "      <th></th>\n",
       "      <th>dataset_id</th>\n",
       "      <th>question_id</th>\n",
       "      <th>question_text</th>\n",
       "      <th>answer</th>\n",
       "      <th>reasoning</th>\n",
       "    </tr>\n",
       "  </thead>\n",
       "  <tbody>\n",
       "    <tr>\n",
       "      <th>0</th>\n",
       "      <td>2</td>\n",
       "      <td>1</td>\n",
       "      <td>How many vertical asymptotes does the graph of...</td>\n",
       "      <td>Hence the answer to this question is $2$.</td>\n",
       "      <td>The denominator of the rational function facto...</td>\n",
       "    </tr>\n",
       "    <tr>\n",
       "      <th>1</th>\n",
       "      <td>2</td>\n",
       "      <td>2</td>\n",
       "      <td>What is the positive difference between $120\\%...</td>\n",
       "      <td>Hence the answer to this question is $10$.</td>\n",
       "      <td>One hundred twenty percent of 30 is $120\\cdot3...</td>\n",
       "    </tr>\n",
       "    <tr>\n",
       "      <th>2</th>\n",
       "      <td>2</td>\n",
       "      <td>3</td>\n",
       "      <td>Find $x$ such that $\\lceil x \\rceil + x = \\dfr...</td>\n",
       "      <td>Hence the answer to this question is $9$.</td>\n",
       "      <td>First, we note that $x$ must be positive, sinc...</td>\n",
       "    </tr>\n",
       "    <tr>\n",
       "      <th>3</th>\n",
       "      <td>2</td>\n",
       "      <td>4</td>\n",
       "      <td>Evaluate $i^5+i^{-25}+i^{45}$.</td>\n",
       "      <td>Hence the answer to this question is $i$.</td>\n",
       "      <td>We have $i^5 = i^4\\cdot i = 1\\cdot (i) = i$.  ...</td>\n",
       "    </tr>\n",
       "    <tr>\n",
       "      <th>4</th>\n",
       "      <td>2</td>\n",
       "      <td>5</td>\n",
       "      <td>If $2^8=4^x$, what is the value of $x$?</td>\n",
       "      <td>Hence the answer to this question is $4$.</td>\n",
       "      <td>Rewrite $4$ as $2^2$ to find $4^x=2^{2x}$.  Si...</td>\n",
       "    </tr>\n",
       "  </tbody>\n",
       "</table>\n",
       "</div>"
      ],
      "text/plain": [
       "   dataset_id  question_id                                      question_text  \\\n",
       "0           2            1  How many vertical asymptotes does the graph of...   \n",
       "1           2            2  What is the positive difference between $120\\%...   \n",
       "2           2            3  Find $x$ such that $\\lceil x \\rceil + x = \\dfr...   \n",
       "3           2            4                     Evaluate $i^5+i^{-25}+i^{45}$.   \n",
       "4           2            5            If $2^8=4^x$, what is the value of $x$?   \n",
       "\n",
       "                                       answer  \\\n",
       "0   Hence the answer to this question is $2$.   \n",
       "1  Hence the answer to this question is $10$.   \n",
       "2   Hence the answer to this question is $9$.   \n",
       "3   Hence the answer to this question is $i$.   \n",
       "4   Hence the answer to this question is $4$.   \n",
       "\n",
       "                                           reasoning  \n",
       "0  The denominator of the rational function facto...  \n",
       "1  One hundred twenty percent of 30 is $120\\cdot3...  \n",
       "2  First, we note that $x$ must be positive, sinc...  \n",
       "3  We have $i^5 = i^4\\cdot i = 1\\cdot (i) = i$.  ...  \n",
       "4  Rewrite $4$ as $2^2$ to find $4^x=2^{2x}$.  Si...  "
      ]
     },
     "execution_count": 68,
     "metadata": {},
     "output_type": "execute_result"
    }
   ],
   "source": [
    "test_df.head()"
   ]
  },
  {
   "cell_type": "code",
   "execution_count": 69,
   "metadata": {},
   "outputs": [],
   "source": [
    "test_df.to_csv(\"MATH_test_staging.csv\", index=False)"
   ]
  }
 ],
 "metadata": {
  "kernelspec": {
   "display_name": "venv",
   "language": "python",
   "name": "python3"
  },
  "language_info": {
   "codemirror_mode": {
    "name": "ipython",
    "version": 3
   },
   "file_extension": ".py",
   "mimetype": "text/x-python",
   "name": "python",
   "nbconvert_exporter": "python",
   "pygments_lexer": "ipython3",
   "version": "3.12.8"
  }
 },
 "nbformat": 4,
 "nbformat_minor": 2
}
